{
 "cells": [
  {
   "cell_type": "code",
   "execution_count": 23,
   "id": "681c717b-4c24-4ac3-a5f3-3c5881d6e70a",
   "metadata": {},
   "outputs": [],
   "source": [
    "import os\n",
    "import re\n",
    "import math\n",
    "import json\n",
    "import random\n",
    "from dotenv import load_dotenv\n",
    "from huggingface_hub import login\n",
    "import matplotlib.pyplot as plt\n",
    "import numpy as np\n",
    "import pickle\n",
    "from collections import Counter\n",
    "from openai import OpenAI\n",
    "# import google.generativeai as genai\n",
    "load_dotenv()\n",
    "openai_api_key = os.getenv('OPENAI_API_KEY')\n",
    "# google_api_key = os.getenv('GOOGLE_API_KEY')\n",
    "hf_token = os.getenv('HF_TOKEN')"
   ]
  },
  {
   "cell_type": "code",
   "execution_count": 2,
   "id": "4dd3aad2-6f99-433c-8792-e461d2f06622",
   "metadata": {},
   "outputs": [
    {
     "name": "stderr",
     "output_type": "stream",
     "text": [
      "Note: Environment variable`HF_TOKEN` is set and is the current active token independently from the token you've just configured.\n"
     ]
    }
   ],
   "source": [
    "login(hf_token)"
   ]
  },
  {
   "cell_type": "code",
   "execution_count": 3,
   "id": "884a50bd-8cae-425e-8e56-f079fc3e65ce",
   "metadata": {},
   "outputs": [],
   "source": [
    "from items import Item\n",
    "from testing import Tester"
   ]
  },
  {
   "cell_type": "code",
   "execution_count": 3,
   "id": "b0a6fb86-74a4-403c-ab25-6db2d74e9d2b",
   "metadata": {},
   "outputs": [],
   "source": [
    "openai = OpenAI()"
   ]
  },
  {
   "cell_type": "code",
   "execution_count": 5,
   "id": "c830ed3e-24ee-4af6-a07b-a1bfdcd39278",
   "metadata": {},
   "outputs": [],
   "source": [
    "%matplotlib inline"
   ]
  },
  {
   "cell_type": "code",
   "execution_count": 10,
   "id": "5c9b05f4-c9eb-462c-8d86-de9140a2d985",
   "metadata": {},
   "outputs": [],
   "source": [
    "with open('train.pkl', 'rb') as file:\n",
    "    train = pickle.load(file)\n",
    "\n",
    "with open('test.pkl', 'rb') as file:\n",
    "    test = pickle.load(file)"
   ]
  },
  {
   "cell_type": "code",
   "execution_count": 7,
   "id": "e8367135-f40e-43e1-8f3c-09e990ab1194",
   "metadata": {},
   "outputs": [],
   "source": [
    "fine_tune_train = train[:300]\n",
    "fine_tune_validation = train[300:350]"
   ]
  },
  {
   "cell_type": "code",
   "execution_count": 8,
   "id": "8ae2fb3c-1cff-4ce3-911e-627c970edd7b",
   "metadata": {},
   "outputs": [],
   "source": [
    "def messages_for(item):\n",
    "    system_message = \"You estimate prices of items. Reply only with the price, no explanation\"\n",
    "    user_prompt = item.test_prompt().replace(\" to the nearest dollar\",\"\").replace(\"\\n\\nPrice is $\",\"\")\n",
    "    return [\n",
    "        {\"role\": \"system\", \"content\": system_message},\n",
    "        {\"role\": \"user\", \"content\": user_prompt},\n",
    "        {\"role\": \"assistant\", \"content\": f\"Price is ${item.price:.2f}\"}\n",
    "    ]"
   ]
  },
  {
   "cell_type": "code",
   "execution_count": 9,
   "id": "1aa280f6-1227-426a-a2e2-1ce985feba1e",
   "metadata": {},
   "outputs": [
    {
     "data": {
      "text/plain": [
       "[{'role': 'system',\n",
       "  'content': 'You estimate prices of items. Reply only with the price, no explanation'},\n",
       " {'role': 'user',\n",
       "  'content': \"How much does this cost?\\n\\nRefresh NSF-53 Premium Replacement Refrigerator Water Filter Compatible with LG and Kenmore (2 Pack)\\nWhy Refresh? Because quality and value are our top priorities; buy with confidence from Refresh and refresh your water today! Refresh your family's water with a PREMIUM PLUS Refresh brand refrigerator water filter. This filter is certified to the higher NSF-53 to remove chlorine, odor, as well as heavy metals, particulates, cysts, and many volatile organic compounds. Save big by purchasing a Refresh filter at up to 50% less than the manufacturer's OEM part, and save more by purchasing a 2 pack or 3 pack! This REFRESH FILTER IS COMPATIBLE with the following Kenmore models 9890 This REFRESH FILTER is also COMPATIBLE with these LG models LT\"},\n",
       " {'role': 'assistant', 'content': 'Price is $34.99'}]"
      ]
     },
     "execution_count": 9,
     "metadata": {},
     "output_type": "execute_result"
    }
   ],
   "source": [
    "messages_for(train[100])"
   ]
  },
  {
   "cell_type": "code",
   "execution_count": 10,
   "id": "c0e5b56c-8a0b-4d8e-a112-ce87efb4e152",
   "metadata": {},
   "outputs": [],
   "source": [
    "def make_jsonl(items):\n",
    "    result = \"\"\n",
    "    for item in items:\n",
    "        messages = messages_for(item)\n",
    "        messages_str = json.dumps(messages)\n",
    "        result += '{\"messages\": ' + messages_str +'}\\n'\n",
    "    return result.strip()"
   ]
  },
  {
   "cell_type": "code",
   "execution_count": 11,
   "id": "5e72de93-a6a6-4b35-855e-15786b97bf5f",
   "metadata": {},
   "outputs": [
    {
     "name": "stdout",
     "output_type": "stream",
     "text": [
      "{\"messages\": [{\"role\": \"system\", \"content\": \"You estimate prices of items. Reply only with the price, no explanation\"}, {\"role\": \"user\", \"content\": \"How much does this cost?\\n\\nRefrigerator Door Handle Replacement for Frigidaire Refrigerator - Compatible with Black Door Handle - UpStart Components Brand\\nUpStart Components Replacement Refrigerator Door Handle for Frigidaire RefrigeratorPlease note This is an UpStart Components Brand replacement part, NOT an OEM product. All mentions of brand names or model descriptions are made strictly to illustrate compatibility. All brand names and logos are registered trademarks of their respective owners. This product is not affiliated with any brands and is not covered under any warranties offered by the original manufacturers. Any warranties for this product are offered solely by UpStart Components. UpStart Components Replacement Refrigerator Door Handle for Frigidaire Refrigerator Ultra durable, high quality material resists wear and tear over time. Easy at-home installation. An affordable way to extend the\"}, {\"role\": \"assistant\", \"content\": \"Price is $24.99\"}]}\n",
      "{\"messages\": [{\"role\": \"system\", \"content\": \"You estimate prices of items. Reply only with the price, no explanation\"}, {\"role\": \"user\", \"content\": \"How much does this cost?\\n\\nFarmhouse Rustic Coffee Filter Holder Basket, Wooden Organizer Pour Over Coffee Station Filter Storage Container, Decorative Distressed Countertop Coffee Filter Case (black)\\nStore Filters In Style This coffee decor filter holder uses a rustic farmhouse design which coupled with the sturdy wood and spacious storage lets you store coffee filters neatly and safely in one convenient spot while adding an aesthetic and eye-catching touch to your decor Sturdy Wood Build The cone coffee filters holder is handmade with close attention to even the smallest details using durable and sturdy wood to provide long-term use. They are made to last and maintain their rustic charm that looks even better in the long run Spacious And Protective We designed the filter paper holder with a lid that protects the filters inside from moisture and dust. The coffee filter holder storage measures 6.3x\"}, {\"role\": \"assistant\", \"content\": \"Price is $15.95\"}]}\n",
      "{\"messages\": [{\"role\": \"system\", \"content\": \"You estimate prices of items. Reply only with the price, no explanation\"}, {\"role\": \"user\", \"content\": \"How much does this cost?\\n\\nWhole Parts Burner Grate (Black) Part # - Replacement & Compatible With Some Viking Ranges - Replaces 952543 - Non-OEM Viking Appliance Parts & Accessories - 2 Yr Warranty\\n\\ud83d\\udd27 Whole Parts Burner Grate. This Part Replaces \\u2714\\ufe0f Compatible models are but not limited to and more! \\ud83d\\udcb2 MANUFACTURED AND TESTED to function as well as original OEM Branded Parts but at a better value than the a comparable original equipment manufacturer part \\ud83d\\udcaa QUALITY, DURABILITY, FUNCTION at a reasonable price for both the professional repairman and DIY repairs of home kitchen appliances. We offer a 2 year manufacturing warranty to ensure 100% customer satisfaction \\ud83d\\uded1 ENTER YOUR MODEL to verify this model is compatible with your appliance model,\"}, {\"role\": \"assistant\", \"content\": \"Price is $91.78\"}]}\n"
     ]
    }
   ],
   "source": [
    "print(make_jsonl(train[:3]))"
   ]
  },
  {
   "cell_type": "code",
   "execution_count": 12,
   "id": "7734bff0-95c4-4e67-a87e-7e2254e2c67d",
   "metadata": {},
   "outputs": [],
   "source": [
    "def write_jsonl(items, filename):\n",
    "    with open(filename, \"w\") as f:\n",
    "        jsonl = make_jsonl(items)\n",
    "        f.write(jsonl)"
   ]
  },
  {
   "cell_type": "code",
   "execution_count": 13,
   "id": "393d3ad8-999a-4f99-8c04-339d9166d604",
   "metadata": {},
   "outputs": [],
   "source": [
    "write_jsonl(fine_tune_train, \"fine_tune_train.jsonl\")"
   ]
  },
  {
   "cell_type": "code",
   "execution_count": 14,
   "id": "8e23927f-d73e-4668-ac20-abe6f14a56cb",
   "metadata": {},
   "outputs": [],
   "source": [
    "write_jsonl(fine_tune_validation, \"fine_tune_validation.jsonl\")"
   ]
  },
  {
   "cell_type": "code",
   "execution_count": 15,
   "id": "d59ad8d2-c61a-448e-b7ed-232f1606970f",
   "metadata": {},
   "outputs": [],
   "source": [
    "with open(\"fine_tune_train.jsonl\", \"rb\") as f:\n",
    "    train_file = openai.files.create(file=f, purpose=\"fine-tune\")"
   ]
  },
  {
   "cell_type": "code",
   "execution_count": 16,
   "id": "083fefba-fd54-47ce-9ff3-aabbc200846f",
   "metadata": {},
   "outputs": [
    {
     "data": {
      "text/plain": [
       "FileObject(id='file-B8bn6VoqCDpuy1pDqsewpz', bytes=291388, created_at=1757499048, filename='fine_tune_train.jsonl', object='file', purpose='fine-tune', status='processed', expires_at=None, status_details=None)"
      ]
     },
     "execution_count": 16,
     "metadata": {},
     "output_type": "execute_result"
    }
   ],
   "source": [
    "train_file"
   ]
  },
  {
   "cell_type": "code",
   "execution_count": 18,
   "id": "97df3360-0760-4422-a556-5f26d23de6dc",
   "metadata": {},
   "outputs": [],
   "source": [
    "with open(\"fine_tune_validation.jsonl\", \"rb\") as f:\n",
    "    validation_file = openai.files.create(file=f, purpose=\"fine-tune\")"
   ]
  },
  {
   "cell_type": "code",
   "execution_count": 19,
   "id": "a1abb8f3-9e52-4061-970c-fcf399d8ffa3",
   "metadata": {},
   "outputs": [
    {
     "data": {
      "text/plain": [
       "FileObject(id='file-3ZqHs73aUnCQGUVbytALRA', bytes=48899, created_at=1757499069, filename='fine_tune_validation.jsonl', object='file', purpose='fine-tune', status='processed', expires_at=None, status_details=None)"
      ]
     },
     "execution_count": 19,
     "metadata": {},
     "output_type": "execute_result"
    }
   ],
   "source": [
    "validation_file"
   ]
  },
  {
   "cell_type": "code",
   "execution_count": 21,
   "id": "45421b86-5531-4e42-ab19-d6abbb8f4c13",
   "metadata": {},
   "outputs": [
    {
     "data": {
      "text/plain": [
       "FineTuningJob(id='ftjob-e6IKEPbdRkRwwsZ76qw0TWpR', created_at=1757499106, error=Error(code=None, message=None, param=None), fine_tuned_model=None, finished_at=None, hyperparameters=Hyperparameters(batch_size='auto', learning_rate_multiplier='auto', n_epochs=1), model='gpt-4o-mini-2024-07-18', object='fine_tuning.job', organization_id='org-oYbtrqUicBStOPsd7eP3rhap', result_files=[], seed=42, status='validating_files', trained_tokens=None, training_file='file-B8bn6VoqCDpuy1pDqsewpz', validation_file='file-3ZqHs73aUnCQGUVbytALRA', estimated_finish=None, integrations=[], metadata=None, method=Method(type='supervised', dpo=None, reinforcement=None, supervised=SupervisedMethod(hyperparameters=SupervisedHyperparameters(batch_size='auto', learning_rate_multiplier='auto', n_epochs=1))), user_provided_suffix='pricer:bhavin-advant', usage_metrics=None, shared_with_openai=False, eval_id=None)"
      ]
     },
     "execution_count": 21,
     "metadata": {},
     "output_type": "execute_result"
    }
   ],
   "source": [
    "openai.fine_tuning.jobs.create(\n",
    "    training_file=train_file.id,\n",
    "    validation_file=validation_file.id,\n",
    "    model=\"gpt-4o-mini-2024-07-18\",\n",
    "    seed=42,\n",
    "    hyperparameters={\"n_epochs\": 1},\n",
    "    # integrations = [wandb_integration],\n",
    "    suffix=\"pricer:bhavin-advant\"\n",
    ")"
   ]
  },
  {
   "cell_type": "code",
   "execution_count": 23,
   "id": "aeb9de2e-542c-4e83-81c7-b6745133e48b",
   "metadata": {},
   "outputs": [
    {
     "name": "stdout",
     "output_type": "stream",
     "text": [
      "SyncCursorPage[FineTuningJob](data=[FineTuningJob(id='ftjob-e6IKEPbdRkRwwsZ76qw0TWpR', created_at=1757499106, error=Error(code=None, message=None, param=None), fine_tuned_model=None, finished_at=None, hyperparameters=Hyperparameters(batch_size='auto', learning_rate_multiplier='auto', n_epochs=1), model='gpt-4o-mini-2024-07-18', object='fine_tuning.job', organization_id='org-oYbtrqUicBStOPsd7eP3rhap', result_files=[], seed=42, status='validating_files', trained_tokens=None, training_file='file-B8bn6VoqCDpuy1pDqsewpz', validation_file='file-3ZqHs73aUnCQGUVbytALRA', estimated_finish=None, integrations=[], metadata=None, method=Method(type='supervised', dpo=None, reinforcement=None, supervised=SupervisedMethod(hyperparameters=SupervisedHyperparameters(batch_size='auto', learning_rate_multiplier='auto', n_epochs=1))), user_provided_suffix='pricer:bhavin-advant', usage_metrics=None, shared_with_openai=False, eval_id=None), FineTuningJob(id='ftjob-uOIxbMtHzFOl5sgazejTFGae', created_at=1753440112, error=Error(code=None, message=None, param=None), fine_tuned_model='ft:gpt-4o-mini-2024-07-18:advant:pricer:BxARcEmQ', finished_at=1753441199, hyperparameters=Hyperparameters(batch_size=1, learning_rate_multiplier=1.8, n_epochs=1), model='gpt-4o-mini-2024-07-18', object='fine_tuning.job', organization_id='org-oYbtrqUicBStOPsd7eP3rhap', result_files=['file-8Trp4ciPFqY5AHhimpLWHZ'], seed=42, status='succeeded', trained_tokens=97795, training_file='file-2mKBJGtmMs55FRnJTPrvTz', validation_file='file-YSSGg3VHNg9xqYEccXHqLu', estimated_finish=None, integrations=[], metadata=None, method=Method(type='supervised', dpo=None, reinforcement=None, supervised=SupervisedMethod(hyperparameters=SupervisedHyperparameters(batch_size=1, learning_rate_multiplier=1.8, n_epochs=1))), user_provided_suffix='pricer', usage_metrics=None, shared_with_openai=False, eval_id=None)], has_more=False, object='list')\n"
     ]
    }
   ],
   "source": [
    "print(openai.fine_tuning.jobs.list(limit=3))"
   ]
  },
  {
   "cell_type": "code",
   "execution_count": 26,
   "id": "40d24873-8ff5-413f-b0d4-8f77c28f18e1",
   "metadata": {},
   "outputs": [
    {
     "name": "stdout",
     "output_type": "stream",
     "text": [
      "ftjob-e6IKEPbdRkRwwsZ76qw0TWpR\n"
     ]
    }
   ],
   "source": [
    "job_id = openai.fine_tuning.jobs.list(limit=1).data[0].id\n",
    "print(job_id)"
   ]
  },
  {
   "cell_type": "code",
   "execution_count": 27,
   "id": "a7e01247-c133-48e1-93d3-c79c399e6178",
   "metadata": {},
   "outputs": [
    {
     "data": {
      "text/plain": [
       "FineTuningJob(id='ftjob-e6IKEPbdRkRwwsZ76qw0TWpR', created_at=1757499106, error=Error(code=None, message=None, param=None), fine_tuned_model=None, finished_at=None, hyperparameters=Hyperparameters(batch_size=1, learning_rate_multiplier=1.8, n_epochs=1), model='gpt-4o-mini-2024-07-18', object='fine_tuning.job', organization_id='org-oYbtrqUicBStOPsd7eP3rhap', result_files=[], seed=42, status='validating_files', trained_tokens=None, training_file='file-B8bn6VoqCDpuy1pDqsewpz', validation_file='file-3ZqHs73aUnCQGUVbytALRA', estimated_finish=None, integrations=[], metadata=None, method=Method(type='supervised', dpo=None, reinforcement=None, supervised=SupervisedMethod(hyperparameters=SupervisedHyperparameters(batch_size=1, learning_rate_multiplier=1.8, n_epochs=1))), user_provided_suffix='pricer:bhavin-advant', usage_metrics=None, shared_with_openai=False, eval_id=None)"
      ]
     },
     "execution_count": 27,
     "metadata": {},
     "output_type": "execute_result"
    }
   ],
   "source": [
    "openai.fine_tuning.jobs.retrieve(job_id)"
   ]
  },
  {
   "cell_type": "code",
   "execution_count": 35,
   "id": "0f5150e1-b8de-485f-8eba-cf1e5b00c117",
   "metadata": {},
   "outputs": [
    {
     "data": {
      "text/plain": [
       "[FineTuningJobEvent(id='ftevent-V9GgZKKq1uBHUxbI08HK7jmy', created_at=1757499655, level='info', message='Step 209/300: training loss=1.06', object='fine_tuning.job.event', data={'step': 209, 'train_loss': 1.0601089000701904, 'total_steps': 300, 'train_mean_token_accuracy': 0.75}, type='metrics'),\n",
       " FineTuningJobEvent(id='ftevent-SSzjjvUcoC7AyE0w4ijm9nyf', created_at=1757499652, level='info', message='Step 208/300: training loss=1.47', object='fine_tuning.job.event', data={'step': 208, 'train_loss': 1.46714448928833, 'total_steps': 300, 'train_mean_token_accuracy': 0.75}, type='metrics'),\n",
       " FineTuningJobEvent(id='ftevent-mLou1hpP71tiPT3xBH3d7xNH', created_at=1757499652, level='info', message='Step 207/300: training loss=1.37', object='fine_tuning.job.event', data={'step': 207, 'train_loss': 1.3689844608306885, 'total_steps': 300, 'train_mean_token_accuracy': 0.75}, type='metrics'),\n",
       " FineTuningJobEvent(id='ftevent-BAI16H6Nz17uiUpznYg6HrUM', created_at=1757499652, level='info', message='Step 206/300: training loss=1.20', object='fine_tuning.job.event', data={'step': 206, 'train_loss': 1.1977028846740723, 'total_steps': 300, 'train_mean_token_accuracy': 0.75}, type='metrics'),\n",
       " FineTuningJobEvent(id='ftevent-AIMwSKEr2T1E8MMZj47FWv39', created_at=1757499649, level='info', message='Step 205/300: training loss=0.64', object='fine_tuning.job.event', data={'step': 205, 'train_loss': 0.6365461349487305, 'total_steps': 300, 'train_mean_token_accuracy': 0.875}, type='metrics'),\n",
       " FineTuningJobEvent(id='ftevent-rnz7ruzTzMriFVZhNQPYectr', created_at=1757499649, level='info', message='Step 204/300: training loss=0.95', object='fine_tuning.job.event', data={'step': 204, 'train_loss': 0.9460461139678955, 'total_steps': 300, 'train_mean_token_accuracy': 0.75}, type='metrics'),\n",
       " FineTuningJobEvent(id='ftevent-Gjypg5UJdqJo4orWoLVgmRj2', created_at=1757499649, level='info', message='Step 203/300: training loss=1.11', object='fine_tuning.job.event', data={'step': 203, 'train_loss': 1.1085314750671387, 'total_steps': 300, 'train_mean_token_accuracy': 0.75}, type='metrics'),\n",
       " FineTuningJobEvent(id='ftevent-GzbNH7NS0X9DLdzlHO9bpqQ2', created_at=1757499646, level='info', message='Step 202/300: training loss=0.77', object='fine_tuning.job.event', data={'step': 202, 'train_loss': 0.7657208442687988, 'total_steps': 300, 'train_mean_token_accuracy': 0.875}, type='metrics'),\n",
       " FineTuningJobEvent(id='ftevent-krVacypbS4uc6tyma4glRgmI', created_at=1757499646, level='info', message='Step 201/300: training loss=1.09', object='fine_tuning.job.event', data={'step': 201, 'train_loss': 1.0876648426055908, 'total_steps': 300, 'train_mean_token_accuracy': 0.75}, type='metrics'),\n",
       " FineTuningJobEvent(id='ftevent-i86Ub2CU216izeF7dVJ4wgY7', created_at=1757499643, level='info', message='Step 200/300: training loss=0.28, validation loss=1.59', object='fine_tuning.job.event', data={'step': 200, 'train_loss': 0.28150105476379395, 'valid_loss': 1.5932564735412598, 'total_steps': 300, 'train_mean_token_accuracy': 1.0, 'valid_mean_token_accuracy': 0.75}, type='metrics'),\n",
       " FineTuningJobEvent(id='ftevent-HbWKQno1dDgOBTXpOMju5Tuv', created_at=1757499641, level='info', message='Step 199/300: training loss=1.29', object='fine_tuning.job.event', data={'step': 199, 'train_loss': 1.2875113487243652, 'total_steps': 300, 'train_mean_token_accuracy': 0.75}, type='metrics'),\n",
       " FineTuningJobEvent(id='ftevent-usWJ1OrRtko08hkQbABy1N4B', created_at=1757499641, level='info', message='Step 198/300: training loss=0.90', object='fine_tuning.job.event', data={'step': 198, 'train_loss': 0.9011080265045166, 'total_steps': 300, 'train_mean_token_accuracy': 0.75}, type='metrics'),\n",
       " FineTuningJobEvent(id='ftevent-tiW9CGK9I4LSUw3ky47J23kY', created_at=1757499638, level='info', message='Step 197/300: training loss=1.02', object='fine_tuning.job.event', data={'step': 197, 'train_loss': 1.0245325565338135, 'total_steps': 300, 'train_mean_token_accuracy': 0.875}, type='metrics'),\n",
       " FineTuningJobEvent(id='ftevent-4HnE2mxdkJRRnSz8FD7qmMki', created_at=1757499638, level='info', message='Step 196/300: training loss=0.85', object='fine_tuning.job.event', data={'step': 196, 'train_loss': 0.8468332290649414, 'total_steps': 300, 'train_mean_token_accuracy': 0.875}, type='metrics'),\n",
       " FineTuningJobEvent(id='ftevent-N3URs1C1Cj3jODpLSxFv6dj0', created_at=1757499638, level='info', message='Step 195/300: training loss=0.81', object='fine_tuning.job.event', data={'step': 195, 'train_loss': 0.8085365295410156, 'total_steps': 300, 'train_mean_token_accuracy': 0.75}, type='metrics'),\n",
       " FineTuningJobEvent(id='ftevent-mfGCP7m3OKZiDdVqmxN8T56i', created_at=1757499635, level='info', message='Step 194/300: training loss=1.31', object='fine_tuning.job.event', data={'step': 194, 'train_loss': 1.3066565990447998, 'total_steps': 300, 'train_mean_token_accuracy': 0.75}, type='metrics'),\n",
       " FineTuningJobEvent(id='ftevent-YeIwM8fUpD8tpRlZfLDJwcGv', created_at=1757499635, level='info', message='Step 193/300: training loss=0.63', object='fine_tuning.job.event', data={'step': 193, 'train_loss': 0.6264913082122803, 'total_steps': 300, 'train_mean_token_accuracy': 0.875}, type='metrics'),\n",
       " FineTuningJobEvent(id='ftevent-ygsag9dNB5vmAi8zJkjOwsp0', created_at=1757499635, level='info', message='Step 192/300: training loss=0.87', object='fine_tuning.job.event', data={'step': 192, 'train_loss': 0.8727779388427734, 'total_steps': 300, 'train_mean_token_accuracy': 0.875}, type='metrics'),\n",
       " FineTuningJobEvent(id='ftevent-Mk7FAb3HAb7qoSpph1V04Xex', created_at=1757499633, level='info', message='Step 191/300: training loss=1.29', object='fine_tuning.job.event', data={'step': 191, 'train_loss': 1.2935614585876465, 'total_steps': 300, 'train_mean_token_accuracy': 0.75}, type='metrics'),\n",
       " FineTuningJobEvent(id='ftevent-zrbq5aoAH15o34dbm6R4OUhG', created_at=1757499632, level='info', message='Step 190/300: training loss=1.16, validation loss=1.49', object='fine_tuning.job.event', data={'step': 190, 'train_loss': 1.155214548110962, 'valid_loss': 1.4914443492889404, 'total_steps': 300, 'train_mean_token_accuracy': 0.75, 'valid_mean_token_accuracy': 0.75}, type='metrics'),\n",
       " FineTuningJobEvent(id='ftevent-MT4RLyyXMTaXPUIyOUbvuubR', created_at=1757499627, level='info', message='Step 189/300: training loss=0.60', object='fine_tuning.job.event', data={'step': 189, 'train_loss': 0.5976200103759766, 'total_steps': 300, 'train_mean_token_accuracy': 0.875}, type='metrics'),\n",
       " FineTuningJobEvent(id='ftevent-5ePABYgWUe6b9p54wJWjXMcM', created_at=1757499627, level='info', message='Step 188/300: training loss=1.30', object='fine_tuning.job.event', data={'step': 188, 'train_loss': 1.297358512878418, 'total_steps': 300, 'train_mean_token_accuracy': 0.875}, type='metrics'),\n",
       " FineTuningJobEvent(id='ftevent-LyYltPLj0dbCDqfCC4THXc7M', created_at=1757499627, level='info', message='Step 187/300: training loss=0.63', object='fine_tuning.job.event', data={'step': 187, 'train_loss': 0.6343791484832764, 'total_steps': 300, 'train_mean_token_accuracy': 0.875}, type='metrics'),\n",
       " FineTuningJobEvent(id='ftevent-SElrk7MmMCuVdbqDQAKVSiQZ', created_at=1757499624, level='info', message='Step 186/300: training loss=0.82', object='fine_tuning.job.event', data={'step': 186, 'train_loss': 0.8183023929595947, 'total_steps': 300, 'train_mean_token_accuracy': 0.75}, type='metrics'),\n",
       " FineTuningJobEvent(id='ftevent-Su38kJmKPeZzx4Ff6owZ2SWl', created_at=1757499624, level='info', message='Step 185/300: training loss=0.35', object='fine_tuning.job.event', data={'step': 185, 'train_loss': 0.352308988571167, 'total_steps': 300, 'train_mean_token_accuracy': 0.875}, type='metrics')]"
      ]
     },
     "execution_count": 35,
     "metadata": {},
     "output_type": "execute_result"
    }
   ],
   "source": [
    "openai.fine_tuning.jobs.list_events(fine_tuning_job_id=job_id, limit=25).data"
   ]
  },
  {
   "cell_type": "code",
   "execution_count": 36,
   "id": "577dcbde",
   "metadata": {},
   "outputs": [
    {
     "name": "stdout",
     "output_type": "stream",
     "text": [
      "Job status: running\n",
      "Job status: running\n",
      "Job status: running\n",
      "Job status: running\n",
      "Job status: running\n",
      "Job status: running\n",
      "Job status: running\n",
      "Job status: running\n",
      "Job status: running\n",
      "Job status: running\n",
      "Job status: running\n",
      "Job status: running\n",
      "Job status: running\n",
      "Job status: running\n",
      "Job status: running\n",
      "Job status: succeeded\n"
     ]
    }
   ],
   "source": [
    "import time\n",
    "while True:\n",
    "    status = openai.fine_tuning.jobs.retrieve(job_id).status\n",
    "    print(f\"Job status: {status}\")\n",
    "    if status in [\"succeeded\", \"failed\"]:\n",
    "        break\n",
    "    time.sleep(60)"
   ]
  },
  {
   "cell_type": "code",
   "execution_count": 30,
   "id": "b19ea9e9",
   "metadata": {},
   "outputs": [
    {
     "name": "stderr",
     "output_type": "stream",
     "text": [
      "\u001b[34m\u001b[1mwandb\u001b[0m: Logging into wandb.ai. (Learn how to deploy a W&B server locally: https://wandb.me/wandb-server)\n",
      "\u001b[34m\u001b[1mwandb\u001b[0m: You can find your API key in your browser here: https://wandb.ai/authorize\n",
      "\u001b[34m\u001b[1mwandb\u001b[0m: Paste an API key from your profile and hit enter:\n"
     ]
    },
    {
     "ename": "Abort",
     "evalue": "",
     "output_type": "error",
     "traceback": [
      "\u001b[0;31m---------------------------------------------------------------------------\u001b[0m",
      "\u001b[0;31mAbort\u001b[0m                                     Traceback (most recent call last)",
      "Cell \u001b[0;32mIn[30], line 4\u001b[0m\n\u001b[1;32m      1\u001b[0m \u001b[38;5;28;01mimport\u001b[39;00m\u001b[38;5;250m \u001b[39m\u001b[38;5;21;01mwandb\u001b[39;00m\n\u001b[1;32m      2\u001b[0m \u001b[38;5;28;01mfrom\u001b[39;00m\u001b[38;5;250m \u001b[39m\u001b[38;5;21;01mwandb\u001b[39;00m\u001b[38;5;21;01m.\u001b[39;00m\u001b[38;5;21;01mintegration\u001b[39;00m\u001b[38;5;21;01m.\u001b[39;00m\u001b[38;5;21;01mopenai\u001b[39;00m\u001b[38;5;21;01m.\u001b[39;00m\u001b[38;5;21;01mfine_tuning\u001b[39;00m\u001b[38;5;250m \u001b[39m\u001b[38;5;28;01mimport\u001b[39;00m WandbLogger\n\u001b[0;32m----> 4\u001b[0m \u001b[43mwandb\u001b[49m\u001b[38;5;241;43m.\u001b[39;49m\u001b[43mlogin\u001b[49m\u001b[43m(\u001b[49m\u001b[43m)\u001b[49m\n\u001b[1;32m      5\u001b[0m WandbLogger\u001b[38;5;241m.\u001b[39msync(fine_tune_job_id\u001b[38;5;241m=\u001b[39mjob_id, project\u001b[38;5;241m=\u001b[39m\u001b[38;5;124m\"\u001b[39m\u001b[38;5;124mgpt-pricer\u001b[39m\u001b[38;5;124m\"\u001b[39m)\n",
      "File \u001b[0;32m~/PycharmProjects/llm_engineering/llms/lib/python3.10/site-packages/wandb/sdk/wandb_login.py:80\u001b[0m, in \u001b[0;36mlogin\u001b[0;34m(anonymous, key, relogin, host, force, timeout, verify, referrer)\u001b[0m\n\u001b[1;32m     51\u001b[0m \u001b[38;5;250m\u001b[39m\u001b[38;5;124;03m\"\"\"Set up W&B login credentials.\u001b[39;00m\n\u001b[1;32m     52\u001b[0m \n\u001b[1;32m     53\u001b[0m \u001b[38;5;124;03mBy default, this will only store credentials locally without\u001b[39;00m\n\u001b[0;32m   (...)\u001b[0m\n\u001b[1;32m     77\u001b[0m \u001b[38;5;124;03m    UsageError: If `api_key` cannot be configured and no tty.\u001b[39;00m\n\u001b[1;32m     78\u001b[0m \u001b[38;5;124;03m\"\"\"\u001b[39;00m\n\u001b[1;32m     79\u001b[0m _handle_host_wandb_setting(host)\n\u001b[0;32m---> 80\u001b[0m \u001b[38;5;28;01mreturn\u001b[39;00m \u001b[43m_login\u001b[49m\u001b[43m(\u001b[49m\n\u001b[1;32m     81\u001b[0m \u001b[43m    \u001b[49m\u001b[43manonymous\u001b[49m\u001b[38;5;241;43m=\u001b[39;49m\u001b[43manonymous\u001b[49m\u001b[43m,\u001b[49m\n\u001b[1;32m     82\u001b[0m \u001b[43m    \u001b[49m\u001b[43mkey\u001b[49m\u001b[38;5;241;43m=\u001b[39;49m\u001b[43mkey\u001b[49m\u001b[43m,\u001b[49m\n\u001b[1;32m     83\u001b[0m \u001b[43m    \u001b[49m\u001b[43mrelogin\u001b[49m\u001b[38;5;241;43m=\u001b[39;49m\u001b[43mrelogin\u001b[49m\u001b[43m,\u001b[49m\n\u001b[1;32m     84\u001b[0m \u001b[43m    \u001b[49m\u001b[43mhost\u001b[49m\u001b[38;5;241;43m=\u001b[39;49m\u001b[43mhost\u001b[49m\u001b[43m,\u001b[49m\n\u001b[1;32m     85\u001b[0m \u001b[43m    \u001b[49m\u001b[43mforce\u001b[49m\u001b[38;5;241;43m=\u001b[39;49m\u001b[43mforce\u001b[49m\u001b[43m,\u001b[49m\n\u001b[1;32m     86\u001b[0m \u001b[43m    \u001b[49m\u001b[43mtimeout\u001b[49m\u001b[38;5;241;43m=\u001b[39;49m\u001b[43mtimeout\u001b[49m\u001b[43m,\u001b[49m\n\u001b[1;32m     87\u001b[0m \u001b[43m    \u001b[49m\u001b[43mverify\u001b[49m\u001b[38;5;241;43m=\u001b[39;49m\u001b[43mverify\u001b[49m\u001b[43m,\u001b[49m\n\u001b[1;32m     88\u001b[0m \u001b[43m    \u001b[49m\u001b[43mreferrer\u001b[49m\u001b[38;5;241;43m=\u001b[39;49m\u001b[43mreferrer\u001b[49m\u001b[43m,\u001b[49m\n\u001b[1;32m     89\u001b[0m \u001b[43m\u001b[49m\u001b[43m)\u001b[49m\n",
      "File \u001b[0;32m~/PycharmProjects/llm_engineering/llms/lib/python3.10/site-packages/wandb/sdk/wandb_login.py:318\u001b[0m, in \u001b[0;36m_login\u001b[0;34m(anonymous, key, relogin, host, force, timeout, verify, referrer, update_api_key, _silent, _disable_warning)\u001b[0m\n\u001b[1;32m    316\u001b[0m         key_is_pre_configured \u001b[38;5;241m=\u001b[39m \u001b[38;5;28;01mTrue\u001b[39;00m\n\u001b[1;32m    317\u001b[0m     \u001b[38;5;28;01melse\u001b[39;00m:\n\u001b[0;32m--> 318\u001b[0m         key, key_status \u001b[38;5;241m=\u001b[39m \u001b[43mwlogin\u001b[49m\u001b[38;5;241;43m.\u001b[39;49m\u001b[43mprompt_api_key\u001b[49m\u001b[43m(\u001b[49m\u001b[43mreferrer\u001b[49m\u001b[38;5;241;43m=\u001b[39;49m\u001b[43mreferrer\u001b[49m\u001b[43m)\u001b[49m\n\u001b[1;32m    320\u001b[0m \u001b[38;5;28;01mif\u001b[39;00m verify:\n\u001b[1;32m    321\u001b[0m     wlogin\u001b[38;5;241m.\u001b[39m_verify_login(key)\n",
      "File \u001b[0;32m~/PycharmProjects/llm_engineering/llms/lib/python3.10/site-packages/wandb/sdk/wandb_login.py:237\u001b[0m, in \u001b[0;36m_WandbLogin.prompt_api_key\u001b[0;34m(self, referrer)\u001b[0m\n\u001b[1;32m    233\u001b[0m \u001b[38;5;28;01mdef\u001b[39;00m\u001b[38;5;250m \u001b[39m\u001b[38;5;21mprompt_api_key\u001b[39m(\n\u001b[1;32m    234\u001b[0m     \u001b[38;5;28mself\u001b[39m, referrer: Optional[\u001b[38;5;28mstr\u001b[39m] \u001b[38;5;241m=\u001b[39m \u001b[38;5;28;01mNone\u001b[39;00m\n\u001b[1;32m    235\u001b[0m ) \u001b[38;5;241m-\u001b[39m\u001b[38;5;241m>\u001b[39m Tuple[Optional[\u001b[38;5;28mstr\u001b[39m], ApiKeyStatus]:\n\u001b[1;32m    236\u001b[0m \u001b[38;5;250m    \u001b[39m\u001b[38;5;124;03m\"\"\"Updates the global API key by prompting the user.\"\"\"\u001b[39;00m\n\u001b[0;32m--> 237\u001b[0m     key, status \u001b[38;5;241m=\u001b[39m \u001b[38;5;28;43mself\u001b[39;49m\u001b[38;5;241;43m.\u001b[39;49m\u001b[43m_prompt_api_key\u001b[49m\u001b[43m(\u001b[49m\u001b[43mreferrer\u001b[49m\u001b[43m)\u001b[49m\n\u001b[1;32m    238\u001b[0m     \u001b[38;5;28;01mif\u001b[39;00m status \u001b[38;5;241m==\u001b[39m ApiKeyStatus\u001b[38;5;241m.\u001b[39mNOTTY:\n\u001b[1;32m    239\u001b[0m         directive \u001b[38;5;241m=\u001b[39m (\n\u001b[1;32m    240\u001b[0m             \u001b[38;5;124m\"\u001b[39m\u001b[38;5;124mwandb login [your_api_key]\u001b[39m\u001b[38;5;124m\"\u001b[39m\n\u001b[1;32m    241\u001b[0m             \u001b[38;5;28;01mif\u001b[39;00m \u001b[38;5;28mself\u001b[39m\u001b[38;5;241m.\u001b[39m_settings\u001b[38;5;241m.\u001b[39mx_cli_only_mode\n\u001b[1;32m    242\u001b[0m             \u001b[38;5;28;01melse\u001b[39;00m \u001b[38;5;124m\"\u001b[39m\u001b[38;5;124mwandb.login(key=[your_api_key])\u001b[39m\u001b[38;5;124m\"\u001b[39m\n\u001b[1;32m    243\u001b[0m         )\n",
      "File \u001b[0;32m~/PycharmProjects/llm_engineering/llms/lib/python3.10/site-packages/wandb/sdk/wandb_login.py:213\u001b[0m, in \u001b[0;36m_WandbLogin._prompt_api_key\u001b[0;34m(self, referrer)\u001b[0m\n\u001b[1;32m    211\u001b[0m \u001b[38;5;28;01mwhile\u001b[39;00m \u001b[38;5;28;01mTrue\u001b[39;00m:\n\u001b[1;32m    212\u001b[0m     \u001b[38;5;28;01mtry\u001b[39;00m:\n\u001b[0;32m--> 213\u001b[0m         key \u001b[38;5;241m=\u001b[39m \u001b[43mapikey\u001b[49m\u001b[38;5;241;43m.\u001b[39;49m\u001b[43mprompt_api_key\u001b[49m\u001b[43m(\u001b[49m\n\u001b[1;32m    214\u001b[0m \u001b[43m            \u001b[49m\u001b[38;5;28;43mself\u001b[39;49m\u001b[38;5;241;43m.\u001b[39;49m\u001b[43m_settings\u001b[49m\u001b[43m,\u001b[49m\n\u001b[1;32m    215\u001b[0m \u001b[43m            \u001b[49m\u001b[43mapi\u001b[49m\u001b[38;5;241;43m=\u001b[39;49m\u001b[43mapi\u001b[49m\u001b[43m,\u001b[49m\n\u001b[1;32m    216\u001b[0m \u001b[43m            \u001b[49m\u001b[43mno_offline\u001b[49m\u001b[38;5;241;43m=\u001b[39;49m\u001b[38;5;28;43mself\u001b[39;49m\u001b[38;5;241;43m.\u001b[39;49m\u001b[43m_settings\u001b[49m\u001b[38;5;241;43m.\u001b[39;49m\u001b[43mforce\u001b[49m\u001b[43m \u001b[49m\u001b[38;5;28;43;01mif\u001b[39;49;00m\u001b[43m \u001b[49m\u001b[38;5;28;43mself\u001b[39;49m\u001b[38;5;241;43m.\u001b[39;49m\u001b[43m_settings\u001b[49m\u001b[43m \u001b[49m\u001b[38;5;28;43;01melse\u001b[39;49;00m\u001b[43m \u001b[49m\u001b[38;5;28;43;01mNone\u001b[39;49;00m\u001b[43m,\u001b[49m\n\u001b[1;32m    217\u001b[0m \u001b[43m            \u001b[49m\u001b[43mno_create\u001b[49m\u001b[38;5;241;43m=\u001b[39;49m\u001b[38;5;28;43mself\u001b[39;49m\u001b[38;5;241;43m.\u001b[39;49m\u001b[43m_settings\u001b[49m\u001b[38;5;241;43m.\u001b[39;49m\u001b[43mforce\u001b[49m\u001b[43m \u001b[49m\u001b[38;5;28;43;01mif\u001b[39;49;00m\u001b[43m \u001b[49m\u001b[38;5;28;43mself\u001b[39;49m\u001b[38;5;241;43m.\u001b[39;49m\u001b[43m_settings\u001b[49m\u001b[43m \u001b[49m\u001b[38;5;28;43;01melse\u001b[39;49;00m\u001b[43m \u001b[49m\u001b[38;5;28;43;01mNone\u001b[39;49;00m\u001b[43m,\u001b[49m\n\u001b[1;32m    218\u001b[0m \u001b[43m            \u001b[49m\u001b[43mreferrer\u001b[49m\u001b[38;5;241;43m=\u001b[39;49m\u001b[43mreferrer\u001b[49m\u001b[43m,\u001b[49m\n\u001b[1;32m    219\u001b[0m \u001b[43m        \u001b[49m\u001b[43m)\u001b[49m\n\u001b[1;32m    220\u001b[0m     \u001b[38;5;28;01mexcept\u001b[39;00m \u001b[38;5;167;01mValueError\u001b[39;00m \u001b[38;5;28;01mas\u001b[39;00m e:\n\u001b[1;32m    221\u001b[0m         \u001b[38;5;66;03m# invalid key provided, try again\u001b[39;00m\n\u001b[1;32m    222\u001b[0m         wandb\u001b[38;5;241m.\u001b[39mtermerror(e\u001b[38;5;241m.\u001b[39margs[\u001b[38;5;241m0\u001b[39m])\n",
      "File \u001b[0;32m~/PycharmProjects/llm_engineering/llms/lib/python3.10/site-packages/wandb/sdk/lib/apikey.py:192\u001b[0m, in \u001b[0;36mprompt_api_key\u001b[0;34m(settings, api, input_callback, browser_callback, no_offline, no_create, local, referrer)\u001b[0m\n\u001b[1;32m    187\u001b[0m             wandb\u001b[38;5;241m.\u001b[39mtermlog(\n\u001b[1;32m    188\u001b[0m                 \u001b[38;5;124mf\u001b[39m\u001b[38;5;124m\"\u001b[39m\u001b[38;5;124mLogging into \u001b[39m\u001b[38;5;132;01m{\u001b[39;00mhost\u001b[38;5;132;01m}\u001b[39;00m\u001b[38;5;124m. (Learn how to deploy a W&B server \u001b[39m\u001b[38;5;124m\"\u001b[39m\n\u001b[1;32m    189\u001b[0m                 \u001b[38;5;124mf\u001b[39m\u001b[38;5;124m\"\u001b[39m\u001b[38;5;124mlocally: \u001b[39m\u001b[38;5;132;01m{\u001b[39;00murl_registry\u001b[38;5;241m.\u001b[39murl(\u001b[38;5;124m'\u001b[39m\u001b[38;5;124mwandb-server\u001b[39m\u001b[38;5;124m'\u001b[39m)\u001b[38;5;132;01m}\u001b[39;00m\u001b[38;5;124m)\u001b[39m\u001b[38;5;124m\"\u001b[39m\n\u001b[1;32m    190\u001b[0m             )\n\u001b[1;32m    191\u001b[0m         wandb\u001b[38;5;241m.\u001b[39mtermlog(_api_key_prompt_str(app_url, referrer))\n\u001b[0;32m--> 192\u001b[0m         key \u001b[38;5;241m=\u001b[39m \u001b[43minput_callback\u001b[49m\u001b[43m(\u001b[49m\u001b[43mapi_ask\u001b[49m\u001b[43m)\u001b[49m\u001b[38;5;241m.\u001b[39mstrip()\n\u001b[1;32m    193\u001b[0m \u001b[38;5;28;01melif\u001b[39;00m result \u001b[38;5;241m==\u001b[39m LOGIN_CHOICE_NOTTY:\n\u001b[1;32m    194\u001b[0m     \u001b[38;5;66;03m# TODO: Needs refactor as this needs to be handled by caller\u001b[39;00m\n\u001b[1;32m    195\u001b[0m     \u001b[38;5;28;01mreturn\u001b[39;00m \u001b[38;5;28;01mFalse\u001b[39;00m\n",
      "File \u001b[0;32m~/PycharmProjects/llm_engineering/llms/lib/python3.10/site-packages/click/termui.py:168\u001b[0m, in \u001b[0;36mprompt\u001b[0;34m(text, default, hide_input, confirmation_prompt, type, value_proc, prompt_suffix, show_default, err, show_choices)\u001b[0m\n\u001b[1;32m    166\u001b[0m \u001b[38;5;28;01mwhile\u001b[39;00m \u001b[38;5;28;01mTrue\u001b[39;00m:\n\u001b[1;32m    167\u001b[0m     \u001b[38;5;28;01mwhile\u001b[39;00m \u001b[38;5;28;01mTrue\u001b[39;00m:\n\u001b[0;32m--> 168\u001b[0m         value \u001b[38;5;241m=\u001b[39m \u001b[43mprompt_func\u001b[49m\u001b[43m(\u001b[49m\u001b[43mprompt\u001b[49m\u001b[43m)\u001b[49m\n\u001b[1;32m    169\u001b[0m         \u001b[38;5;28;01mif\u001b[39;00m value:\n\u001b[1;32m    170\u001b[0m             \u001b[38;5;28;01mbreak\u001b[39;00m\n",
      "File \u001b[0;32m~/PycharmProjects/llm_engineering/llms/lib/python3.10/site-packages/click/termui.py:151\u001b[0m, in \u001b[0;36mprompt.<locals>.prompt_func\u001b[0;34m(text)\u001b[0m\n\u001b[1;32m    149\u001b[0m \u001b[38;5;28;01mif\u001b[39;00m hide_input:\n\u001b[1;32m    150\u001b[0m     echo(\u001b[38;5;28;01mNone\u001b[39;00m, err\u001b[38;5;241m=\u001b[39merr)\n\u001b[0;32m--> 151\u001b[0m \u001b[38;5;28;01mraise\u001b[39;00m Abort() \u001b[38;5;28;01mfrom\u001b[39;00m\u001b[38;5;250m \u001b[39m\u001b[38;5;28;01mNone\u001b[39;00m\n",
      "\u001b[0;31mAbort\u001b[0m: "
     ]
    }
   ],
   "source": [
    "import wandb\n",
    "from wandb.integration.openai.fine_tuning import WandbLogger\n",
    "\n",
    "wandb.login()\n",
    "WandbLogger.sync(fine_tune_job_id=job_id, project=\"gpt-pricer\")"
   ]
  },
  {
   "cell_type": "code",
   "execution_count": 6,
   "id": "fa4488cb-3c17-4eda-abd1-53c1c68a491b",
   "metadata": {},
   "outputs": [
    {
     "name": "stdout",
     "output_type": "stream",
     "text": [
      "ft:gpt-4o-mini-2024-07-18:advant:pricer-bhavin-advant:CECGxWa0\n"
     ]
    }
   ],
   "source": [
    "fine_tuned_model_name = openai.fine_tuning.jobs.retrieve(\"ftjob-e6IKEPbdRkRwwsZ76qw0TWpR\").fine_tuned_model\n",
    "print(fine_tuned_model_name)"
   ]
  },
  {
   "cell_type": "code",
   "execution_count": 8,
   "id": "66ea68e8-ab1b-4f0d-aba4-a59574d8f85e",
   "metadata": {},
   "outputs": [],
   "source": [
    "def messages_for_testing(item):\n",
    "    system_message = \"You estimate prices of items. Reply only with the price, no explanation\"\n",
    "    user_prompt = item.test_prompt().replace(\" to the nearest dollar\",\"\").replace(\"\\n\\nPrice is $\",\"\")\n",
    "    return [\n",
    "        {\"role\": \"system\", \"content\": system_message},\n",
    "        {\"role\": \"user\", \"content\": user_prompt},\n",
    "        {\"role\": \"assistant\", \"content\": \"Price is $\"}\n",
    "    ]"
   ]
  },
  {
   "cell_type": "code",
   "execution_count": 9,
   "id": "4ff92d61-0d27-4b0d-8b32-c9891016509b",
   "metadata": {},
   "outputs": [
    {
     "ename": "NameError",
     "evalue": "name 'test' is not defined",
     "output_type": "error",
     "traceback": [
      "\u001b[0;31m---------------------------------------------------------------------------\u001b[0m",
      "\u001b[0;31mNameError\u001b[0m                                 Traceback (most recent call last)",
      "Cell \u001b[0;32mIn[9], line 1\u001b[0m\n\u001b[0;32m----> 1\u001b[0m messages_for_testing(\u001b[43mtest\u001b[49m[\u001b[38;5;241m0\u001b[39m])\n",
      "\u001b[0;31mNameError\u001b[0m: name 'test' is not defined"
     ]
    }
   ],
   "source": [
    "messages_for_testing(test[0])"
   ]
  },
  {
   "cell_type": "code",
   "execution_count": 4,
   "id": "81b3a4e3",
   "metadata": {},
   "outputs": [
    {
     "data": {
      "text/plain": [
       "SyncCursorPage[FineTuningJob](data=[FineTuningJob(id='ftjob-e6IKEPbdRkRwwsZ76qw0TWpR', created_at=1757499106, error=Error(code=None, message=None, param=None), fine_tuned_model='ft:gpt-4o-mini-2024-07-18:advant:pricer-bhavin-advant:CECGxWa0', finished_at=1757499801, hyperparameters=Hyperparameters(batch_size=1, learning_rate_multiplier=1.8, n_epochs=1), model='gpt-4o-mini-2024-07-18', object='fine_tuning.job', organization_id='org-oYbtrqUicBStOPsd7eP3rhap', result_files=['file-KyqKuHZRswHyf7gpCYpqq4'], seed=42, status='succeeded', trained_tokens=57932, training_file='file-B8bn6VoqCDpuy1pDqsewpz', validation_file='file-3ZqHs73aUnCQGUVbytALRA', estimated_finish=None, integrations=[], metadata=None, method=Method(type='supervised', dpo=None, reinforcement=None, supervised=SupervisedMethod(hyperparameters=SupervisedHyperparameters(batch_size=1, learning_rate_multiplier=1.8, n_epochs=1))), user_provided_suffix='pricer:bhavin-advant', usage_metrics=None, shared_with_openai=False, eval_id=None), FineTuningJob(id='ftjob-uOIxbMtHzFOl5sgazejTFGae', created_at=1753440112, error=Error(code=None, message=None, param=None), fine_tuned_model='ft:gpt-4o-mini-2024-07-18:advant:pricer:BxARcEmQ', finished_at=1753441199, hyperparameters=Hyperparameters(batch_size=1, learning_rate_multiplier=1.8, n_epochs=1), model='gpt-4o-mini-2024-07-18', object='fine_tuning.job', organization_id='org-oYbtrqUicBStOPsd7eP3rhap', result_files=['file-8Trp4ciPFqY5AHhimpLWHZ'], seed=42, status='succeeded', trained_tokens=97795, training_file='file-2mKBJGtmMs55FRnJTPrvTz', validation_file='file-YSSGg3VHNg9xqYEccXHqLu', estimated_finish=None, integrations=[], metadata=None, method=Method(type='supervised', dpo=None, reinforcement=None, supervised=SupervisedMethod(hyperparameters=SupervisedHyperparameters(batch_size=1, learning_rate_multiplier=1.8, n_epochs=1))), user_provided_suffix='pricer', usage_metrics=None, shared_with_openai=False, eval_id=None)], has_more=False, object='list')"
      ]
     },
     "execution_count": 4,
     "metadata": {},
     "output_type": "execute_result"
    }
   ],
   "source": [
    "openai.fine_tuning.jobs.list()"
   ]
  },
  {
   "cell_type": "code",
   "execution_count": 20,
   "id": "b1af1888-f94a-4106-b0d8-8a70939eec4e",
   "metadata": {},
   "outputs": [],
   "source": [
    "def get_price(s):\n",
    "    s = s.replace('$','').replace(',','')\n",
    "    match = re.search(r\"[-+]?\\d*\\.\\d+|\\d+\", s)\n",
    "    return float(match.group()) if match else 0"
   ]
  },
  {
   "cell_type": "code",
   "execution_count": null,
   "id": "f138c5b7-bcc1-4085-aced-68dad1bf36b4",
   "metadata": {},
   "outputs": [
    {
     "data": {
      "text/plain": [
       "89.0"
      ]
     },
     "execution_count": 22,
     "metadata": {},
     "output_type": "execute_result"
    }
   ],
   "source": [
    "get_price(\"The price is roughly $99.99 becausecytcyt 89 blah blah\")"
   ]
  },
  {
   "cell_type": "code",
   "execution_count": 15,
   "id": "501a2a7a-69c8-451b-bbc0-398bcb9e1612",
   "metadata": {},
   "outputs": [],
   "source": [
    "def gpt_fine_tuned(item):\n",
    "    response = openai.chat.completions.create(\n",
    "        model=fine_tuned_model_name,\n",
    "        messages=messages_for_testing(item),\n",
    "        seed=42,\n",
    "        max_tokens=7\n",
    "    )\n",
    "    reply = response.choices[0].message.content\n",
    "    return get_price(reply)"
   ]
  },
  {
   "cell_type": "code",
   "execution_count": 16,
   "id": "843d88b4-364a-431b-b48b-8a7c1f68b786",
   "metadata": {},
   "outputs": [
    {
     "name": "stdout",
     "output_type": "stream",
     "text": [
      "26.97\n",
      "29.77\n"
     ]
    }
   ],
   "source": [
    "print(test[0].price)\n",
    "print(gpt_fine_tuned(test[0]))"
   ]
  },
  {
   "cell_type": "code",
   "execution_count": 45,
   "id": "edd7ada0-15b7-42ec-bbbb-1250e0eb9af1",
   "metadata": {},
   "outputs": [
    {
     "name": "stdout",
     "output_type": "stream",
     "text": [
      "How much does this cost to the nearest dollar?\n",
      "\n",
      "Discount Parts Direct Oven Bake Element Heating Element for Frigidaire Kenmore, Replaces\n",
      "Replaces the following part numbers Works for brands Electrolux, Frigidaire, Gibson, Kelvinator, Westinghouse, and others This part fixes the following symptoms Little to no heat when baking Element will not heat Oven not heating evenly Will Not Start Contact Us If you are not sure if part is correct, ask us in Customer questions & answers section or contact us by visiting the Discount Parts Direct storefront. Business Wholesale We are a small local company from Houston, Texas offer discount parts for retail and wholesale. If you need to purchase parts for business, please contact us for lower rates. Part Number Replaces Works for brand This oven heating element replacement Works for Electrolux, Frigidaire\n",
      "\n",
      "Price is $\n"
     ]
    }
   ],
   "source": [
    "print(test[0].test_prompt())"
   ]
  },
  {
   "cell_type": "code",
   "execution_count": 18,
   "id": "4867d0c6",
   "metadata": {},
   "outputs": [],
   "source": [
    "from testing import Tester"
   ]
  },
  {
   "cell_type": "code",
   "execution_count": 19,
   "id": "36bdd2c9-1859-4f99-a09f-3ec83b845b30",
   "metadata": {},
   "outputs": [
    {
     "name": "stdout",
     "output_type": "stream",
     "text": [
      "\u001b[92m1: Guess: $29.77 Truth: $26.97 Error: $2.80 SLE: 0.01 Item: Discount Parts Direct 316075104 Oven Bak...\u001b[0m\n",
      "\u001b[92m2: Guess: $30.47 Truth: $36.99 Error: $6.52 SLE: 0.04 Item: BestRec CHK100ZW Dryer Vent Heat Keeper ...\u001b[0m\n",
      "\u001b[92m3: Guess: $22.99 Truth: $41.33 Error: $18.34 SLE: 0.32 Item: Fuxury 12 Inch Impulse Bag Sealer, Heat ...\u001b[0m\n",
      "\u001b[92m4: Guess: $21.95 Truth: $45.02 Error: $23.07 SLE: 0.48 Item: Compatible Dryer Heating Element for Whi...\u001b[0m\n",
      "\u001b[92m5: Guess: $22.99 Truth: $13.97 Error: $9.02 SLE: 0.22 Item: 694089 Dryer Blower Wheel by FreeCat,Rep...\u001b[0m\n",
      "\u001b[92m6: Guess: $31.99 Truth: $55.65 Error: $23.66 SLE: 0.29 Item: Compatible with Whirlpool WP61005273 Ref...\u001b[0m\n",
      "\u001b[92m7: Guess: $15.99 Truth: $20.99 Error: $5.00 SLE: 0.07 Item: Replacement Aluminum Range Hood Filter C...\u001b[0m\n",
      "\u001b[92m8: Guess: $66.76 Truth: $30.68 Error: $36.08 SLE: 0.58 Item: Lifetime Appliance Parts UPGRADED 240350...\u001b[0m\n",
      "\u001b[92m9: Guess: $43.66 Truth: $57.99 Error: $14.33 SLE: 0.08 Item: OEM LG Refrigerator Door Bin Basket Shel...\u001b[0m\n",
      "\u001b[92m10: Guess: $8.99 Truth: $8.99 Error: $0.00 SLE: 0.00 Item: WP33001003 Dryer Lint Filter Replacement...\u001b[0m\n"
     ]
    },
    {
     "ename": "IndexError",
     "evalue": "list index out of range",
     "output_type": "error",
     "traceback": [
      "\u001b[0;31m---------------------------------------------------------------------------\u001b[0m",
      "\u001b[0;31mIndexError\u001b[0m                                Traceback (most recent call last)",
      "Cell \u001b[0;32mIn[19], line 1\u001b[0m\n\u001b[0;32m----> 1\u001b[0m \u001b[43mTester\u001b[49m\u001b[38;5;241;43m.\u001b[39;49m\u001b[43mtest\u001b[49m\u001b[43m(\u001b[49m\u001b[43mgpt_fine_tuned\u001b[49m\u001b[43m,\u001b[49m\u001b[43m \u001b[49m\u001b[43mtest\u001b[49m\u001b[43m[\u001b[49m\u001b[43m:\u001b[49m\u001b[38;5;241;43m10\u001b[39;49m\u001b[43m]\u001b[49m\u001b[43m)\u001b[49m\n",
      "File \u001b[0;32m~/PycharmProjects/llm_engineering/week6-my-practicals/testing.py:75\u001b[0m, in \u001b[0;36mTester.test\u001b[0;34m(cls, function, data)\u001b[0m\n\u001b[1;32m     73\u001b[0m \u001b[38;5;129m@classmethod\u001b[39m\n\u001b[1;32m     74\u001b[0m \u001b[38;5;28;01mdef\u001b[39;00m\u001b[38;5;250m \u001b[39m\u001b[38;5;21mtest\u001b[39m(\u001b[38;5;28mcls\u001b[39m, function, data):\n\u001b[0;32m---> 75\u001b[0m     \u001b[38;5;28;43mcls\u001b[39;49m\u001b[43m(\u001b[49m\u001b[43mfunction\u001b[49m\u001b[43m,\u001b[49m\u001b[43m \u001b[49m\u001b[43mdata\u001b[49m\u001b[43m)\u001b[49m\u001b[38;5;241;43m.\u001b[39;49m\u001b[43mrun\u001b[49m\u001b[43m(\u001b[49m\u001b[43m)\u001b[49m\n",
      "File \u001b[0;32m~/PycharmProjects/llm_engineering/week6-my-practicals/testing.py:70\u001b[0m, in \u001b[0;36mTester.run\u001b[0;34m(self)\u001b[0m\n\u001b[1;32m     68\u001b[0m \u001b[38;5;28mself\u001b[39m\u001b[38;5;241m.\u001b[39merror \u001b[38;5;241m=\u001b[39m \u001b[38;5;241m0\u001b[39m\n\u001b[1;32m     69\u001b[0m \u001b[38;5;28;01mfor\u001b[39;00m i \u001b[38;5;129;01min\u001b[39;00m \u001b[38;5;28mrange\u001b[39m(\u001b[38;5;28mself\u001b[39m\u001b[38;5;241m.\u001b[39msize):\n\u001b[0;32m---> 70\u001b[0m     \u001b[38;5;28;43mself\u001b[39;49m\u001b[38;5;241;43m.\u001b[39;49m\u001b[43mrun_datapoint\u001b[49m\u001b[43m(\u001b[49m\u001b[43mi\u001b[49m\u001b[43m)\u001b[49m\n\u001b[1;32m     71\u001b[0m \u001b[38;5;28mself\u001b[39m\u001b[38;5;241m.\u001b[39mreport()\n",
      "File \u001b[0;32m~/PycharmProjects/llm_engineering/week6-my-practicals/testing.py:32\u001b[0m, in \u001b[0;36mTester.run_datapoint\u001b[0;34m(self, i)\u001b[0m\n\u001b[1;32m     31\u001b[0m \u001b[38;5;28;01mdef\u001b[39;00m\u001b[38;5;250m \u001b[39m\u001b[38;5;21mrun_datapoint\u001b[39m(\u001b[38;5;28mself\u001b[39m, i):\n\u001b[0;32m---> 32\u001b[0m     datapoint \u001b[38;5;241m=\u001b[39m \u001b[38;5;28;43mself\u001b[39;49m\u001b[38;5;241;43m.\u001b[39;49m\u001b[43mdata\u001b[49m\u001b[43m[\u001b[49m\u001b[43mi\u001b[49m\u001b[43m]\u001b[49m\n\u001b[1;32m     33\u001b[0m     guess \u001b[38;5;241m=\u001b[39m \u001b[38;5;28mself\u001b[39m\u001b[38;5;241m.\u001b[39mpredictor(datapoint)\n\u001b[1;32m     34\u001b[0m     truth \u001b[38;5;241m=\u001b[39m datapoint\u001b[38;5;241m.\u001b[39mprice\n",
      "\u001b[0;31mIndexError\u001b[0m: list index out of range"
     ]
    }
   ],
   "source": [
    "Tester.test(gpt_fine_tuned, test[:10])"
   ]
  },
  {
   "cell_type": "code",
   "execution_count": 24,
   "id": "96d96036",
   "metadata": {},
   "outputs": [],
   "source": [
    "openai = OpenAI()"
   ]
  },
  {
   "cell_type": "code",
   "execution_count": 29,
   "id": "519ce003",
   "metadata": {},
   "outputs": [
    {
     "name": "stdout",
     "output_type": "stream",
     "text": [
      "FileObject(id='file-AppaTYMEtyMh5DS1Wzme8h', bytes=1617331, created_at=1757531580, filename='G-Paper-2-2015 - PandoraGAN.pdf', object='file', purpose='assistants', status='processed', expires_at=None, status_details=None)\n",
      "FileObject(id='file-KyqKuHZRswHyf7gpCYpqq4', bytes=8108, created_at=1757500548, filename='step_metrics.csv', object='file', purpose='fine-tune-results', status='processed', expires_at=None, status_details=None)\n",
      "FileObject(id='file-3ZqHs73aUnCQGUVbytALRA', bytes=48899, created_at=1757499069, filename='fine_tune_validation.jsonl', object='file', purpose='fine-tune', status='processed', expires_at=None, status_details=None)\n",
      "FileObject(id='file-B8bn6VoqCDpuy1pDqsewpz', bytes=291388, created_at=1757499048, filename='fine_tune_train.jsonl', object='file', purpose='fine-tune', status='processed', expires_at=None, status_details=None)\n",
      "FileObject(id='file-Dcttq54ELn9kLRLVWL6HwM', bytes=48899, created_at=1757498467, filename='fine_tune_validation.jsonl', object='file', purpose='fine-tune', status='processed', expires_at=None, status_details=None)\n",
      "FileObject(id='file-NHQXiLerRHBQTNUrCVEHbA', bytes=291388, created_at=1757498444, filename='fine_tune_train.jsonl', object='file', purpose='fine-tune', status='processed', expires_at=None, status_details=None)\n",
      "FileObject(id='file-EYQyYdHLN7rER9hih5VbB4', bytes=3046757, created_at=1757422394, filename='tax-guide.pdf', object='file', purpose='assistants', status='processed', expires_at=None, status_details=None)\n",
      "FileObject(id='file-P3h54Y5nDRBDcWn9525hdR', bytes=1617331, created_at=1756974110, filename='G-Paper-2-2015 - PandoraGAN.pdf', object='file', purpose='assistants', status='processed', expires_at=None, status_details=None)\n",
      "FileObject(id='file-NkNZNZZ2PLY83rhpPaX8WT', bytes=72646, created_at=1755005933, filename='3 result .pdf', object='file', purpose='assistants', status='processed', expires_at=None, status_details=None)\n",
      "FileObject(id='file-4jFCkfo37dg4JFU1Hr7sQi', bytes=291585, created_at=1754680987, filename='assistantimg (1).png', object='file', purpose='assistants', status='processed', expires_at=None, status_details=None)\n",
      "FileObject(id='file-Wie2YGht7Ln4ka8gCu27J3', bytes=71919, created_at=1754680949, filename='1 result .pdf', object='file', purpose='assistants', status='processed', expires_at=None, status_details=None)\n",
      "FileObject(id='file-8Trp4ciPFqY5AHhimpLWHZ', bytes=13544, created_at=1753441873, filename='step_metrics.csv', object='file', purpose='fine-tune-results', status='processed', expires_at=None, status_details=None)\n",
      "FileObject(id='file-YSSGg3VHNg9xqYEccXHqLu', bytes=48624, created_at=1753435101, filename='fine_tune_validation.jsonl', object='file', purpose='fine-tune', status='processed', expires_at=None, status_details=None)\n",
      "FileObject(id='file-2mKBJGtmMs55FRnJTPrvTz', bytes=477979, created_at=1753435056, filename='fine_tune_train.jsonl', object='file', purpose='fine-tune', status='processed', expires_at=None, status_details=None)\n"
     ]
    }
   ],
   "source": [
    "res = openai.files.list(limit=2)\n",
    "\n",
    "for i in res:\n",
    "    print(i)"
   ]
  },
  {
   "cell_type": "code",
   "execution_count": 44,
   "id": "eeadba35",
   "metadata": {},
   "outputs": [],
   "source": [
    "openai_validation_file = \"file-3ZqHs73aUnCQGUVbytALRA\""
   ]
  },
  {
   "cell_type": "code",
   "execution_count": 45,
   "id": "4f0fa503",
   "metadata": {},
   "outputs": [],
   "source": [
    "res = openai.files.content(openai_validation_file)\n"
   ]
  },
  {
   "cell_type": "code",
   "execution_count": 46,
   "id": "9f129dc9",
   "metadata": {},
   "outputs": [],
   "source": [
    "with open('file_content1.jsonl','wb') as f:\n",
    "    f.write(res.content)"
   ]
  },
  {
   "cell_type": "code",
   "execution_count": 47,
   "id": "09a6a43a",
   "metadata": {},
   "outputs": [
    {
     "data": {
      "text/plain": [
       "'{\"messages\": [{\"role\": \"system\", \"content\": \"You estimate prices of items. Reply only with the price, no explanation\"}, {\"role\": \"user\", \"content\": \"How much does this cost?\\\\n\\\\nDryer Heating Element Whirlpool Maytag Kenmore\\\\n\\\\ud83d\\\\udca1 Whirlpool Dryer Heating Element - A high-quality exact equivalent for part numbers Dryer Heating Element is compatible with Amana, Crosley, Inglis, Kenmore, Maytag, Whirlpool dryer heating element. Whirlpool Single Element fits hundreds of models. It is an essential component of the dryer\\'s heating system, responsible for generating heat to dry clothes during the drying cycle. \\\\ud83d\\\\udd27 DIY eTips Included - Not sure how to replace Kenmore Dryer Heating Element Helpful information can be found on the page below. Scroll down to get more repair tips. Acquire valuable skills during the DIY repair project. Whirlpool Heating Element will help if there\\'s no heat or not enough heat, it takes too\"}, {\"role\": \"assistant\", \"content\": \"Price is $19.95\"}]}\\n{\"messages\": [{\"role\": \"system\", \"content\": \"You estimate prices of items. Reply only with the price, no explanation\"}, {\"role\": \"user\", \"content\": \"How much does this cost?\\\\n\\\\nUpgraded Lifetime Appliance Knob Compatible with Whirlpool Stove/Range\\\\nSPECIFICATIONS Compatible with Whirlpool Oven, Range or Stove Replaces part numbers If you are unsure our replacement part will fit your appliance model, we are happy to help! Please send us a message with (1) your appliance\\'s model number and (2) the item in question and we can help confirm if this item fits. Please do not order the part unless you are sure. There are many replacement parts that look similar to one another but will NOT fit. \\\\u2705 Part Numbers \\\\u2705 WARNING - PLEASE READ Please be aware even though is imprinted on the back of your knob, please confirm the model number and stem length before ordering. The print on the back of your knob may be incorrect.\"}, {\"role\": \"assistant\", \"content\": \"Price is $21.95\"}]}\\n{\"messages\": [{\"role\": \"system\", \"content\": \"You estimate prices of items. Reply only with the price, no explanation\"}, {\"role\": \"user\", \"content\": \"How much does this cost?\\\\n\\\\nReplacement Aluminum Filters Compatible with Broan 13-3/4 X 14 X 3/8 (2 PTSS, 2 TSSS)\\\\nFilter Everything\\'s A60463 replacement aluminum range filters are compatible with many models, including Broan Dimensions measure 13-3/4 X 14 X 3/8 WITH 2 PULL TABS AND TWO SPRINGS Sold as a Please double check the measurments of your filters before purchasing these to ensure you are buying the right item. Replacement Aluminum Filters Compatible with Broan Dimensions measure 13-3/4 X 14 X 3/8 (2 PTSS, 2 TSSS) inches 2-Pack Brand Name Filter Everything, Model Info 2 Pack, Weight 6.4 ounces, Dimensions\"}, {\"role\": \"assistant\", \"content\": \"Price is $34.65\"}]}\\n{\"messages\": [{\"role\": \"system\", \"content\": \"You estimate prices of items. Reply only with the price, no explanation\"}, {\"role\": \"user\", \"content\": \"How much does this cost?\\\\n\\\\nNiveaya 200 Count Coffee Filters - Size 02, Coffee Filters, Natural Paper Coffee Filter, Coffee Filter 2 Cone Paper. (2-4 Cup)\\\\n200 PCS per One Pack - The package contains 200 pieces of Coffee Filter #2, which can meet different needs. You can enjoy freshly ground coffee at home or in the office. Standard Size - The standard size of Coffee Filters 02 Cone Paper is suitable for pour-over brewers, the radius of the Coffee Filters 2 is 4.8 inch. Friendly for Users - Coffee Filter Paper is upgraded with new hanging ears, which can help to open the Filter Paper faster and more convenient for users. Refuse Coffee Grounds Leaking - The Coffee Cilter Paper is very sturdy and firm, which can prevent coffee grounds leaking\"}, {\"role\": \"assistant\", \"content\": \"Price is $9.99\"}]}\\n{\"messages\": [{\"role\": \"system\", \"content\": \"You estimate prices of items. Reply only with the price, no explanation\"}, {\"role\": \"user\", \"content\": \"How much does this cost?\\\\n\\\\nWhirlpool Dishwasher Rack Repair Kit, White\\\\nGenuine Original Equipment Manufacturer (OEM) parts! This tine tip repair kit (part number is for dishwashers. Tine tip repair kit includes tine tips and vinyl touch-up liquid to repair damaged or rusted dishrack tines. Apply the vinyl touch-up liquid in a well-ventilated area. For Kitchenaid, Whirlpool, Kenmore, Kenmore Elite, Maytag, Jenn-Air, Amana, Ikea, Estate, Crosley, Inglis, Magic Chef, Roper, Fulgor, & Kenmore Pro. This part is compatible with models including; This is a manufacturer substitution. Part may differ in appearance but is a functional equivalent to prior parts including;\"}, {\"role\": \"assistant\", \"content\": \"Price is $34.53\"}]}\\n{\"messages\": [{\"role\": \"system\", \"content\": \"You estimate prices of items. Reply only with the price, no explanation\"}, {\"role\": \"user\", \"content\": \"How much does this cost?\\\\n\\\\nFrigidaire Element, 1, Black\\\\nProduct Description This is a genuine replacement part. The model number and name for the following item is Frigidaire Element. From the Manufacturer This is a genuine replacement part. The model number and name for the following item is Frigidaire Element. Frigidaire Item Manufacturer Model # This Is A Genuine Replacement Part Brand Name Frigidaire Brand Name Frigidaire, Model Info Weight 13.6 ounces, Dimensions 1.5 x 2.5 x 3.5 inches, Country of Origin USA, model number Is Discontinued No, Part Color Black, Rank Tools & Home Improvement Oven Parts & Accessories 351, Domestic Shipping can be shipped within U.S., International Shipping This item can be shipped to\"}, {\"role\": \"assistant\", \"content\": \"Price is $78.85\"}]}\\n{\"messages\": [{\"role\": \"system\", \"content\": \"You estimate prices of items. Reply only with the price, no explanation\"}, {\"role\": \"user\", \"content\": \"How much does this cost?\\\\n\\\\nEslite Covered Egg Holder,Egg Storage for Refrigerator,Fits 18 Eggs,Pack of 2\\\\nKeeps your eggs fresh and prevents it getting crushed or smashed. Made of PP plastic, durably and hygienic, food-safe storage. Holds up to 18 eggs, could use as deviled egg tray. Clear for easy visibility. A classic way to store or serve eggs, unique and distinctive see-through plastic egg cartons make packaging for specialty, safely and hygienically. Items feature fresh for longer, securely stored, and neatly organized. This egg holder keeps stacked items in securely place, whether in the freezer, refrigerator, or cupboard.Keeps your eggs fresh and prevents it getting crushed or smashed. Great to hold the eggs safely while preserving their freshness Made of durable\"}, {\"role\": \"assistant\", \"content\": \"Price is $14.99\"}]}\\n{\"messages\": [{\"role\": \"system\", \"content\": \"You estimate prices of items. Reply only with the price, no explanation\"}, {\"role\": \"user\", \"content\": \"How much does this cost?\\\\n\\\\nTOYO PAPER #102 Coffee Filter 100PCS Cone Shaped Disposable Coffee Filter 1-4 Cups for Pour Over Coffee Drippers. Made in Japan\\\\nJapan imported high quality coffee filters. These will fit V60 02 Dripper (Capacity 1-4 cups). Made of unbleached natural pulp. Contains 100pcs disposable filters. 100PCS IN A PACK - Contains 100 disposable unbleached filters. Each filter is for single time use. MADE IN JAPAN - Manufactured by a Japanese paper maker, TOYO PAPER. Made from unbleached natural pulp. CONE DESIGN - This premium disposable coffee filter fits leading brand V60 Size 02 pour over coffee drippers. It can effectively separate and remove crushed bitter grounds and sediment. Fine\"}, {\"role\": \"assistant\", \"content\": \"Price is $5.99\"}]}\\n{\"messages\": [{\"role\": \"system\", \"content\": \"You estimate prices of items. Reply only with the price, no explanation\"}, {\"role\": \"user\", \"content\": \"How much does this cost?\\\\n\\\\nWhirlpool 279570 Dryer Door Latch Kit, White\\\\nProduct Description This is a genuine replacement part. The model number and name for the following item is Whirlpool 273570 Dryer Door Latch Kit. From the Manufacturer This is a genuine replacement part. The model number and name for the following item is Whirlpool 273570 Dryer Door Latch Kit Manufacturer model # 279570 Genuine Replacement Part Whirlpool item Brand Whirlpool, Color White, Material Acrylonitrile Butadiene Styrene, Style Classic, Weight 0.01 Ounces, Assembly Required Yes, Manufacturer Whirlpool, Part Dimensions 1.5 x 2.5 x 3.5 inches, model number Is Discontinued No, Quantity \"}, {\"role\": \"assistant\", \"content\": \"Price is $7.63\"}]}\\n{\"messages\": [{\"role\": \"system\", \"content\": \"You estimate prices of items. Reply only with the price, no explanation\"}, {\"role\": \"user\", \"content\": \"How much does this cost?\\\\n\\\\nOEM Refrigerator Door Bin Basket Shelf Tray Compatible With Samsung Model Numbers\\\\nUp for Sale are Samsung Refrigerator Basket Assemblies! This bin is for the Refrigerator section of your appliance. This bin is specifically for either of the bottom two bin positions. These bins were originally shipped with the following Samsung Refrigerators These items are NEW and are true Samsung parts! Refrigerator doors can have multiple bins, if the bin you are trying to replace does not look like the one in the picture or if you unsure if this is the correct bin or if you don\\'t See your model number -- Please send us a message so we can help you to select the correct bin. We are happy to help! This Is An Original Part! Installation Instructions Are NOT Included With This Part! Don\\'t See Your Model Listed\"}, {\"role\": \"assistant\", \"content\": \"Price is $107.99\"}]}\\n{\"messages\": [{\"role\": \"system\", \"content\": \"You estimate prices of items. Reply only with the price, no explanation\"}, {\"role\": \"user\", \"content\": \"How much does this cost?\\\\n\\\\nGE Knob Asm, 1 Count (Pack of 1)\\\\nThis is a genuine replacement part. The model number and name for the following item is GE Knob Asm This is an O.E.M. Authorized part Fits with various GE brand models Oem part # is The Package Weight Of The Product Is 1.01 Pounds Brand GE, Pieces 1, Special Feature Easy to Install, Age Range (Description) Adult, Included Components Knob, Unit Count 1.0 Count, s 1, Manufacturer GE, Part Weight 4 ounces, Dimensions 1 x 1 x 1 inches, Country of Origin Mexico, model number Is Discontinued No, Size 1 Count (Pack of 1), Finish Painted, Quantity 1, Special Features Easy\"}, {\"role\": \"assistant\", \"content\": \"Price is $24.25\"}]}\\n{\"messages\": [{\"role\": \"system\", \"content\": \"You estimate prices of items. Reply only with the price, no explanation\"}, {\"role\": \"user\", \"content\": \"How much does this cost?\\\\n\\\\nEnergy Star 24\\\\u2033 Built-In Stainless Steel Tall Tub Dishwasher w/Heated Drying \\\\u2013 White\\\\nThis sleek and modern built-in 14 place setting dishwasher is a great addition to any kitchen At 24 inches wide this large capacity unit can handle even the larger household dish-washing needs Features 2 pull out dish racks a 6 wash programs and time delay feature New to this model is an active heated drying function that provides exceptional dish drying capability This unit has a special top cutlery rack which prevents fine utensils that might potentially fall through the normal silverware basket Unlike most other 24\\\\u2033 models on the market this unit has a stainless steel interior tub for unmatched durability Features and Functions \\\\u00b7 Time Delay Feature allows you to program operation at a later start time (1-24 hours)\"}, {\"role\": \"assistant\", \"content\": \"Price is $629.02\"}]}\\n{\"messages\": [{\"role\": \"system\", \"content\": \"You estimate prices of items. Reply only with the price, no explanation\"}, {\"role\": \"user\", \"content\": \"How much does this cost?\\\\n\\\\nGE Genuine OEM Water Inlet Valve Assembly for GE Refrigerators\\\\nProduct Description This high quality Genuine OEM GE Appliances Water Inlet Valve Assembly supplies water to the ice maker and water dispenser. The Water Inlet Valve Assembly has electrical specifications of 115VAC and Please be aware that it is recommended to disconnect the appliance from all utilities prior to installation of the Water Inlet Valve Assembly. From the Manufacturer Water Valve. This part works with the following models General Electric General Electric General Electric General Electric General Electric The GE Appliances Water Inlet Valve Assembly is a genuine OEM (Original Equipment Manufacturer) part designed and engineered to exact specifications Replacement GE Appliances Refrigerator Water Inlet Valve Assembly supplies water to the ice maker and water dispenser GE Appliances Refrigerator Water Inlet Valve Assembly has electrical specifications of 115VAC\"}, {\"role\": \"assistant\", \"content\": \"Price is $46.10\"}]}\\n{\"messages\": [{\"role\": \"system\", \"content\": \"You estimate prices of items. Reply only with the price, no explanation\"}, {\"role\": \"user\", \"content\": \"How much does this cost?\\\\n\\\\nReusable Coffee Capsule, Refillable Pod Coffee Stainless Steel, Reusable Espresso Pods Refill Kit, Compatible With Nespresso Original Line Only(2 packs)\\\\n\\\\u2615 FOR NESPRESSO REUSABLE PODS We tested the reusable espresso pods on different coffee machines and it is compatible with Inissia C40, Inissia D40, F111 Lattissima One, Lattissima Pro F456, CitiZ& Milk C122, CitiZ C112, CitiZ D112, Expert C80, Expert& Milk C85, Pixie C60, Pixie C60P, Pixie Clips, Creatista Plus, Essenza Mini C30, But not compatible with Nespresso Vertuo series brewers \\\\ud83d\\\\udcb0 SAVE MONEY If you use this\"}, {\"role\": \"assistant\", \"content\": \"Price is $23.99\"}]}\\n{\"messages\": [{\"role\": \"system\", \"content\": \"You estimate prices of items. Reply only with the price, no explanation\"}, {\"role\": \"user\", \"content\": \"How much does this cost?\\\\n\\\\nHQRP 4-Pack Air Filters Compatible with Kenmore Elite Refrigerators 9918 Elite CleanFlow Replacement\\\\nHQRP Fresh Refrigerator Replacement Air Filter with forced air circulation and dedicated fan pushes cleaner, deodorized air into the refrigerator, keeping the air in your refrigerator pure and fresh. Help keep your food tasting fresh by periodically changing your refrigerator\\'s air filter. It\\\\u2019s best to change your air filter approximately every six months and/or when your CHANGE FILTER light comes on your LED control panel. Compatible with Kenmore Elite / 469918 / 9918 Elite CleanFlow Refrigerator Air Filter Replacement; All Kenmore Elite series Refrigerators and Freezers with CleanFlow Air Filter, Fits LG Electronics Fresh Air Filter refrigeration models (Check your refrigerator\\'s owner manual to ensure compatibility). HQRP\\\\u00ae\"}, {\"role\": \"assistant\", \"content\": \"Price is $36.95\"}]}\\n{\"messages\": [{\"role\": \"system\", \"content\": \"You estimate prices of items. Reply only with the price, no explanation\"}, {\"role\": \"user\", \"content\": \"How much does this cost?\\\\n\\\\nGENUINE Frigidaire Relay Board. Unit\\\\nProduct Description This is a genuine replacement part. The model number and name for the following item is Frigidaire (FRIGB) Relay Board. From the Manufacturer This is a genuine replacement part. The model number and name for the following item is Frigidaire (FRIGB) Relay Board Frigidaire (FRIGB) Genuine Replacement Part Frigidaire item Brand Name Frigidaire, Model Info Weight 1.43 pounds, Dimensions 6.25 x 5.25 x 8.13 inches, model number Part Rank Tools & Home Improvement Range Accessories 2279, Domestic Shipping can be shipped within U.S., International Shipping This item is not eligible for international shipping. Learn More\"}, {\"role\": \"assistant\", \"content\": \"Price is $267.50\"}]}\\n{\"messages\": [{\"role\": \"system\", \"content\": \"You estimate prices of items. Reply only with the price, no explanation\"}, {\"role\": \"user\", \"content\": \"How much does this cost?\\\\n\\\\nLG Genuine OEM Water Inlet Valve Assembly for LG Washing Machines\\\\nThis high quality OEM LG Detergent Dispenser is manufactured to exact specifications with durable materials and will fit a variety of LG Dishwasher models. LG Detergent Dispenser is located on the inner door panel and holds the dishwashing detergent and rinse aid for release during the dishwashing cycle. Offering security and reliability that your LG Dishwasher will function correctly. Compatible Models This LG is a genuine OEM (Original Equipment Manufacturer) part manufactured to exact specifications Replacement Suspension Rod Assembly for LG Washing Machines is also called the Suspension Kit LG Suspension Rod Assembly supports the tub within the washing machine and keeps the tub stable during unbalanced loads High quality OEM LG Washing Machine Suspension Rod Assembly is manufactured with premium materials for durability and exact fit, be sure to\"}, {\"role\": \"assistant\", \"content\": \"Price is $20.79\"}]}\\n{\"messages\": [{\"role\": \"system\", \"content\": \"You estimate prices of items. Reply only with the price, no explanation\"}, {\"role\": \"user\", \"content\": \"How much does this cost?\\\\n\\\\nThink Crucial Replacement Strainer Bag Compatible With Toddy\\\\u00ab Cold Brew System 5 Gallon Commercial Brewers, Washable & Reusable (1 Pack)\\\\nTOP BENEFITS OF REPLACING COFFEE STRAINER BAGS ON YOUR TODDY Cold Brew System 5 Gallon Commercial Brewers EXTREMELY DURABLE WASHABLE AND REUSABLE - EASY TO CLEAN INCREDIBLY SIMPLE TO USE PREMIUM FILTRATION GREAT FOR COMMERCIAL TODDY COLD BREW SYSTEM This strainer bag comes with a lifetime 100% guarantee, fits Toddy(R) Cold Brew System commercial brewers. Since it\\'s made of durable materials, there are no toxic chemicals involved in the brewing process. Please note the following important information about this product from Think Crucial (i\"}, {\"role\": \"assistant\", \"content\": \"Price is $28.00\"}]}\\n{\"messages\": [{\"role\": \"system\", \"content\": \"You estimate prices of items. Reply only with the price, no explanation\"}, {\"role\": \"user\", \"content\": \"How much does this cost?\\\\n\\\\n2-Pack Replacement for Refrigerator Water Filter - Compatible with Maytag Fridge Water Filter Cartridge\\\\nThis is a Denali Pure Brand replacement part, NOT an OEM product. All mentions of brand names or model descriptions are made strictly to illustrate compatibility. All brand names and logos are registered trademarks of their respective owners. This product is not affiliated with any OEM brands and is not covered under any warranties offered by the original manufacturers. Any warranties for this product are offered solely by Denali Pure. Replacement for Filter Manufacturer Upstart Battery, Part model number Is Discontinued No, Rank Tools & Home Improvement In-Refrigerator Water Filters 6829, Available May 27, 2015, Duration 6 \\\\\\\\tmonths, External Testing Certification ANSI, NSF, Brand Upstart Battery\"}, {\"role\": \"assistant\", \"content\": \"Price is $21.99\"}]}\\n{\"messages\": [{\"role\": \"system\", \"content\": \"You estimate prices of items. Reply only with the price, no explanation\"}, {\"role\": \"user\", \"content\": \"How much does this cost?\\\\n\\\\nReplacement for General Electric Bake Element - Compatible with General Electric Oven Heating Element\\\\nPlease note This is an UpStart Components brand replacement part, not an OEM product. This product is not affiliated with any OEM brands and is not covered under any warranties offered by the original manufacturers. Any warranties for this product are offered solely by Upstart Components. All mentions of brand names or model descriptions are made strictly to illustrate compatibility. All brand names and logos are registered trademarks of their respective owners. Replacement General Electric Oven Bake Element Replaces General Electric Oven Heating Element Quick and easy installation. Restore your old range and make it perform like brand new with this replacement heating element. Replace your heating element if you experience little or no heat, slow to heat up, uneven heat, inaccurate temperature. Manufacturer Upstart Battery, Part Rank\"}, {\"role\": \"assistant\", \"content\": \"Price is $25.99\"}]}\\n{\"messages\": [{\"role\": \"system\", \"content\": \"You estimate prices of items. Reply only with the price, no explanation\"}, {\"role\": \"user\", \"content\": \"How much does this cost?\\\\n\\\\nBryant/Carrier Humidifier Water Panel (with Distributor Tray)\\\\nWhole House Humidifier Filter - 2-Pack This high-quality product is made by a leading manufacturer to replace the humidifier filter (AKA water panel, water pad, evaporator pad) in many makes and models of whole house humidifiers. This product is found in the large bypass and fan-powered humidifiers manufactured by Bryant, Carrier, Totaline, Day & Night, Payne and many others. This humidifier filter includes an integral aluminum frame and felt wick on top for even distribution of water through the media. The filter is constructed using an expanded aluminum mesh pad covered with a special clay-like coating that absorbs water and removes mineral deposits. The process of humidification begins when water flows through a humidifier valve\"}, {\"role\": \"assistant\", \"content\": \"Price is $79.36\"}]}\\n{\"messages\": [{\"role\": \"system\", \"content\": \"You estimate prices of items. Reply only with the price, no explanation\"}, {\"role\": \"user\", \"content\": \"How much does this cost?\\\\n\\\\nUpgraded Dishwasher Heating Element by Emptty - Replacement for Whirlpool Replacement for Kenmore - Replaces\\\\nImportant! After the heating element is fixed, it must be suspended, and do not directly touch the plastic bottom of the dishwasher. Voltage 120V, maximum power up to 805W. Read carefully Note that if the thread on the bolt does not match the thread on the filament, you cannot use it. And Not replacement for Maytag Not replacement for Kenmore Upgrade Accessories Package includes 2 screws and 2 heater fasteners Fix Symptoms If the dishes in your dishwasher are not drying or the water in the dishwasher is not getting hot, you can consider replacing the heating element. Easy Installation Installing our heating element is easy and requires only adjustable wrenches, screwdrivers, and\"}, {\"role\": \"assistant\", \"content\": \"Price is $17.99\"}]}\\n{\"messages\": [{\"role\": \"system\", \"content\": \"You estimate prices of items. Reply only with the price, no explanation\"}, {\"role\": \"user\", \"content\": \"How much does this cost?\\\\n\\\\nFrigidaire Drive Cam\\\\nProduct Description The high quality Frigidaire Auger Motor Coupler ) attaches to the auger drive motor. The Auger Motor Coupler connects to the ice container auger and replaces Please be aware that it is recommended to use saftey equipment and to disconnect the appliance from all utilities prior to any service or repair. Please refer to your owners manual to confirm part numbers and for instructions as some repairs require a trained service professional to complete. From the Manufacturer This is a genuine replacement part. The model number and name for the following item is Frigidaire (FRIGB) Drive Cam The Frigidaire Auger Motor Coupler is a genuine OEM (Original Equipment Manufacturer) part designed and engineered to exact specifications Frigidaire Auger\"}, {\"role\": \"assistant\", \"content\": \"Price is $30.44\"}]}\\n{\"messages\": [{\"role\": \"system\", \"content\": \"You estimate prices of items. Reply only with the price, no explanation\"}, {\"role\": \"user\", \"content\": \"How much does this cost?\\\\n\\\\nViant\\\\u00e9 V60 Cone Coffee Paper Filters compatible with Hario & Chemex. 200 Ct Brown Unbleached. Size 02. Natural Bamboo Fibers. For Pour Over Drippers. 2-4 cups\\\\nExperience the excellence of unbleached, organic bamboo with our V60 Size 2 coffee filters. Designed in a convenient #2 cone shape, these filters guarantee optimal water flow, ensuring maximum extraction and enhancing the richness of your coffee. As an eco-conscious choice, they align perfectly with the sustainability principles of the V60 method, reducing your carbon footprint with each brew. A Superior Alternative To Hario V60 Filters Experience the purity of unbleached, organic bamboo with our V60 coffee filters. Enjoy a chemical-free brewing experience, compatible with Hario V60\"}, {\"role\": \"assistant\", \"content\": \"Price is $24.99\"}]}\\n{\"messages\": [{\"role\": \"system\", \"content\": \"You estimate prices of items. Reply only with the price, no explanation\"}, {\"role\": \"user\", \"content\": \"How much does this cost?\\\\n\\\\nDryer Bearing Repair Kit GE - WE3M26 Dryer Front Drum Bearing - Dryer Belt - Dryer Felt - Dryer Front Drum Slide - Dryer Bearing Drum Slide\\\\n\\\\ud83d\\\\udca1 Ge Dryer Bearing Kit - A high-quality exact equivalent for part numbers - The We3m26 Kit is compatible with General Electric and Hotpoint dryer models. Dryer Maintenance Kit includes components 1 x WE3M26 Drum Support Bearing, 1 x Drive Belt, 1 x Duct Felt Seal, 2 x Front Drum Slides, 2 x Bearing Drum Slides. It is important to verify the compatibility of the kit with your specific model. \\\\ud83d\\\\udd27 DIY eTips Included - Not sure how to replace the part? Helpful information can be found on the page below.\"}, {\"role\": \"assistant\", \"content\": \"Price is $33.95\"}]}\\n{\"messages\": [{\"role\": \"system\", \"content\": \"You estimate prices of items. Reply only with the price, no explanation\"}, {\"role\": \"user\", \"content\": \"How much does this cost?\\\\n\\\\nWhirlpool 285811 Agitator Repair Kit for Washer, White\\\\nProduct Description This is a genuine replacement part. The model number and name for the following item is Whirlpool 285811 Agitator Repair Kit for Washer From the Manufacturer Whirlpool 285811 Agitator Repair Kit for Washer. Works with the following model Inglis Whirlpool Whirlpool The kit includes short agitator cam, retainer, 4 dogs and a black spacer bearing. Genuine Whirlpool Replacement Part. Works with the following model Inglis The kit includes Medium cam agitator, retainer, 4 dogs and a black spacer bearing Works with model Whirlpool Manufacturer Whirlpool, Part LP285, Weight 1.58 ounces, Dimensions 3\"}, {\"role\": \"assistant\", \"content\": \"Price is $14.29\"}]}\\n{\"messages\": [{\"role\": \"system\", \"content\": \"You estimate prices of items. Reply only with the price, no explanation\"}, {\"role\": \"user\", \"content\": \"How much does this cost?\\\\n\\\\nFarberware Complete Portable Countertop Dishwasher, Glass & Fruit Wash-Black/White & Cascade Complete Dishwasher-Pods, ActionPacs Dishwasher Detergent Tabs, Fresh Scent, 78 Count\\\\nFarberware Complete Portable Countertop Dishwasher with Built-in Water Tank, 5 Programs, Baby Care, Glass & Fruit Wash-Black/WhiteIf you have water electricity and 40 minutes you can clean your dishes - anywhere and anytime! Whether it\\'s in your kitchen Camping on your boat or RV or at an event now dirty dishes are a thing of the past The Farberware professional complete dishwasher can be placed on any countertop or sturdy table and gives you the choice of using its built-in water tank or a quick faucet hook-up It offers 6 different\"}, {\"role\": \"assistant\", \"content\": \"Price is $390.56\"}]}\\n{\"messages\": [{\"role\": \"system\", \"content\": \"You estimate prices of items. Reply only with the price, no explanation\"}, {\"role\": \"user\", \"content\": \"How much does this cost?\\\\n\\\\nHRTSELEC 20MM Ceramics Ultrasonic Mist Maker Fogger Replacement Discs for Humidifier Parts with Replacement Tool - 6 Pack\\\\nSize 20 mm Diameter Package includes 6 Piece 20 mm Discs, 1 Piece Replacement Tool Frequency Output Atomization amount. Ceramic replacement disc diameter is 20mm (not include rubber ring) Easy to change and install,This Ceramic Disc is mainly used in the household humidifier. High temperature calcined ceramic atomizer, Anti-aging, anti-corrosion, durable. Package includes 6 x 20mm Ultrasonic mist maker Replacement Tool Dimensions 4.06 x 3.54 x 1.26 inches, Weight 1.09 ounces, Manufacturer hrts, Rank Tools & Home Improvement Humidifier Parts\"}, {\"role\": \"assistant\", \"content\": \"Price is $11.99\"}]}\\n{\"messages\": [{\"role\": \"system\", \"content\": \"You estimate prices of items. Reply only with the price, no explanation\"}, {\"role\": \"user\", \"content\": \"How much does this cost?\\\\n\\\\nEdgeStar 50 Lb. 15 Inch Wide Undercounter Clear Ice Maker - Stainless Steel\\\\n25 lbs of ice storage (While it is well insulated, this ice maker is not a freezer); Up to 50 lbs of ice production/day PLEASE NOTE Ice is produced in sheets PLEASE NOTE The drain line included with this maker is gravity-only. ALSO NOTE A condensate pump (not included) is needed for pumping the water to any location other than a close-by floor drain. Installation by a licensed plumber is recommended. Commercial-grade stainless steel door; Removable ice bin; Computerized controls; For freestanding or built-in applications; Reversible door; Adjustable leveling legs; Ice scoop included Produces restaurant quality clear, cubed ice; Gravity drain only (Drain required); Ice comes\"}, {\"role\": \"assistant\", \"content\": \"Price is $874.30\"}]}\\n{\"messages\": [{\"role\": \"system\", \"content\": \"You estimate prices of items. Reply only with the price, no explanation\"}, {\"role\": \"user\", \"content\": \"How much does this cost?\\\\n\\\\nRefrigerator Evaporator Fan Motor Compatible with Whirlpool Kenmore Refrigerator Replaces\\\\nPARTS NUMBER - evaporator fan motor. specification approximately 2-Inch long, wide and 3-Inch high EASY TO INSTALL- This motor is easy to install. Before installation, please cut off the power supply, and wear gloves to protect your hands, It comes with wiring harness, it is located in the back of the freezer PREMIUM QUALITY- This evaporator motor made of durable high quality material and well-tested by the manufacturer - Ensure long-lasting and effective performance. This part fixes the following symptoms Fridge section is too warm, fridge section is too cold, freezer section is too warm, freezer section is too cold, leaking water, frost buildup, unusual noises PERF\"}, {\"role\": \"assistant\", \"content\": \"Price is $16.99\"}]}\\n{\"messages\": [{\"role\": \"system\", \"content\": \"You estimate prices of items. Reply only with the price, no explanation\"}, {\"role\": \"user\", \"content\": \"How much does this cost?\\\\n\\\\nNostalgic Warehouse 721894 New York Plate with Keyhole Passage Waldorf Emerald Door Knob in Satin Nickel, 2.375\\\\nThe clean lines and tailored style of the new York plate gives a distinctive look that will last for years. Pair this with our waldorf door knob, and its crisp clean edges, for a lucent look. All Nostalgic Warehouse door knobs are mounted on a solid (not plated) forged brass base for durability and beauty. Solid forged brass plates with genuine lead Crystal door knobs for detail and clarity Passage ideal for closets, hallways or rooms where no locking mechanism is needed Complete set for one door (both sides) with 2-3/8\\\\u201d backset Perfect for restoration and easy to install on modern pre-drilled doors\"}, {\"role\": \"assistant\", \"content\": \"Price is $183.75\"}]}\\n{\"messages\": [{\"role\": \"system\", \"content\": \"You estimate prices of items. Reply only with the price, no explanation\"}, {\"role\": \"user\", \"content\": \"How much does this cost?\\\\n\\\\nFilters Fast D13-C Compatible Replacement for Honeywell Humidifier Wick Filter Actual Size 6 x 4 x 2, 2 Pack\\\\nFilters Fast D13-C Compatible Replacement for Honeywell Humidifier Filter r The Filters Fast D13-C humidifier filter replacement is a cost-effective, high-quality compatible replacement for Honeywell humidifier filter. Designed to filter debris in your tank, it\\\\u2019s reinforced for longer filter life and maximum efficiency. Compatible replacement for Honeywell model number. Product Features \\\\u27a2 Filter Life (Months) every 2 months depending on water quality.\\\\u27a2Approximate Dimensions of 6 x 4 x 2 About Filters Fast It all started back in 2003 when Ray, the owner of Filters Fast, needed to change the filter on his refrigerator. It\"}, {\"role\": \"assistant\", \"content\": \"Price is $12.99\"}]}\\n{\"messages\": [{\"role\": \"system\", \"content\": \"You estimate prices of items. Reply only with the price, no explanation\"}, {\"role\": \"user\", \"content\": \"How much does this cost?\\\\n\\\\nDishwasher Tub Gasket Genuine OEM\\\\nImportant Any use of the manufacturers brand name, part numbers or model designation for this product is made solely for purposes of demonstrating and for identification compatibility and are displayed for descriptive purposes only. Use of the Manufacturers trade names and logos are the registered trademarks of their respective owners. Use of them does not associated with, imply any affiliation or endorsement by any manufacturer. This tub gasket (part number is for dishwashers. Tub gasket creates a watertight seal between the dishwasher tub and door Part # Replaces Substitution The manufacturer substituted part with this new part Compatible with Brands GE, Hotpoint Brand Name Door Gasket, Model Info Weight 5.6 ounces, Dimensions 11.57 x 8.74 x 2.09 inches,\"}, {\"role\": \"assistant\", \"content\": \"Price is $14.64\"}]}\\n{\"messages\": [{\"role\": \"system\", \"content\": \"You estimate prices of items. Reply only with the price, no explanation\"}, {\"role\": \"user\", \"content\": \"How much does this cost?\\\\n\\\\n& Dryer Heating Element & Thermostat Kit Replacement for Kenmore - Compatible Heater Element, Thermal Cut-Off Kit, Thermistor & Thermal Fuse Kit\\\\nUpStart Components Replacement & Dryer Heating Element & Thermostat Combo Pack for Kenmore / Sears DryerPlease note This is an UpStart Components Brand replacement part, NOT an OEM product. All mentions of brand names or model descriptions are made strictly to illustrate compatibility. All brand names and logos are registered trademarks of their respective owners. This product is not affiliated with any brands and is not covered under any warranties offered by the original manufacturers. Any warranties for this product are offered solely by UpStart Components. UpStart Components Replacement & Dryer Heating Element & Thermostat Combo Pack for Kenmore / Sears Dryer Ultra durable, high quality material resists\"}, {\"role\": \"assistant\", \"content\": \"Price is $31.99\"}]}\\n{\"messages\": [{\"role\": \"system\", \"content\": \"You estimate prices of items. Reply only with the price, no explanation\"}, {\"role\": \"user\", \"content\": \"How much does this cost?\\\\n\\\\nHayWHNKN Continuous Band Sealer Machine Automatic Horizontal Plastic PVC Bag Band Sealing Machine 110V (FR770 Horizontal)\\\\nAutomatic With thermostatic control and automatic conveyor, simple and easy to use. Pring Function Included Can seal all kinds of length size. And have different sealing pattern effects. Meanwhile, it can print remark, date, time, logo simultaneously with the sealing. Multiple Application Suitable for bags with thickness of on both sides. Fit for the seal of plastic bag, aluminum foil bag, compound bag in the industry of light Industry such as food Stuff, agriculture. Equipped with emergency stop switch Equipped with emergency stop switch, it can stop quickly in case of emergency. Pure copper heating block, evenly heated and durable. Rank Industrial & Scientific Commercial Bag Sealers 110,\"}, {\"role\": \"assistant\", \"content\": \"Price is $355.00\"}]}\\n{\"messages\": [{\"role\": \"system\", \"content\": \"You estimate prices of items. Reply only with the price, no explanation\"}, {\"role\": \"user\", \"content\": \"How much does this cost?\\\\n\\\\nSupplying Demand Gas Range Control Knob Replacement\\\\nAlternate part numbers include and Black | 2 Inch diameter | New knobs are a quick and easy DIY repair to keep your appliance in top shape | Fits model specific gas ranges It is important to disconnect your appliance from the power and gas supply before servicing. Supplying Demand replacement parts are compatible with Major Brands, but you should always verify fitment with your specific model. We have included a video in the product gallery to help you find your model number and information in the description below. SD products come in Supplying Demand packaging. Material Plastic, Brand Supplying Demand, Color Black, Style Replacement, Pieces 1, Handle Type Knob, Shape Round, Special Feature Easy to Install, Included Components Knob, Finish Type Glossy, Unit Count \"}, {\"role\": \"assistant\", \"content\": \"Price is $20.99\"}]}\\n{\"messages\": [{\"role\": \"system\", \"content\": \"You estimate prices of items. Reply only with the price, no explanation\"}, {\"role\": \"user\", \"content\": \"How much does this cost?\\\\n\\\\n10 Pack Stove Burner Covers, Reusable Thick Gas Range Protectors, Non-stick Stovetop Burner Liner, Heat Resistant, 10.6\\\\u201dx 10.6\\\\u201d\\\\n\\\\u2665 CUTTABLE the Stove Burner Liners length it can be cut at will, can match a variety of stove, so you don\\'t have to worry about the size when you purchase. \\\\u2665 EASY TO WASH Stove burner covers can be washed with water and soap or in the dishwasher, So you can save time cleaning the hob. \\\\u2665 REUSABLE The protectors are resistant to oil, water, corrosion, and high temperatures,Eco-friendly materials so they are completely reusable. \\\\u2665 HEAT RESISTANT Stovetop Covers As well as being heat resistant up\"}, {\"role\": \"assistant\", \"content\": \"Price is $9.99\"}]}\\n{\"messages\": [{\"role\": \"system\", \"content\": \"You estimate prices of items. Reply only with the price, no explanation\"}, {\"role\": \"user\", \"content\": \"How much does this cost?\\\\n\\\\nSupplying Demand Refrigerator Ice Maker Assembly Replacement Model Specific Not Universal\\\\nPlease see Model Number fitment information at the bottom of this page before placing your order for this part. Alternate part numbers include and (6) Cube, solid tray with electronic eye sensor | Fits model specific counter depth refrigerators It is important to disconnect your appliance from the power and water supply before servicing. If your new ice maker is not making ice the freezer temperature may be too high, your water filter may be clogged, your thermostat may be defective, or you may have inadequate water pressure. Supplying Demand replacement parts are compatible with Major Brands, but you should always verify fitment with your specific model. We have included a video in the product gallery to help you find your model number and information in the description below.\"}, {\"role\": \"assistant\", \"content\": \"Price is $102.99\"}]}\\n{\"messages\": [{\"role\": \"system\", \"content\": \"You estimate prices of items. Reply only with the price, no explanation\"}, {\"role\": \"user\", \"content\": \"How much does this cost?\\\\n\\\\nWhirlpool Chute Door Ice\\\\nProduct Description This is a Genuine Replacement Part,The Model Number and Name for the Following Item Whirlpool (WHIRA) Chute - Door, Ice. From the Manufacturer This is a Genuine Replacement Part,The Model Number and Name for the Following Item Whirlpool (WHIRA) Chute - Door, Ice Whirlpool (WHIRA) Genuine Replacement Part Refrigerator-replacement-parts Manufacturer Whirlpool, Part Weight 0.02 Pounds, Dimensions 3.3 x 1.4 x 3.9 inches, model number Quantity 1, Special Features Easy to Install, Available August 27, 2008, Brand Whirlpool, Special Feature Easy to Install, Unit Count 1.0 Count, s \"}, {\"role\": \"assistant\", \"content\": \"Price is $21.98\"}]}\\n{\"messages\": [{\"role\": \"system\", \"content\": \"You estimate prices of items. Reply only with the price, no explanation\"}, {\"role\": \"user\", \"content\": \"How much does this cost?\\\\n\\\\nR.W.FLAME Protable Nugget Ice Maker Countertop, Pebble/Pellet Ice Maker Machine with Auto Ice Scoop and Basket,Ice Machine for Home Office Bar Party,Black\\\\nFast Ice Making & Large Capacity This nugget ice maker will make ice cubes in 10-15 minutes, and takes you very little time to get ice cube. It has a capacity water tank. You can have 35 pounds square ice cubes in Compact & Convenient Design Our chewable ice makers with a carrying handle are extremely portable and compact. Measured at inches, our portable ice maker countertop makes you take it easily with yourself. And this also makes it a great choice for home, kitchen, office, coffee shop, parties, bar or even RV n where space is at a premium\"}, {\"role\": \"assistant\", \"content\": \"Price is $199.99\"}]}\\n{\"messages\": [{\"role\": \"system\", \"content\": \"You estimate prices of items. Reply only with the price, no explanation\"}, {\"role\": \"user\", \"content\": \"How much does this cost?\\\\n\\\\nFrigidaire Pump Assembly for Dishwasher\\\\nFrom the Manufacturer Frigidaire Pump Assembly for Dishwasher. This part works with the following models Frigidaire Frigidaire Frigidaire Frigidaire Frigidaire Frigidaire Genuine Replacement Part. This part works with the following models Frigidaire Frigidaire Frigidaire Frigidaire Frigidaire Frigidaire Genuine Replacement Part Manufacturer Frigidaire, Part Weight 1.5 pounds, Dimensions 8.2 x 6.2 x 5.5 inches, model number Is Discontinued No, Style Above Ground, Quantity 1, Rank Tools & Home Improvement Parts & Accessories Available February 3, 2010\"}, {\"role\": \"assistant\", \"content\": \"Price is $110.95\"}]}\\n{\"messages\": [{\"role\": \"system\", \"content\": \"You estimate prices of items. Reply only with the price, no explanation\"}, {\"role\": \"user\", \"content\": \"How much does this cost?\\\\n\\\\nOEM LG Dishwasher Drain Hose Line Originally for LG\\\\nThis part does NOT come with installation instructions. The drain hose carries used water from the dishwasher to the drain. This Drain Hose is for the following LG Dishwashers If your Dishwasher is NOT listed above, please send us a message so we may help you obtain the correct part! Installation Instructions Are NOT Included With This Part! This Is An Original Part! Purchase With Confidence! Don\\'t See Your Model Listed? Send A Message - Happy To Help! Brand Name GenuineOEMLG, Weight 2 ounces, Dimensions 18 x 18 x 2 inches, Is Discontinued No, Color Gray, Rank Tools & Home Improvement Dishwasher Replacement Hoses 1359, Available February 21, 2016\"}, {\"role\": \"assistant\", \"content\": \"Price is $53.99\"}]}\\n{\"messages\": [{\"role\": \"system\", \"content\": \"You estimate prices of items. Reply only with the price, no explanation\"}, {\"role\": \"user\", \"content\": \"How much does this cost?\\\\n\\\\nFrigidaire Oven Control Board\\\\nThe high quality Frigidaire Control Board ) monitors the temperature and controls the oven heat. The Control Board has an electronic clock/timer display and replaces Please be aware that it is recommended to use saftey equipment and to disconnect the appliance from all utilities prior to any service or repair. Please refer to your owners manual to confirm part numbers and for instructions as some repairs require a trained service professional to complete. The Frigidaire Control Board is a genuine OEM (Original Equipment Manufacturer) part designed and engineered to exact specifications Frigidaire Control Board monitors the temperature and controls the oven heat Frigidaire has an electronic clock/timer display The high quality Frigidaire Control Board replaces With Frigidaire, you can be sure you\"}, {\"role\": \"assistant\", \"content\": \"Price is $114.99\"}]}\\n{\"messages\": [{\"role\": \"system\", \"content\": \"You estimate prices of items. Reply only with the price, no explanation\"}, {\"role\": \"user\", \"content\": \"How much does this cost?\\\\n\\\\nGENUINE Whirlpool Lid Assembly Washer\\\\nProduct Description This is a Genuine Replacement Part, The Model Number and Name for The Following Item Whirlpool (WHIRA) Lid Assembly - Washer. From the Manufacturer This is a Genuine Replacement Part,The Model Number and Name for The Following Item Whirlpool (WHIRA) Lid Assembly - Washer Whirlpool (Whira) This Is A Genuine Replacement Part Appliance-Replacement-Parts Brand Name Whirlpool Manufacturer Whirlpool, Part Weight 11.73 pounds, Dimensions 31 x 19.5 x 2.25 inches, model number Is Discontinued No, Quantity 1, Rank Tools & Home Improvement Washer Parts & Accessories 2206, Available August 16, 2013\"}, {\"role\": \"assistant\", \"content\": \"Price is $229.14\"}]}\\n{\"messages\": [{\"role\": \"system\", \"content\": \"You estimate prices of items. Reply only with the price, no explanation\"}, {\"role\": \"user\", \"content\": \"How much does this cost?\\\\n\\\\nGE Appliances Broil Element for Late Model GE, RCA, Hotpoint, and Kenmore Ranges\\\\nProduct Description This is an authorized aftermarket product. Fits with various GE brand models. It has a oem part # From the Manufacturer General Electric Broil Element for Late Model GE, RCA, Hotpoint, and Kenmore Ranges is a genuine GE factory part. It comes with GE\\'s 1 year warranty and is a common replacement part for many range models. This is an O.E.M. Authorized part Fits with various GE brand models Oem part # Genuine GE factory part Length 16 1/2, width 14 1/4, terminal depth 2 1/2 2 loops 3500 Watts Manufacturer GE, Part Weight 12.8 ounces, Dimensions\"}, {\"role\": \"assistant\", \"content\": \"Price is $41.79\"}]}\\n{\"messages\": [{\"role\": \"system\", \"content\": \"You estimate prices of items. Reply only with the price, no explanation\"}, {\"role\": \"user\", \"content\": \"How much does this cost?\\\\n\\\\nUpgraded Lifetime Appliance Door Handle Compatible with Frigidaire Range Oven\\\\n\\\\u2705 Part Numbers \\\\u2705 High quality, non-OEM Replacement Door Handle Compatible with Frigidaire Range Oven \\\\u2705 Size 28-7/8 \\\\u2705 Fits models beginning with 79036, 7904, 79071, 7907, 79090, 79094, 7909 \\\\u2705 Please note screws are sold separately. Screw part number is Brand Lifetime Appliance Parts, Color Black, Dimensions 28\\\\\\\\ L x 7\\\\\\\\ W, Pieces 1, Special Feature Easy to Install, Included Components Screw, Finish Type Non-OEM, Unit Count 1.0 Count, Brand Name Lifetime Appliance Parts, Weight 12 ounces, Is Discontinued No, Part\"}, {\"role\": \"assistant\", \"content\": \"Price is $59.95\"}]}\\n{\"messages\": [{\"role\": \"system\", \"content\": \"You estimate prices of items. Reply only with the price, no explanation\"}, {\"role\": \"user\", \"content\": \"How much does this cost?\\\\n\\\\nGLOB PRO SOLUTIONS Refrigerator Ice maker Water Valve Compatible with Uline 2552A\\\\nEverything to really get your appliance working! This part has been developed byGLOB PRO SOLUTIONS, upgrading the item by adding components, accessories, and an installation manual to make faster and easier the repair process. The development of this kit is based on the experience of specialized technicians and engineers on home repairs on this field adding the components or accessories suggested by them to solve and completely repair the same day. Optional Express mail available at checkout. Same business day shipping after receiving clear payment. Remember business days are Monday thru Friday, excluding Holidays in the US New design compatible with 2552A and ten more replacements for all new models The new product is made from high quality material and OEM specifications as a generic\"}, {\"role\": \"assistant\", \"content\": \"Price is $65.14\"}]}\\n{\"messages\": [{\"role\": \"system\", \"content\": \"You estimate prices of items. Reply only with the price, no explanation\"}, {\"role\": \"user\", \"content\": \"How much does this cost?\\\\n\\\\nOEM Samsung Dryer Lint Filter Screen Trap Shipped With\\\\nThis Samsung lint filter originally shipped with the following Samsung dryers This item is NEW! Don\\'t see your model number listed? Send us a message as we are happy to help! This Is An Original Part! Usage Instructions Do NOT Accompany This Part! Purchase With Confidence! This Part Was Originally Shipped With Your Dryer! Don\\'t See Your Model Number Listed? Send A Message! Happy To Help! Brand Name SAMSUNG, Dimensions 6 x 3 x 1 inches, Is Discontinued No, Part Special Features Ergonomic, Color Grey, Rank Tools & Home Improvement Dryer Replacement Parts 31552, Available December 20, 2016, Brand SAMSUNG, Special Feature Ergonomic, Connectivity\"}, {\"role\": \"assistant\", \"content\": \"Price is $59.99\"}]}\\n{\"messages\": [{\"role\": \"system\", \"content\": \"You estimate prices of items. Reply only with the price, no explanation\"}, {\"role\": \"user\", \"content\": \"How much does this cost?\\\\n\\\\nWhirlpool Lid Switch Assembly, White\\\\nDirect-drive washer lid switch assembly, If the washing machine does not spin the lid switch may have failed. Need basic hand tools Some disassembly required\\\\u2014some repair experience helpful Prior to installation, unplug washer or turn off home circuit breaker and wear gloves for protection of hands Manufacturer Whirlpool, Part Weight 0.353 ounces, Dimensions 3 x 2 x 2 inches, model number Is Discontinued No, Color white, Material Acrylonitrile Butadiene Styrene, Quantity 1, Included Components Washer Lid Switch Assembly, Rank Tools & Home Improvement Washer Parts & Accessories 988, Available August 16, 2013, Operation Mode Off, Connector Type Plug In, Brand Whirlpool, Dimensions LxWx\"}, {\"role\": \"assistant\", \"content\": \"Price is $19.27\"}]}\\n{\"messages\": [{\"role\": \"system\", \"content\": \"You estimate prices of items. Reply only with the price, no explanation\"}, {\"role\": \"user\", \"content\": \"How much does this cost?\\\\n\\\\nCompatible with Whirlpool Silverware Basket\\\\n- Part Compatibility and Fitment | Not sure? - Before placing your order, we recommend that you verify part compatibility. Send us an email providing your appliance model number! - All parts are made by OEM manufacturers - This part has been developed by ProRetailer, upgrading the item by adding components - All products are 100% Brand New - Any use of the Manufacturers brand name, part numbers or model designation for this product is made solely for purposes of demonstrating and for identification compatibility and are displayed for descriptive purposes only. Exported By ExportYourStore Compatible with Compatible Whirlpool brands include Whirlpool,Maytag,KitchenAid,Jenn-Air,Amana,Magic Chef,Admiral,Norge,Roper,Kenmore and others.,\"}, {\"role\": \"assistant\", \"content\": \"Price is $72.60\"}]}'"
      ]
     },
     "execution_count": 47,
     "metadata": {},
     "output_type": "execute_result"
    }
   ],
   "source": [
    "with open('file_content1.jsonl','r') as f:\n",
    "    file1 = f.read()\n",
    "file1"
   ]
  },
  {
   "cell_type": "code",
   "execution_count": 49,
   "id": "a6eef0eb",
   "metadata": {},
   "outputs": [
    {
     "data": {
      "text/plain": [
       "'{\"messages\": [{\"role\": \"system\", \"content\": \"You estimate prices of items. Reply only with the price, no explanation\"}, {\"role\": \"user\", \"content\": \"How much does this cost?\\\\n\\\\nDryer Heating Element Whirlpool Maytag Kenmore\\\\n\\\\ud83d\\\\udca1 Whirlpool Dryer Heating Element - A high-quality exact equivalent for part numbers Dryer Heating Element is compatible with Amana, Crosley, Inglis, Kenmore, Maytag, Whirlpool dryer heating element. Whirlpool Single Element fits hundreds of models. It is an essential component of the dryer\\'s heating system, responsible for generating heat to dry clothes during the drying cycle. \\\\ud83d\\\\udd27 DIY eTips Included - Not sure how to replace Kenmore Dryer Heating Element Helpful information can be found on the page below. Scroll down to get more repair tips. Acquire valuable skills during the DIY repair project. Whirlpool Heating Element will help if there\\'s no heat or not enough heat, it takes too\"}, {\"role\": \"assistant\", \"content\": \"Price is $19.95\"}]}\\n{\"messages\": [{\"role\": \"system\", \"content\": \"You estimate prices of items. Reply only with the price, no explanation\"}, {\"role\": \"user\", \"content\": \"How much does this cost?\\\\n\\\\nUpgraded Lifetime Appliance Knob Compatible with Whirlpool Stove/Range\\\\nSPECIFICATIONS Compatible with Whirlpool Oven, Range or Stove Replaces part numbers If you are unsure our replacement part will fit your appliance model, we are happy to help! Please send us a message with (1) your appliance\\'s model number and (2) the item in question and we can help confirm if this item fits. Please do not order the part unless you are sure. There are many replacement parts that look similar to one another but will NOT fit. \\\\u2705 Part Numbers \\\\u2705 WARNING - PLEASE READ Please be aware even though is imprinted on the back of your knob, please confirm the model number and stem length before ordering. The print on the back of your knob may be incorrect.\"}, {\"role\": \"assistant\", \"content\": \"Price is $21.95\"}]}\\n{\"messages\": [{\"role\": \"system\", \"content\": \"You estimate prices of items. Reply only with the price, no explanation\"}, {\"role\": \"user\", \"content\": \"How much does this cost?\\\\n\\\\nReplacement Aluminum Filters Compatible with Broan 13-3/4 X 14 X 3/8 (2 PTSS, 2 TSSS)\\\\nFilter Everything\\'s A60463 replacement aluminum range filters are compatible with many models, including Broan Dimensions measure 13-3/4 X 14 X 3/8 WITH 2 PULL TABS AND TWO SPRINGS Sold as a Please double check the measurments of your filters before purchasing these to ensure you are buying the right item. Replacement Aluminum Filters Compatible with Broan Dimensions measure 13-3/4 X 14 X 3/8 (2 PTSS, 2 TSSS) inches 2-Pack Brand Name Filter Everything, Model Info 2 Pack, Weight 6.4 ounces, Dimensions\"}, {\"role\": \"assistant\", \"content\": \"Price is $34.65\"}]}\\n{\"messages\": [{\"role\": \"system\", \"content\": \"You estimate prices of items. Reply only with the price, no explanation\"}, {\"role\": \"user\", \"content\": \"How much does this cost?\\\\n\\\\nNiveaya 200 Count Coffee Filters - Size 02, Coffee Filters, Natural Paper Coffee Filter, Coffee Filter 2 Cone Paper. (2-4 Cup)\\\\n200 PCS per One Pack - The package contains 200 pieces of Coffee Filter #2, which can meet different needs. You can enjoy freshly ground coffee at home or in the office. Standard Size - The standard size of Coffee Filters 02 Cone Paper is suitable for pour-over brewers, the radius of the Coffee Filters 2 is 4.8 inch. Friendly for Users - Coffee Filter Paper is upgraded with new hanging ears, which can help to open the Filter Paper faster and more convenient for users. Refuse Coffee Grounds Leaking - The Coffee Cilter Paper is very sturdy and firm, which can prevent coffee grounds leaking\"}, {\"role\": \"assistant\", \"content\": \"Price is $9.99\"}]}\\n{\"messages\": [{\"role\": \"system\", \"content\": \"You estimate prices of items. Reply only with the price, no explanation\"}, {\"role\": \"user\", \"content\": \"How much does this cost?\\\\n\\\\nWhirlpool Dishwasher Rack Repair Kit, White\\\\nGenuine Original Equipment Manufacturer (OEM) parts! This tine tip repair kit (part number is for dishwashers. Tine tip repair kit includes tine tips and vinyl touch-up liquid to repair damaged or rusted dishrack tines. Apply the vinyl touch-up liquid in a well-ventilated area. For Kitchenaid, Whirlpool, Kenmore, Kenmore Elite, Maytag, Jenn-Air, Amana, Ikea, Estate, Crosley, Inglis, Magic Chef, Roper, Fulgor, & Kenmore Pro. This part is compatible with models including; This is a manufacturer substitution. Part may differ in appearance but is a functional equivalent to prior parts including;\"}, {\"role\": \"assistant\", \"content\": \"Price is $34.53\"}]}\\n{\"messages\": [{\"role\": \"system\", \"content\": \"You estimate prices of items. Reply only with the price, no explanation\"}, {\"role\": \"user\", \"content\": \"How much does this cost?\\\\n\\\\nFrigidaire Element, 1, Black\\\\nProduct Description This is a genuine replacement part. The model number and name for the following item is Frigidaire Element. From the Manufacturer This is a genuine replacement part. The model number and name for the following item is Frigidaire Element. Frigidaire Item Manufacturer Model # This Is A Genuine Replacement Part Brand Name Frigidaire Brand Name Frigidaire, Model Info Weight 13.6 ounces, Dimensions 1.5 x 2.5 x 3.5 inches, Country of Origin USA, model number Is Discontinued No, Part Color Black, Rank Tools & Home Improvement Oven Parts & Accessories 351, Domestic Shipping can be shipped within U.S., International Shipping This item can be shipped to\"}, {\"role\": \"assistant\", \"content\": \"Price is $78.85\"}]}\\n{\"messages\": [{\"role\": \"system\", \"content\": \"You estimate prices of items. Reply only with the price, no explanation\"}, {\"role\": \"user\", \"content\": \"How much does this cost?\\\\n\\\\nEslite Covered Egg Holder,Egg Storage for Refrigerator,Fits 18 Eggs,Pack of 2\\\\nKeeps your eggs fresh and prevents it getting crushed or smashed. Made of PP plastic, durably and hygienic, food-safe storage. Holds up to 18 eggs, could use as deviled egg tray. Clear for easy visibility. A classic way to store or serve eggs, unique and distinctive see-through plastic egg cartons make packaging for specialty, safely and hygienically. Items feature fresh for longer, securely stored, and neatly organized. This egg holder keeps stacked items in securely place, whether in the freezer, refrigerator, or cupboard.Keeps your eggs fresh and prevents it getting crushed or smashed. Great to hold the eggs safely while preserving their freshness Made of durable\"}, {\"role\": \"assistant\", \"content\": \"Price is $14.99\"}]}\\n{\"messages\": [{\"role\": \"system\", \"content\": \"You estimate prices of items. Reply only with the price, no explanation\"}, {\"role\": \"user\", \"content\": \"How much does this cost?\\\\n\\\\nTOYO PAPER #102 Coffee Filter 100PCS Cone Shaped Disposable Coffee Filter 1-4 Cups for Pour Over Coffee Drippers. Made in Japan\\\\nJapan imported high quality coffee filters. These will fit V60 02 Dripper (Capacity 1-4 cups). Made of unbleached natural pulp. Contains 100pcs disposable filters. 100PCS IN A PACK - Contains 100 disposable unbleached filters. Each filter is for single time use. MADE IN JAPAN - Manufactured by a Japanese paper maker, TOYO PAPER. Made from unbleached natural pulp. CONE DESIGN - This premium disposable coffee filter fits leading brand V60 Size 02 pour over coffee drippers. It can effectively separate and remove crushed bitter grounds and sediment. Fine\"}, {\"role\": \"assistant\", \"content\": \"Price is $5.99\"}]}\\n{\"messages\": [{\"role\": \"system\", \"content\": \"You estimate prices of items. Reply only with the price, no explanation\"}, {\"role\": \"user\", \"content\": \"How much does this cost?\\\\n\\\\nWhirlpool 279570 Dryer Door Latch Kit, White\\\\nProduct Description This is a genuine replacement part. The model number and name for the following item is Whirlpool 273570 Dryer Door Latch Kit. From the Manufacturer This is a genuine replacement part. The model number and name for the following item is Whirlpool 273570 Dryer Door Latch Kit Manufacturer model # 279570 Genuine Replacement Part Whirlpool item Brand Whirlpool, Color White, Material Acrylonitrile Butadiene Styrene, Style Classic, Weight 0.01 Ounces, Assembly Required Yes, Manufacturer Whirlpool, Part Dimensions 1.5 x 2.5 x 3.5 inches, model number Is Discontinued No, Quantity \"}, {\"role\": \"assistant\", \"content\": \"Price is $7.63\"}]}\\n{\"messages\": [{\"role\": \"system\", \"content\": \"You estimate prices of items. Reply only with the price, no explanation\"}, {\"role\": \"user\", \"content\": \"How much does this cost?\\\\n\\\\nOEM Refrigerator Door Bin Basket Shelf Tray Compatible With Samsung Model Numbers\\\\nUp for Sale are Samsung Refrigerator Basket Assemblies! This bin is for the Refrigerator section of your appliance. This bin is specifically for either of the bottom two bin positions. These bins were originally shipped with the following Samsung Refrigerators These items are NEW and are true Samsung parts! Refrigerator doors can have multiple bins, if the bin you are trying to replace does not look like the one in the picture or if you unsure if this is the correct bin or if you don\\'t See your model number -- Please send us a message so we can help you to select the correct bin. We are happy to help! This Is An Original Part! Installation Instructions Are NOT Included With This Part! Don\\'t See Your Model Listed\"}, {\"role\": \"assistant\", \"content\": \"Price is $107.99\"}]}\\n{\"messages\": [{\"role\": \"system\", \"content\": \"You estimate prices of items. Reply only with the price, no explanation\"}, {\"role\": \"user\", \"content\": \"How much does this cost?\\\\n\\\\nGE Knob Asm, 1 Count (Pack of 1)\\\\nThis is a genuine replacement part. The model number and name for the following item is GE Knob Asm This is an O.E.M. Authorized part Fits with various GE brand models Oem part # is The Package Weight Of The Product Is 1.01 Pounds Brand GE, Pieces 1, Special Feature Easy to Install, Age Range (Description) Adult, Included Components Knob, Unit Count 1.0 Count, s 1, Manufacturer GE, Part Weight 4 ounces, Dimensions 1 x 1 x 1 inches, Country of Origin Mexico, model number Is Discontinued No, Size 1 Count (Pack of 1), Finish Painted, Quantity 1, Special Features Easy\"}, {\"role\": \"assistant\", \"content\": \"Price is $24.25\"}]}\\n{\"messages\": [{\"role\": \"system\", \"content\": \"You estimate prices of items. Reply only with the price, no explanation\"}, {\"role\": \"user\", \"content\": \"How much does this cost?\\\\n\\\\nEnergy Star 24\\\\u2033 Built-In Stainless Steel Tall Tub Dishwasher w/Heated Drying \\\\u2013 White\\\\nThis sleek and modern built-in 14 place setting dishwasher is a great addition to any kitchen At 24 inches wide this large capacity unit can handle even the larger household dish-washing needs Features 2 pull out dish racks a 6 wash programs and time delay feature New to this model is an active heated drying function that provides exceptional dish drying capability This unit has a special top cutlery rack which prevents fine utensils that might potentially fall through the normal silverware basket Unlike most other 24\\\\u2033 models on the market this unit has a stainless steel interior tub for unmatched durability Features and Functions \\\\u00b7 Time Delay Feature allows you to program operation at a later start time (1-24 hours)\"}, {\"role\": \"assistant\", \"content\": \"Price is $629.02\"}]}\\n{\"messages\": [{\"role\": \"system\", \"content\": \"You estimate prices of items. Reply only with the price, no explanation\"}, {\"role\": \"user\", \"content\": \"How much does this cost?\\\\n\\\\nGE Genuine OEM Water Inlet Valve Assembly for GE Refrigerators\\\\nProduct Description This high quality Genuine OEM GE Appliances Water Inlet Valve Assembly supplies water to the ice maker and water dispenser. The Water Inlet Valve Assembly has electrical specifications of 115VAC and Please be aware that it is recommended to disconnect the appliance from all utilities prior to installation of the Water Inlet Valve Assembly. From the Manufacturer Water Valve. This part works with the following models General Electric General Electric General Electric General Electric General Electric The GE Appliances Water Inlet Valve Assembly is a genuine OEM (Original Equipment Manufacturer) part designed and engineered to exact specifications Replacement GE Appliances Refrigerator Water Inlet Valve Assembly supplies water to the ice maker and water dispenser GE Appliances Refrigerator Water Inlet Valve Assembly has electrical specifications of 115VAC\"}, {\"role\": \"assistant\", \"content\": \"Price is $46.10\"}]}\\n{\"messages\": [{\"role\": \"system\", \"content\": \"You estimate prices of items. Reply only with the price, no explanation\"}, {\"role\": \"user\", \"content\": \"How much does this cost?\\\\n\\\\nReusable Coffee Capsule, Refillable Pod Coffee Stainless Steel, Reusable Espresso Pods Refill Kit, Compatible With Nespresso Original Line Only(2 packs)\\\\n\\\\u2615 FOR NESPRESSO REUSABLE PODS We tested the reusable espresso pods on different coffee machines and it is compatible with Inissia C40, Inissia D40, F111 Lattissima One, Lattissima Pro F456, CitiZ& Milk C122, CitiZ C112, CitiZ D112, Expert C80, Expert& Milk C85, Pixie C60, Pixie C60P, Pixie Clips, Creatista Plus, Essenza Mini C30, But not compatible with Nespresso Vertuo series brewers \\\\ud83d\\\\udcb0 SAVE MONEY If you use this\"}, {\"role\": \"assistant\", \"content\": \"Price is $23.99\"}]}\\n{\"messages\": [{\"role\": \"system\", \"content\": \"You estimate prices of items. Reply only with the price, no explanation\"}, {\"role\": \"user\", \"content\": \"How much does this cost?\\\\n\\\\nHQRP 4-Pack Air Filters Compatible with Kenmore Elite Refrigerators 9918 Elite CleanFlow Replacement\\\\nHQRP Fresh Refrigerator Replacement Air Filter with forced air circulation and dedicated fan pushes cleaner, deodorized air into the refrigerator, keeping the air in your refrigerator pure and fresh. Help keep your food tasting fresh by periodically changing your refrigerator\\'s air filter. It\\\\u2019s best to change your air filter approximately every six months and/or when your CHANGE FILTER light comes on your LED control panel. Compatible with Kenmore Elite / 469918 / 9918 Elite CleanFlow Refrigerator Air Filter Replacement; All Kenmore Elite series Refrigerators and Freezers with CleanFlow Air Filter, Fits LG Electronics Fresh Air Filter refrigeration models (Check your refrigerator\\'s owner manual to ensure compatibility). HQRP\\\\u00ae\"}, {\"role\": \"assistant\", \"content\": \"Price is $36.95\"}]}\\n{\"messages\": [{\"role\": \"system\", \"content\": \"You estimate prices of items. Reply only with the price, no explanation\"}, {\"role\": \"user\", \"content\": \"How much does this cost?\\\\n\\\\nGENUINE Frigidaire Relay Board. Unit\\\\nProduct Description This is a genuine replacement part. The model number and name for the following item is Frigidaire (FRIGB) Relay Board. From the Manufacturer This is a genuine replacement part. The model number and name for the following item is Frigidaire (FRIGB) Relay Board Frigidaire (FRIGB) Genuine Replacement Part Frigidaire item Brand Name Frigidaire, Model Info Weight 1.43 pounds, Dimensions 6.25 x 5.25 x 8.13 inches, model number Part Rank Tools & Home Improvement Range Accessories 2279, Domestic Shipping can be shipped within U.S., International Shipping This item is not eligible for international shipping. Learn More\"}, {\"role\": \"assistant\", \"content\": \"Price is $267.50\"}]}\\n{\"messages\": [{\"role\": \"system\", \"content\": \"You estimate prices of items. Reply only with the price, no explanation\"}, {\"role\": \"user\", \"content\": \"How much does this cost?\\\\n\\\\nLG Genuine OEM Water Inlet Valve Assembly for LG Washing Machines\\\\nThis high quality OEM LG Detergent Dispenser is manufactured to exact specifications with durable materials and will fit a variety of LG Dishwasher models. LG Detergent Dispenser is located on the inner door panel and holds the dishwashing detergent and rinse aid for release during the dishwashing cycle. Offering security and reliability that your LG Dishwasher will function correctly. Compatible Models This LG is a genuine OEM (Original Equipment Manufacturer) part manufactured to exact specifications Replacement Suspension Rod Assembly for LG Washing Machines is also called the Suspension Kit LG Suspension Rod Assembly supports the tub within the washing machine and keeps the tub stable during unbalanced loads High quality OEM LG Washing Machine Suspension Rod Assembly is manufactured with premium materials for durability and exact fit, be sure to\"}, {\"role\": \"assistant\", \"content\": \"Price is $20.79\"}]}\\n{\"messages\": [{\"role\": \"system\", \"content\": \"You estimate prices of items. Reply only with the price, no explanation\"}, {\"role\": \"user\", \"content\": \"How much does this cost?\\\\n\\\\nThink Crucial Replacement Strainer Bag Compatible With Toddy\\\\u00ab Cold Brew System 5 Gallon Commercial Brewers, Washable & Reusable (1 Pack)\\\\nTOP BENEFITS OF REPLACING COFFEE STRAINER BAGS ON YOUR TODDY Cold Brew System 5 Gallon Commercial Brewers EXTREMELY DURABLE WASHABLE AND REUSABLE - EASY TO CLEAN INCREDIBLY SIMPLE TO USE PREMIUM FILTRATION GREAT FOR COMMERCIAL TODDY COLD BREW SYSTEM This strainer bag comes with a lifetime 100% guarantee, fits Toddy(R) Cold Brew System commercial brewers. Since it\\'s made of durable materials, there are no toxic chemicals involved in the brewing process. Please note the following important information about this product from Think Crucial (i\"}, {\"role\": \"assistant\", \"content\": \"Price is $28.00\"}]}\\n{\"messages\": [{\"role\": \"system\", \"content\": \"You estimate prices of items. Reply only with the price, no explanation\"}, {\"role\": \"user\", \"content\": \"How much does this cost?\\\\n\\\\n2-Pack Replacement for Refrigerator Water Filter - Compatible with Maytag Fridge Water Filter Cartridge\\\\nThis is a Denali Pure Brand replacement part, NOT an OEM product. All mentions of brand names or model descriptions are made strictly to illustrate compatibility. All brand names and logos are registered trademarks of their respective owners. This product is not affiliated with any OEM brands and is not covered under any warranties offered by the original manufacturers. Any warranties for this product are offered solely by Denali Pure. Replacement for Filter Manufacturer Upstart Battery, Part model number Is Discontinued No, Rank Tools & Home Improvement In-Refrigerator Water Filters 6829, Available May 27, 2015, Duration 6 \\\\\\\\tmonths, External Testing Certification ANSI, NSF, Brand Upstart Battery\"}, {\"role\": \"assistant\", \"content\": \"Price is $21.99\"}]}\\n{\"messages\": [{\"role\": \"system\", \"content\": \"You estimate prices of items. Reply only with the price, no explanation\"}, {\"role\": \"user\", \"content\": \"How much does this cost?\\\\n\\\\nReplacement for General Electric Bake Element - Compatible with General Electric Oven Heating Element\\\\nPlease note This is an UpStart Components brand replacement part, not an OEM product. This product is not affiliated with any OEM brands and is not covered under any warranties offered by the original manufacturers. Any warranties for this product are offered solely by Upstart Components. All mentions of brand names or model descriptions are made strictly to illustrate compatibility. All brand names and logos are registered trademarks of their respective owners. Replacement General Electric Oven Bake Element Replaces General Electric Oven Heating Element Quick and easy installation. Restore your old range and make it perform like brand new with this replacement heating element. Replace your heating element if you experience little or no heat, slow to heat up, uneven heat, inaccurate temperature. Manufacturer Upstart Battery, Part Rank\"}, {\"role\": \"assistant\", \"content\": \"Price is $25.99\"}]}\\n{\"messages\": [{\"role\": \"system\", \"content\": \"You estimate prices of items. Reply only with the price, no explanation\"}, {\"role\": \"user\", \"content\": \"How much does this cost?\\\\n\\\\nBryant/Carrier Humidifier Water Panel (with Distributor Tray)\\\\nWhole House Humidifier Filter - 2-Pack This high-quality product is made by a leading manufacturer to replace the humidifier filter (AKA water panel, water pad, evaporator pad) in many makes and models of whole house humidifiers. This product is found in the large bypass and fan-powered humidifiers manufactured by Bryant, Carrier, Totaline, Day & Night, Payne and many others. This humidifier filter includes an integral aluminum frame and felt wick on top for even distribution of water through the media. The filter is constructed using an expanded aluminum mesh pad covered with a special clay-like coating that absorbs water and removes mineral deposits. The process of humidification begins when water flows through a humidifier valve\"}, {\"role\": \"assistant\", \"content\": \"Price is $79.36\"}]}\\n{\"messages\": [{\"role\": \"system\", \"content\": \"You estimate prices of items. Reply only with the price, no explanation\"}, {\"role\": \"user\", \"content\": \"How much does this cost?\\\\n\\\\nUpgraded Dishwasher Heating Element by Emptty - Replacement for Whirlpool Replacement for Kenmore - Replaces\\\\nImportant! After the heating element is fixed, it must be suspended, and do not directly touch the plastic bottom of the dishwasher. Voltage 120V, maximum power up to 805W. Read carefully Note that if the thread on the bolt does not match the thread on the filament, you cannot use it. And Not replacement for Maytag Not replacement for Kenmore Upgrade Accessories Package includes 2 screws and 2 heater fasteners Fix Symptoms If the dishes in your dishwasher are not drying or the water in the dishwasher is not getting hot, you can consider replacing the heating element. Easy Installation Installing our heating element is easy and requires only adjustable wrenches, screwdrivers, and\"}, {\"role\": \"assistant\", \"content\": \"Price is $17.99\"}]}\\n{\"messages\": [{\"role\": \"system\", \"content\": \"You estimate prices of items. Reply only with the price, no explanation\"}, {\"role\": \"user\", \"content\": \"How much does this cost?\\\\n\\\\nFrigidaire Drive Cam\\\\nProduct Description The high quality Frigidaire Auger Motor Coupler ) attaches to the auger drive motor. The Auger Motor Coupler connects to the ice container auger and replaces Please be aware that it is recommended to use saftey equipment and to disconnect the appliance from all utilities prior to any service or repair. Please refer to your owners manual to confirm part numbers and for instructions as some repairs require a trained service professional to complete. From the Manufacturer This is a genuine replacement part. The model number and name for the following item is Frigidaire (FRIGB) Drive Cam The Frigidaire Auger Motor Coupler is a genuine OEM (Original Equipment Manufacturer) part designed and engineered to exact specifications Frigidaire Auger\"}, {\"role\": \"assistant\", \"content\": \"Price is $30.44\"}]}\\n{\"messages\": [{\"role\": \"system\", \"content\": \"You estimate prices of items. Reply only with the price, no explanation\"}, {\"role\": \"user\", \"content\": \"How much does this cost?\\\\n\\\\nViant\\\\u00e9 V60 Cone Coffee Paper Filters compatible with Hario & Chemex. 200 Ct Brown Unbleached. Size 02. Natural Bamboo Fibers. For Pour Over Drippers. 2-4 cups\\\\nExperience the excellence of unbleached, organic bamboo with our V60 Size 2 coffee filters. Designed in a convenient #2 cone shape, these filters guarantee optimal water flow, ensuring maximum extraction and enhancing the richness of your coffee. As an eco-conscious choice, they align perfectly with the sustainability principles of the V60 method, reducing your carbon footprint with each brew. A Superior Alternative To Hario V60 Filters Experience the purity of unbleached, organic bamboo with our V60 coffee filters. Enjoy a chemical-free brewing experience, compatible with Hario V60\"}, {\"role\": \"assistant\", \"content\": \"Price is $24.99\"}]}\\n{\"messages\": [{\"role\": \"system\", \"content\": \"You estimate prices of items. Reply only with the price, no explanation\"}, {\"role\": \"user\", \"content\": \"How much does this cost?\\\\n\\\\nDryer Bearing Repair Kit GE - WE3M26 Dryer Front Drum Bearing - Dryer Belt - Dryer Felt - Dryer Front Drum Slide - Dryer Bearing Drum Slide\\\\n\\\\ud83d\\\\udca1 Ge Dryer Bearing Kit - A high-quality exact equivalent for part numbers - The We3m26 Kit is compatible with General Electric and Hotpoint dryer models. Dryer Maintenance Kit includes components 1 x WE3M26 Drum Support Bearing, 1 x Drive Belt, 1 x Duct Felt Seal, 2 x Front Drum Slides, 2 x Bearing Drum Slides. It is important to verify the compatibility of the kit with your specific model. \\\\ud83d\\\\udd27 DIY eTips Included - Not sure how to replace the part? Helpful information can be found on the page below.\"}, {\"role\": \"assistant\", \"content\": \"Price is $33.95\"}]}\\n{\"messages\": [{\"role\": \"system\", \"content\": \"You estimate prices of items. Reply only with the price, no explanation\"}, {\"role\": \"user\", \"content\": \"How much does this cost?\\\\n\\\\nWhirlpool 285811 Agitator Repair Kit for Washer, White\\\\nProduct Description This is a genuine replacement part. The model number and name for the following item is Whirlpool 285811 Agitator Repair Kit for Washer From the Manufacturer Whirlpool 285811 Agitator Repair Kit for Washer. Works with the following model Inglis Whirlpool Whirlpool The kit includes short agitator cam, retainer, 4 dogs and a black spacer bearing. Genuine Whirlpool Replacement Part. Works with the following model Inglis The kit includes Medium cam agitator, retainer, 4 dogs and a black spacer bearing Works with model Whirlpool Manufacturer Whirlpool, Part LP285, Weight 1.58 ounces, Dimensions 3\"}, {\"role\": \"assistant\", \"content\": \"Price is $14.29\"}]}\\n{\"messages\": [{\"role\": \"system\", \"content\": \"You estimate prices of items. Reply only with the price, no explanation\"}, {\"role\": \"user\", \"content\": \"How much does this cost?\\\\n\\\\nFarberware Complete Portable Countertop Dishwasher, Glass & Fruit Wash-Black/White & Cascade Complete Dishwasher-Pods, ActionPacs Dishwasher Detergent Tabs, Fresh Scent, 78 Count\\\\nFarberware Complete Portable Countertop Dishwasher with Built-in Water Tank, 5 Programs, Baby Care, Glass & Fruit Wash-Black/WhiteIf you have water electricity and 40 minutes you can clean your dishes - anywhere and anytime! Whether it\\'s in your kitchen Camping on your boat or RV or at an event now dirty dishes are a thing of the past The Farberware professional complete dishwasher can be placed on any countertop or sturdy table and gives you the choice of using its built-in water tank or a quick faucet hook-up It offers 6 different\"}, {\"role\": \"assistant\", \"content\": \"Price is $390.56\"}]}\\n{\"messages\": [{\"role\": \"system\", \"content\": \"You estimate prices of items. Reply only with the price, no explanation\"}, {\"role\": \"user\", \"content\": \"How much does this cost?\\\\n\\\\nHRTSELEC 20MM Ceramics Ultrasonic Mist Maker Fogger Replacement Discs for Humidifier Parts with Replacement Tool - 6 Pack\\\\nSize 20 mm Diameter Package includes 6 Piece 20 mm Discs, 1 Piece Replacement Tool Frequency Output Atomization amount. Ceramic replacement disc diameter is 20mm (not include rubber ring) Easy to change and install,This Ceramic Disc is mainly used in the household humidifier. High temperature calcined ceramic atomizer, Anti-aging, anti-corrosion, durable. Package includes 6 x 20mm Ultrasonic mist maker Replacement Tool Dimensions 4.06 x 3.54 x 1.26 inches, Weight 1.09 ounces, Manufacturer hrts, Rank Tools & Home Improvement Humidifier Parts\"}, {\"role\": \"assistant\", \"content\": \"Price is $11.99\"}]}\\n{\"messages\": [{\"role\": \"system\", \"content\": \"You estimate prices of items. Reply only with the price, no explanation\"}, {\"role\": \"user\", \"content\": \"How much does this cost?\\\\n\\\\nEdgeStar 50 Lb. 15 Inch Wide Undercounter Clear Ice Maker - Stainless Steel\\\\n25 lbs of ice storage (While it is well insulated, this ice maker is not a freezer); Up to 50 lbs of ice production/day PLEASE NOTE Ice is produced in sheets PLEASE NOTE The drain line included with this maker is gravity-only. ALSO NOTE A condensate pump (not included) is needed for pumping the water to any location other than a close-by floor drain. Installation by a licensed plumber is recommended. Commercial-grade stainless steel door; Removable ice bin; Computerized controls; For freestanding or built-in applications; Reversible door; Adjustable leveling legs; Ice scoop included Produces restaurant quality clear, cubed ice; Gravity drain only (Drain required); Ice comes\"}, {\"role\": \"assistant\", \"content\": \"Price is $874.30\"}]}\\n{\"messages\": [{\"role\": \"system\", \"content\": \"You estimate prices of items. Reply only with the price, no explanation\"}, {\"role\": \"user\", \"content\": \"How much does this cost?\\\\n\\\\nRefrigerator Evaporator Fan Motor Compatible with Whirlpool Kenmore Refrigerator Replaces\\\\nPARTS NUMBER - evaporator fan motor. specification approximately 2-Inch long, wide and 3-Inch high EASY TO INSTALL- This motor is easy to install. Before installation, please cut off the power supply, and wear gloves to protect your hands, It comes with wiring harness, it is located in the back of the freezer PREMIUM QUALITY- This evaporator motor made of durable high quality material and well-tested by the manufacturer - Ensure long-lasting and effective performance. This part fixes the following symptoms Fridge section is too warm, fridge section is too cold, freezer section is too warm, freezer section is too cold, leaking water, frost buildup, unusual noises PERF\"}, {\"role\": \"assistant\", \"content\": \"Price is $16.99\"}]}\\n{\"messages\": [{\"role\": \"system\", \"content\": \"You estimate prices of items. Reply only with the price, no explanation\"}, {\"role\": \"user\", \"content\": \"How much does this cost?\\\\n\\\\nNostalgic Warehouse 721894 New York Plate with Keyhole Passage Waldorf Emerald Door Knob in Satin Nickel, 2.375\\\\nThe clean lines and tailored style of the new York plate gives a distinctive look that will last for years. Pair this with our waldorf door knob, and its crisp clean edges, for a lucent look. All Nostalgic Warehouse door knobs are mounted on a solid (not plated) forged brass base for durability and beauty. Solid forged brass plates with genuine lead Crystal door knobs for detail and clarity Passage ideal for closets, hallways or rooms where no locking mechanism is needed Complete set for one door (both sides) with 2-3/8\\\\u201d backset Perfect for restoration and easy to install on modern pre-drilled doors\"}, {\"role\": \"assistant\", \"content\": \"Price is $183.75\"}]}\\n{\"messages\": [{\"role\": \"system\", \"content\": \"You estimate prices of items. Reply only with the price, no explanation\"}, {\"role\": \"user\", \"content\": \"How much does this cost?\\\\n\\\\nFilters Fast D13-C Compatible Replacement for Honeywell Humidifier Wick Filter Actual Size 6 x 4 x 2, 2 Pack\\\\nFilters Fast D13-C Compatible Replacement for Honeywell Humidifier Filter r The Filters Fast D13-C humidifier filter replacement is a cost-effective, high-quality compatible replacement for Honeywell humidifier filter. Designed to filter debris in your tank, it\\\\u2019s reinforced for longer filter life and maximum efficiency. Compatible replacement for Honeywell model number. Product Features \\\\u27a2 Filter Life (Months) every 2 months depending on water quality.\\\\u27a2Approximate Dimensions of 6 x 4 x 2 About Filters Fast It all started back in 2003 when Ray, the owner of Filters Fast, needed to change the filter on his refrigerator. It\"}, {\"role\": \"assistant\", \"content\": \"Price is $12.99\"}]}\\n{\"messages\": [{\"role\": \"system\", \"content\": \"You estimate prices of items. Reply only with the price, no explanation\"}, {\"role\": \"user\", \"content\": \"How much does this cost?\\\\n\\\\nDishwasher Tub Gasket Genuine OEM\\\\nImportant Any use of the manufacturers brand name, part numbers or model designation for this product is made solely for purposes of demonstrating and for identification compatibility and are displayed for descriptive purposes only. Use of the Manufacturers trade names and logos are the registered trademarks of their respective owners. Use of them does not associated with, imply any affiliation or endorsement by any manufacturer. This tub gasket (part number is for dishwashers. Tub gasket creates a watertight seal between the dishwasher tub and door Part # Replaces Substitution The manufacturer substituted part with this new part Compatible with Brands GE, Hotpoint Brand Name Door Gasket, Model Info Weight 5.6 ounces, Dimensions 11.57 x 8.74 x 2.09 inches,\"}, {\"role\": \"assistant\", \"content\": \"Price is $14.64\"}]}\\n{\"messages\": [{\"role\": \"system\", \"content\": \"You estimate prices of items. Reply only with the price, no explanation\"}, {\"role\": \"user\", \"content\": \"How much does this cost?\\\\n\\\\n& Dryer Heating Element & Thermostat Kit Replacement for Kenmore - Compatible Heater Element, Thermal Cut-Off Kit, Thermistor & Thermal Fuse Kit\\\\nUpStart Components Replacement & Dryer Heating Element & Thermostat Combo Pack for Kenmore / Sears DryerPlease note This is an UpStart Components Brand replacement part, NOT an OEM product. All mentions of brand names or model descriptions are made strictly to illustrate compatibility. All brand names and logos are registered trademarks of their respective owners. This product is not affiliated with any brands and is not covered under any warranties offered by the original manufacturers. Any warranties for this product are offered solely by UpStart Components. UpStart Components Replacement & Dryer Heating Element & Thermostat Combo Pack for Kenmore / Sears Dryer Ultra durable, high quality material resists\"}, {\"role\": \"assistant\", \"content\": \"Price is $31.99\"}]}\\n{\"messages\": [{\"role\": \"system\", \"content\": \"You estimate prices of items. Reply only with the price, no explanation\"}, {\"role\": \"user\", \"content\": \"How much does this cost?\\\\n\\\\nHayWHNKN Continuous Band Sealer Machine Automatic Horizontal Plastic PVC Bag Band Sealing Machine 110V (FR770 Horizontal)\\\\nAutomatic With thermostatic control and automatic conveyor, simple and easy to use. Pring Function Included Can seal all kinds of length size. And have different sealing pattern effects. Meanwhile, it can print remark, date, time, logo simultaneously with the sealing. Multiple Application Suitable for bags with thickness of on both sides. Fit for the seal of plastic bag, aluminum foil bag, compound bag in the industry of light Industry such as food Stuff, agriculture. Equipped with emergency stop switch Equipped with emergency stop switch, it can stop quickly in case of emergency. Pure copper heating block, evenly heated and durable. Rank Industrial & Scientific Commercial Bag Sealers 110,\"}, {\"role\": \"assistant\", \"content\": \"Price is $355.00\"}]}\\n{\"messages\": [{\"role\": \"system\", \"content\": \"You estimate prices of items. Reply only with the price, no explanation\"}, {\"role\": \"user\", \"content\": \"How much does this cost?\\\\n\\\\nSupplying Demand Gas Range Control Knob Replacement\\\\nAlternate part numbers include and Black | 2 Inch diameter | New knobs are a quick and easy DIY repair to keep your appliance in top shape | Fits model specific gas ranges It is important to disconnect your appliance from the power and gas supply before servicing. Supplying Demand replacement parts are compatible with Major Brands, but you should always verify fitment with your specific model. We have included a video in the product gallery to help you find your model number and information in the description below. SD products come in Supplying Demand packaging. Material Plastic, Brand Supplying Demand, Color Black, Style Replacement, Pieces 1, Handle Type Knob, Shape Round, Special Feature Easy to Install, Included Components Knob, Finish Type Glossy, Unit Count \"}, {\"role\": \"assistant\", \"content\": \"Price is $20.99\"}]}\\n{\"messages\": [{\"role\": \"system\", \"content\": \"You estimate prices of items. Reply only with the price, no explanation\"}, {\"role\": \"user\", \"content\": \"How much does this cost?\\\\n\\\\n10 Pack Stove Burner Covers, Reusable Thick Gas Range Protectors, Non-stick Stovetop Burner Liner, Heat Resistant, 10.6\\\\u201dx 10.6\\\\u201d\\\\n\\\\u2665 CUTTABLE the Stove Burner Liners length it can be cut at will, can match a variety of stove, so you don\\'t have to worry about the size when you purchase. \\\\u2665 EASY TO WASH Stove burner covers can be washed with water and soap or in the dishwasher, So you can save time cleaning the hob. \\\\u2665 REUSABLE The protectors are resistant to oil, water, corrosion, and high temperatures,Eco-friendly materials so they are completely reusable. \\\\u2665 HEAT RESISTANT Stovetop Covers As well as being heat resistant up\"}, {\"role\": \"assistant\", \"content\": \"Price is $9.99\"}]}\\n{\"messages\": [{\"role\": \"system\", \"content\": \"You estimate prices of items. Reply only with the price, no explanation\"}, {\"role\": \"user\", \"content\": \"How much does this cost?\\\\n\\\\nSupplying Demand Refrigerator Ice Maker Assembly Replacement Model Specific Not Universal\\\\nPlease see Model Number fitment information at the bottom of this page before placing your order for this part. Alternate part numbers include and (6) Cube, solid tray with electronic eye sensor | Fits model specific counter depth refrigerators It is important to disconnect your appliance from the power and water supply before servicing. If your new ice maker is not making ice the freezer temperature may be too high, your water filter may be clogged, your thermostat may be defective, or you may have inadequate water pressure. Supplying Demand replacement parts are compatible with Major Brands, but you should always verify fitment with your specific model. We have included a video in the product gallery to help you find your model number and information in the description below.\"}, {\"role\": \"assistant\", \"content\": \"Price is $102.99\"}]}\\n{\"messages\": [{\"role\": \"system\", \"content\": \"You estimate prices of items. Reply only with the price, no explanation\"}, {\"role\": \"user\", \"content\": \"How much does this cost?\\\\n\\\\nWhirlpool Chute Door Ice\\\\nProduct Description This is a Genuine Replacement Part,The Model Number and Name for the Following Item Whirlpool (WHIRA) Chute - Door, Ice. From the Manufacturer This is a Genuine Replacement Part,The Model Number and Name for the Following Item Whirlpool (WHIRA) Chute - Door, Ice Whirlpool (WHIRA) Genuine Replacement Part Refrigerator-replacement-parts Manufacturer Whirlpool, Part Weight 0.02 Pounds, Dimensions 3.3 x 1.4 x 3.9 inches, model number Quantity 1, Special Features Easy to Install, Available August 27, 2008, Brand Whirlpool, Special Feature Easy to Install, Unit Count 1.0 Count, s \"}, {\"role\": \"assistant\", \"content\": \"Price is $21.98\"}]}\\n{\"messages\": [{\"role\": \"system\", \"content\": \"You estimate prices of items. Reply only with the price, no explanation\"}, {\"role\": \"user\", \"content\": \"How much does this cost?\\\\n\\\\nR.W.FLAME Protable Nugget Ice Maker Countertop, Pebble/Pellet Ice Maker Machine with Auto Ice Scoop and Basket,Ice Machine for Home Office Bar Party,Black\\\\nFast Ice Making & Large Capacity This nugget ice maker will make ice cubes in 10-15 minutes, and takes you very little time to get ice cube. It has a capacity water tank. You can have 35 pounds square ice cubes in Compact & Convenient Design Our chewable ice makers with a carrying handle are extremely portable and compact. Measured at inches, our portable ice maker countertop makes you take it easily with yourself. And this also makes it a great choice for home, kitchen, office, coffee shop, parties, bar or even RV n where space is at a premium\"}, {\"role\": \"assistant\", \"content\": \"Price is $199.99\"}]}\\n{\"messages\": [{\"role\": \"system\", \"content\": \"You estimate prices of items. Reply only with the price, no explanation\"}, {\"role\": \"user\", \"content\": \"How much does this cost?\\\\n\\\\nFrigidaire Pump Assembly for Dishwasher\\\\nFrom the Manufacturer Frigidaire Pump Assembly for Dishwasher. This part works with the following models Frigidaire Frigidaire Frigidaire Frigidaire Frigidaire Frigidaire Genuine Replacement Part. This part works with the following models Frigidaire Frigidaire Frigidaire Frigidaire Frigidaire Frigidaire Genuine Replacement Part Manufacturer Frigidaire, Part Weight 1.5 pounds, Dimensions 8.2 x 6.2 x 5.5 inches, model number Is Discontinued No, Style Above Ground, Quantity 1, Rank Tools & Home Improvement Parts & Accessories Available February 3, 2010\"}, {\"role\": \"assistant\", \"content\": \"Price is $110.95\"}]}\\n{\"messages\": [{\"role\": \"system\", \"content\": \"You estimate prices of items. Reply only with the price, no explanation\"}, {\"role\": \"user\", \"content\": \"How much does this cost?\\\\n\\\\nOEM LG Dishwasher Drain Hose Line Originally for LG\\\\nThis part does NOT come with installation instructions. The drain hose carries used water from the dishwasher to the drain. This Drain Hose is for the following LG Dishwashers If your Dishwasher is NOT listed above, please send us a message so we may help you obtain the correct part! Installation Instructions Are NOT Included With This Part! This Is An Original Part! Purchase With Confidence! Don\\'t See Your Model Listed? Send A Message - Happy To Help! Brand Name GenuineOEMLG, Weight 2 ounces, Dimensions 18 x 18 x 2 inches, Is Discontinued No, Color Gray, Rank Tools & Home Improvement Dishwasher Replacement Hoses 1359, Available February 21, 2016\"}, {\"role\": \"assistant\", \"content\": \"Price is $53.99\"}]}\\n{\"messages\": [{\"role\": \"system\", \"content\": \"You estimate prices of items. Reply only with the price, no explanation\"}, {\"role\": \"user\", \"content\": \"How much does this cost?\\\\n\\\\nFrigidaire Oven Control Board\\\\nThe high quality Frigidaire Control Board ) monitors the temperature and controls the oven heat. The Control Board has an electronic clock/timer display and replaces Please be aware that it is recommended to use saftey equipment and to disconnect the appliance from all utilities prior to any service or repair. Please refer to your owners manual to confirm part numbers and for instructions as some repairs require a trained service professional to complete. The Frigidaire Control Board is a genuine OEM (Original Equipment Manufacturer) part designed and engineered to exact specifications Frigidaire Control Board monitors the temperature and controls the oven heat Frigidaire has an electronic clock/timer display The high quality Frigidaire Control Board replaces With Frigidaire, you can be sure you\"}, {\"role\": \"assistant\", \"content\": \"Price is $114.99\"}]}\\n{\"messages\": [{\"role\": \"system\", \"content\": \"You estimate prices of items. Reply only with the price, no explanation\"}, {\"role\": \"user\", \"content\": \"How much does this cost?\\\\n\\\\nGENUINE Whirlpool Lid Assembly Washer\\\\nProduct Description This is a Genuine Replacement Part, The Model Number and Name for The Following Item Whirlpool (WHIRA) Lid Assembly - Washer. From the Manufacturer This is a Genuine Replacement Part,The Model Number and Name for The Following Item Whirlpool (WHIRA) Lid Assembly - Washer Whirlpool (Whira) This Is A Genuine Replacement Part Appliance-Replacement-Parts Brand Name Whirlpool Manufacturer Whirlpool, Part Weight 11.73 pounds, Dimensions 31 x 19.5 x 2.25 inches, model number Is Discontinued No, Quantity 1, Rank Tools & Home Improvement Washer Parts & Accessories 2206, Available August 16, 2013\"}, {\"role\": \"assistant\", \"content\": \"Price is $229.14\"}]}\\n{\"messages\": [{\"role\": \"system\", \"content\": \"You estimate prices of items. Reply only with the price, no explanation\"}, {\"role\": \"user\", \"content\": \"How much does this cost?\\\\n\\\\nGE Appliances Broil Element for Late Model GE, RCA, Hotpoint, and Kenmore Ranges\\\\nProduct Description This is an authorized aftermarket product. Fits with various GE brand models. It has a oem part # From the Manufacturer General Electric Broil Element for Late Model GE, RCA, Hotpoint, and Kenmore Ranges is a genuine GE factory part. It comes with GE\\'s 1 year warranty and is a common replacement part for many range models. This is an O.E.M. Authorized part Fits with various GE brand models Oem part # Genuine GE factory part Length 16 1/2, width 14 1/4, terminal depth 2 1/2 2 loops 3500 Watts Manufacturer GE, Part Weight 12.8 ounces, Dimensions\"}, {\"role\": \"assistant\", \"content\": \"Price is $41.79\"}]}\\n{\"messages\": [{\"role\": \"system\", \"content\": \"You estimate prices of items. Reply only with the price, no explanation\"}, {\"role\": \"user\", \"content\": \"How much does this cost?\\\\n\\\\nUpgraded Lifetime Appliance Door Handle Compatible with Frigidaire Range Oven\\\\n\\\\u2705 Part Numbers \\\\u2705 High quality, non-OEM Replacement Door Handle Compatible with Frigidaire Range Oven \\\\u2705 Size 28-7/8 \\\\u2705 Fits models beginning with 79036, 7904, 79071, 7907, 79090, 79094, 7909 \\\\u2705 Please note screws are sold separately. Screw part number is Brand Lifetime Appliance Parts, Color Black, Dimensions 28\\\\\\\\ L x 7\\\\\\\\ W, Pieces 1, Special Feature Easy to Install, Included Components Screw, Finish Type Non-OEM, Unit Count 1.0 Count, Brand Name Lifetime Appliance Parts, Weight 12 ounces, Is Discontinued No, Part\"}, {\"role\": \"assistant\", \"content\": \"Price is $59.95\"}]}\\n{\"messages\": [{\"role\": \"system\", \"content\": \"You estimate prices of items. Reply only with the price, no explanation\"}, {\"role\": \"user\", \"content\": \"How much does this cost?\\\\n\\\\nGLOB PRO SOLUTIONS Refrigerator Ice maker Water Valve Compatible with Uline 2552A\\\\nEverything to really get your appliance working! This part has been developed byGLOB PRO SOLUTIONS, upgrading the item by adding components, accessories, and an installation manual to make faster and easier the repair process. The development of this kit is based on the experience of specialized technicians and engineers on home repairs on this field adding the components or accessories suggested by them to solve and completely repair the same day. Optional Express mail available at checkout. Same business day shipping after receiving clear payment. Remember business days are Monday thru Friday, excluding Holidays in the US New design compatible with 2552A and ten more replacements for all new models The new product is made from high quality material and OEM specifications as a generic\"}, {\"role\": \"assistant\", \"content\": \"Price is $65.14\"}]}\\n{\"messages\": [{\"role\": \"system\", \"content\": \"You estimate prices of items. Reply only with the price, no explanation\"}, {\"role\": \"user\", \"content\": \"How much does this cost?\\\\n\\\\nOEM Samsung Dryer Lint Filter Screen Trap Shipped With\\\\nThis Samsung lint filter originally shipped with the following Samsung dryers This item is NEW! Don\\'t see your model number listed? Send us a message as we are happy to help! This Is An Original Part! Usage Instructions Do NOT Accompany This Part! Purchase With Confidence! This Part Was Originally Shipped With Your Dryer! Don\\'t See Your Model Number Listed? Send A Message! Happy To Help! Brand Name SAMSUNG, Dimensions 6 x 3 x 1 inches, Is Discontinued No, Part Special Features Ergonomic, Color Grey, Rank Tools & Home Improvement Dryer Replacement Parts 31552, Available December 20, 2016, Brand SAMSUNG, Special Feature Ergonomic, Connectivity\"}, {\"role\": \"assistant\", \"content\": \"Price is $59.99\"}]}\\n{\"messages\": [{\"role\": \"system\", \"content\": \"You estimate prices of items. Reply only with the price, no explanation\"}, {\"role\": \"user\", \"content\": \"How much does this cost?\\\\n\\\\nWhirlpool Lid Switch Assembly, White\\\\nDirect-drive washer lid switch assembly, If the washing machine does not spin the lid switch may have failed. Need basic hand tools Some disassembly required\\\\u2014some repair experience helpful Prior to installation, unplug washer or turn off home circuit breaker and wear gloves for protection of hands Manufacturer Whirlpool, Part Weight 0.353 ounces, Dimensions 3 x 2 x 2 inches, model number Is Discontinued No, Color white, Material Acrylonitrile Butadiene Styrene, Quantity 1, Included Components Washer Lid Switch Assembly, Rank Tools & Home Improvement Washer Parts & Accessories 988, Available August 16, 2013, Operation Mode Off, Connector Type Plug In, Brand Whirlpool, Dimensions LxWx\"}, {\"role\": \"assistant\", \"content\": \"Price is $19.27\"}]}\\n{\"messages\": [{\"role\": \"system\", \"content\": \"You estimate prices of items. Reply only with the price, no explanation\"}, {\"role\": \"user\", \"content\": \"How much does this cost?\\\\n\\\\nCompatible with Whirlpool Silverware Basket\\\\n- Part Compatibility and Fitment | Not sure? - Before placing your order, we recommend that you verify part compatibility. Send us an email providing your appliance model number! - All parts are made by OEM manufacturers - This part has been developed by ProRetailer, upgrading the item by adding components - All products are 100% Brand New - Any use of the Manufacturers brand name, part numbers or model designation for this product is made solely for purposes of demonstrating and for identification compatibility and are displayed for descriptive purposes only. Exported By ExportYourStore Compatible with Compatible Whirlpool brands include Whirlpool,Maytag,KitchenAid,Jenn-Air,Amana,Magic Chef,Admiral,Norge,Roper,Kenmore and others.,\"}, {\"role\": \"assistant\", \"content\": \"Price is $72.60\"}]}'"
      ]
     },
     "execution_count": 49,
     "metadata": {},
     "output_type": "execute_result"
    }
   ],
   "source": [
    "with open('fine_tune_validation.jsonl','r') as f:\n",
    "    file2 = f.read()\n",
    "file2"
   ]
  },
  {
   "cell_type": "code",
   "execution_count": 50,
   "id": "45acdd0c",
   "metadata": {},
   "outputs": [
    {
     "data": {
      "text/plain": [
       "True"
      ]
     },
     "execution_count": 50,
     "metadata": {},
     "output_type": "execute_result"
    }
   ],
   "source": [
    "file1 == file2"
   ]
  },
  {
   "cell_type": "code",
   "execution_count": 41,
   "id": "4898cee5",
   "metadata": {},
   "outputs": [],
   "source": [
    "openai_train_file='file-B8bn6VoqCDpuy1pDqsewpz'\n",
    "res = openai.files.content(openai_train_file)\n",
    "with open('file_content1.jsonl','wb') as f:\n",
    "    f.write(res.content)\n"
   ]
  },
  {
   "cell_type": "code",
   "execution_count": 43,
   "id": "21500a7e",
   "metadata": {},
   "outputs": [
    {
     "data": {
      "text/plain": [
       "True"
      ]
     },
     "execution_count": 43,
     "metadata": {},
     "output_type": "execute_result"
    }
   ],
   "source": [
    "with open('file_content1.jsonl','r') as f:\n",
    "    file1 = f.read()\n",
    "file1\n",
    "with open('fine_tune_train.jsonl','r') as f:\n",
    "    file2 = f.read()\n",
    "file2\n",
    "file1 == file2"
   ]
  },
  {
   "cell_type": "code",
   "execution_count": 74,
   "id": "78737739",
   "metadata": {},
   "outputs": [
    {
     "name": "stdout",
     "output_type": "stream",
     "text": [
      "ft:gpt-4o-mini-2024-07-18:advant:pricer-bhavin-advant:CECGxWa0\n",
      "ft:gpt-4o-mini-2024-07-18:advant:pricer:BxARcEmQ\n"
     ]
    }
   ],
   "source": [
    "res = openai.fine_tuning.jobs.list()\n",
    "models = []\n",
    "for i in res:\n",
    "    modelname=i.to_dict()['fine_tuned_model']\n",
    "    print(modelname)\n",
    "    models.append(modelname)"
   ]
  },
  {
   "cell_type": "code",
   "execution_count": 62,
   "id": "e41a9179",
   "metadata": {},
   "outputs": [
    {
     "name": "stdout",
     "output_type": "stream",
     "text": [
      "{'id': 'ftjob-e6IKEPbdRkRwwsZ76qw0TWpR', 'created_at': 1757499106, 'error': {}, 'fine_tuned_model': 'ft:gpt-4o-mini-2024-07-18:advant:pricer-bhavin-advant:CECGxWa0', 'finished_at': 1757499801, 'hyperparameters': {'batch_size': 1, 'learning_rate_multiplier': 1.8, 'n_epochs': 1}, 'model': 'gpt-4o-mini-2024-07-18', 'object': 'fine_tuning.job', 'organization_id': 'org-oYbtrqUicBStOPsd7eP3rhap', 'result_files': ['file-KyqKuHZRswHyf7gpCYpqq4'], 'seed': 42, 'status': 'succeeded', 'trained_tokens': 57932, 'training_file': 'file-B8bn6VoqCDpuy1pDqsewpz', 'validation_file': 'file-3ZqHs73aUnCQGUVbytALRA', 'estimated_finish': None, 'integrations': [], 'metadata': None, 'method': {'type': 'supervised', 'supervised': {'hyperparameters': {'batch_size': 1, 'learning_rate_multiplier': 1.8, 'n_epochs': 1}}}, 'user_provided_suffix': 'pricer:bhavin-advant', 'usage_metrics': None, 'shared_with_openai': False, 'eval_id': None}\n",
      "{'id': 'ftjob-uOIxbMtHzFOl5sgazejTFGae', 'created_at': 1753440112, 'error': {}, 'fine_tuned_model': 'ft:gpt-4o-mini-2024-07-18:advant:pricer:BxARcEmQ', 'finished_at': 1753441199, 'hyperparameters': {'batch_size': 1, 'learning_rate_multiplier': 1.8, 'n_epochs': 1}, 'model': 'gpt-4o-mini-2024-07-18', 'object': 'fine_tuning.job', 'organization_id': 'org-oYbtrqUicBStOPsd7eP3rhap', 'result_files': ['file-8Trp4ciPFqY5AHhimpLWHZ'], 'seed': 42, 'status': 'succeeded', 'trained_tokens': 97795, 'training_file': 'file-2mKBJGtmMs55FRnJTPrvTz', 'validation_file': 'file-YSSGg3VHNg9xqYEccXHqLu', 'estimated_finish': None, 'integrations': [], 'metadata': None, 'method': {'type': 'supervised', 'supervised': {'hyperparameters': {'batch_size': 1, 'learning_rate_multiplier': 1.8, 'n_epochs': 1}}}, 'user_provided_suffix': 'pricer', 'usage_metrics': None, 'shared_with_openai': False, 'eval_id': None}\n"
     ]
    }
   ],
   "source": [
    "res = openai.fine_tuning.jobs.list()\n",
    "models = []\n",
    "for i in res:\n",
    "    modelname=i.to_dict()\n",
    "    print(modelname)\n",
    "    models.append(modelname)"
   ]
  },
  {
   "cell_type": "code",
   "execution_count": 64,
   "id": "50098d23",
   "metadata": {},
   "outputs": [],
   "source": [
    "from datetime import datetime"
   ]
  },
  {
   "cell_type": "code",
   "execution_count": 71,
   "id": "97910ff7",
   "metadata": {},
   "outputs": [
    {
     "data": {
      "text/plain": [
       "'09/10/25'"
      ]
     },
     "execution_count": 71,
     "metadata": {},
     "output_type": "execute_result"
    }
   ],
   "source": [
    "create_time=datetime.utcfromtimestamp(models[0]['created_at']).strftime(\"%D\")\n",
    "create_time"
   ]
  },
  {
   "cell_type": "code",
   "execution_count": null,
   "id": "a1cf5731",
   "metadata": {},
   "outputs": [],
   "source": [
    "completion_time=datetime.utcfromtimestamp(models[0]['finished_at']).strftime('%D')\n",
    "completion_time"
   ]
  },
  {
   "cell_type": "code",
   "execution_count": 73,
   "id": "be73cc89",
   "metadata": {},
   "outputs": [
    {
     "name": "stdout",
     "output_type": "stream",
     "text": [
      "0:18:07\n"
     ]
    }
   ],
   "source": [
    "create_time=datetime.utcfromtimestamp(models[1]['created_at'])\n",
    "completion_time=datetime.utcfromtimestamp(models[1]['finished_at'])\n",
    "print(completion_time-create_time)"
   ]
  },
  {
   "cell_type": "code",
   "execution_count": null,
   "id": "afe4192f",
   "metadata": {},
   "outputs": [],
   "source": [
    "openai.fine_tuning.jobs."
   ]
  },
  {
   "cell_type": "code",
   "execution_count": 77,
   "id": "1b3053f4",
   "metadata": {},
   "outputs": [
    {
     "name": "stdout",
     "output_type": "stream",
     "text": [
      "FileDeleted(id='file-B8bn6VoqCDpuy1pDqsewpz', deleted=True, object='file')\n"
     ]
    }
   ],
   "source": [
    "response = openai.files.delete(openai_train_file)\n",
    "print(response)"
   ]
  },
  {
   "cell_type": "code",
   "execution_count": 78,
   "id": "cedd1ab6",
   "metadata": {},
   "outputs": [
    {
     "name": "stdout",
     "output_type": "stream",
     "text": [
      "FileDeleted(id='file-3ZqHs73aUnCQGUVbytALRA', deleted=True, object='file')\n"
     ]
    }
   ],
   "source": [
    "response = openai.files.delete(openai_validation_file)\n",
    "print(response)"
   ]
  },
  {
   "cell_type": "code",
   "execution_count": 83,
   "id": "82de4aa3",
   "metadata": {},
   "outputs": [
    {
     "data": {
      "text/plain": [
       "'ft:gpt-4o-mini-2024-07-18:advant:pricer-bhavin-advant:CECGxWa0'"
      ]
     },
     "execution_count": 83,
     "metadata": {},
     "output_type": "execute_result"
    }
   ],
   "source": [
    "my_model = models[0]\n",
    "my_model"
   ]
  },
  {
   "cell_type": "code",
   "execution_count": 84,
   "id": "76123a16",
   "metadata": {},
   "outputs": [
    {
     "ename": "PermissionDeniedError",
     "evalue": "Error code: 403 - {'error': {'message': 'You have insufficient permissions for this operation. Check that you have the correct role in your organization (Owner).', 'type': 'invalid_request_error', 'param': None, 'code': None}}",
     "output_type": "error",
     "traceback": [
      "\u001b[0;31m---------------------------------------------------------------------------\u001b[0m",
      "\u001b[0;31mPermissionDeniedError\u001b[0m                     Traceback (most recent call last)",
      "Cell \u001b[0;32mIn[84], line 1\u001b[0m\n\u001b[0;32m----> 1\u001b[0m response \u001b[38;5;241m=\u001b[39m \u001b[43mopenai\u001b[49m\u001b[38;5;241;43m.\u001b[39;49m\u001b[43mmodels\u001b[49m\u001b[38;5;241;43m.\u001b[39;49m\u001b[43mdelete\u001b[49m\u001b[43m(\u001b[49m\u001b[43mmy_model\u001b[49m\u001b[43m)\u001b[49m\n\u001b[1;32m      2\u001b[0m \u001b[38;5;28mprint\u001b[39m(response)\n",
      "File \u001b[0;32m~/PycharmProjects/llm_engineering/llms/lib/python3.10/site-packages/openai/resources/models.py:127\u001b[0m, in \u001b[0;36mModels.delete\u001b[0;34m(self, model, extra_headers, extra_query, extra_body, timeout)\u001b[0m\n\u001b[1;32m    125\u001b[0m \u001b[38;5;28;01mif\u001b[39;00m \u001b[38;5;129;01mnot\u001b[39;00m model:\n\u001b[1;32m    126\u001b[0m     \u001b[38;5;28;01mraise\u001b[39;00m \u001b[38;5;167;01mValueError\u001b[39;00m(\u001b[38;5;124mf\u001b[39m\u001b[38;5;124m\"\u001b[39m\u001b[38;5;124mExpected a non-empty value for `model` but received \u001b[39m\u001b[38;5;132;01m{\u001b[39;00mmodel\u001b[38;5;132;01m!r}\u001b[39;00m\u001b[38;5;124m\"\u001b[39m)\n\u001b[0;32m--> 127\u001b[0m \u001b[38;5;28;01mreturn\u001b[39;00m \u001b[38;5;28;43mself\u001b[39;49m\u001b[38;5;241;43m.\u001b[39;49m\u001b[43m_delete\u001b[49m\u001b[43m(\u001b[49m\n\u001b[1;32m    128\u001b[0m \u001b[43m    \u001b[49m\u001b[38;5;124;43mf\u001b[39;49m\u001b[38;5;124;43m\"\u001b[39;49m\u001b[38;5;124;43m/models/\u001b[39;49m\u001b[38;5;132;43;01m{\u001b[39;49;00m\u001b[43mmodel\u001b[49m\u001b[38;5;132;43;01m}\u001b[39;49;00m\u001b[38;5;124;43m\"\u001b[39;49m\u001b[43m,\u001b[49m\n\u001b[1;32m    129\u001b[0m \u001b[43m    \u001b[49m\u001b[43moptions\u001b[49m\u001b[38;5;241;43m=\u001b[39;49m\u001b[43mmake_request_options\u001b[49m\u001b[43m(\u001b[49m\n\u001b[1;32m    130\u001b[0m \u001b[43m        \u001b[49m\u001b[43mextra_headers\u001b[49m\u001b[38;5;241;43m=\u001b[39;49m\u001b[43mextra_headers\u001b[49m\u001b[43m,\u001b[49m\u001b[43m \u001b[49m\u001b[43mextra_query\u001b[49m\u001b[38;5;241;43m=\u001b[39;49m\u001b[43mextra_query\u001b[49m\u001b[43m,\u001b[49m\u001b[43m \u001b[49m\u001b[43mextra_body\u001b[49m\u001b[38;5;241;43m=\u001b[39;49m\u001b[43mextra_body\u001b[49m\u001b[43m,\u001b[49m\u001b[43m \u001b[49m\u001b[43mtimeout\u001b[49m\u001b[38;5;241;43m=\u001b[39;49m\u001b[43mtimeout\u001b[49m\n\u001b[1;32m    131\u001b[0m \u001b[43m    \u001b[49m\u001b[43m)\u001b[49m\u001b[43m,\u001b[49m\n\u001b[1;32m    132\u001b[0m \u001b[43m    \u001b[49m\u001b[43mcast_to\u001b[49m\u001b[38;5;241;43m=\u001b[39;49m\u001b[43mModelDeleted\u001b[49m\u001b[43m,\u001b[49m\n\u001b[1;32m    133\u001b[0m \u001b[43m\u001b[49m\u001b[43m)\u001b[49m\n",
      "File \u001b[0;32m~/PycharmProjects/llm_engineering/llms/lib/python3.10/site-packages/openai/_base_client.py:1295\u001b[0m, in \u001b[0;36mSyncAPIClient.delete\u001b[0;34m(self, path, cast_to, body, options)\u001b[0m\n\u001b[1;32m   1286\u001b[0m \u001b[38;5;28;01mdef\u001b[39;00m\u001b[38;5;250m \u001b[39m\u001b[38;5;21mdelete\u001b[39m(\n\u001b[1;32m   1287\u001b[0m     \u001b[38;5;28mself\u001b[39m,\n\u001b[1;32m   1288\u001b[0m     path: \u001b[38;5;28mstr\u001b[39m,\n\u001b[0;32m   (...)\u001b[0m\n\u001b[1;32m   1292\u001b[0m     options: RequestOptions \u001b[38;5;241m=\u001b[39m {},\n\u001b[1;32m   1293\u001b[0m ) \u001b[38;5;241m-\u001b[39m\u001b[38;5;241m>\u001b[39m ResponseT:\n\u001b[1;32m   1294\u001b[0m     opts \u001b[38;5;241m=\u001b[39m FinalRequestOptions\u001b[38;5;241m.\u001b[39mconstruct(method\u001b[38;5;241m=\u001b[39m\u001b[38;5;124m\"\u001b[39m\u001b[38;5;124mdelete\u001b[39m\u001b[38;5;124m\"\u001b[39m, url\u001b[38;5;241m=\u001b[39mpath, json_data\u001b[38;5;241m=\u001b[39mbody, \u001b[38;5;241m*\u001b[39m\u001b[38;5;241m*\u001b[39moptions)\n\u001b[0;32m-> 1295\u001b[0m     \u001b[38;5;28;01mreturn\u001b[39;00m \u001b[38;5;28;43mself\u001b[39;49m\u001b[38;5;241;43m.\u001b[39;49m\u001b[43mrequest\u001b[49m\u001b[43m(\u001b[49m\u001b[43mcast_to\u001b[49m\u001b[43m,\u001b[49m\u001b[43m \u001b[49m\u001b[43mopts\u001b[49m\u001b[43m)\u001b[49m\n",
      "File \u001b[0;32m~/PycharmProjects/llm_engineering/llms/lib/python3.10/site-packages/openai/_base_client.py:1047\u001b[0m, in \u001b[0;36mSyncAPIClient.request\u001b[0;34m(self, cast_to, options, stream, stream_cls)\u001b[0m\n\u001b[1;32m   1044\u001b[0m             err\u001b[38;5;241m.\u001b[39mresponse\u001b[38;5;241m.\u001b[39mread()\n\u001b[1;32m   1046\u001b[0m         log\u001b[38;5;241m.\u001b[39mdebug(\u001b[38;5;124m\"\u001b[39m\u001b[38;5;124mRe-raising status error\u001b[39m\u001b[38;5;124m\"\u001b[39m)\n\u001b[0;32m-> 1047\u001b[0m         \u001b[38;5;28;01mraise\u001b[39;00m \u001b[38;5;28mself\u001b[39m\u001b[38;5;241m.\u001b[39m_make_status_error_from_response(err\u001b[38;5;241m.\u001b[39mresponse) \u001b[38;5;28;01mfrom\u001b[39;00m\u001b[38;5;250m \u001b[39m\u001b[38;5;28;01mNone\u001b[39;00m\n\u001b[1;32m   1049\u001b[0m     \u001b[38;5;28;01mbreak\u001b[39;00m\n\u001b[1;32m   1051\u001b[0m \u001b[38;5;28;01massert\u001b[39;00m response \u001b[38;5;129;01mis\u001b[39;00m \u001b[38;5;129;01mnot\u001b[39;00m \u001b[38;5;28;01mNone\u001b[39;00m, \u001b[38;5;124m\"\u001b[39m\u001b[38;5;124mcould not resolve response (should never happen)\u001b[39m\u001b[38;5;124m\"\u001b[39m\n",
      "\u001b[0;31mPermissionDeniedError\u001b[0m: Error code: 403 - {'error': {'message': 'You have insufficient permissions for this operation. Check that you have the correct role in your organization (Owner).', 'type': 'invalid_request_error', 'param': None, 'code': None}}"
     ]
    }
   ],
   "source": [
    "response = openai.models.delete(my_model)\n",
    "print(response)"
   ]
  },
  {
   "cell_type": "code",
   "execution_count": null,
   "id": "3310ccb6",
   "metadata": {},
   "outputs": [],
   "source": []
  }
 ],
 "metadata": {
  "kernelspec": {
   "display_name": "llms",
   "language": "python",
   "name": "python3"
  },
  "language_info": {
   "codemirror_mode": {
    "name": "ipython",
    "version": 3
   },
   "file_extension": ".py",
   "mimetype": "text/x-python",
   "name": "python",
   "nbconvert_exporter": "python",
   "pygments_lexer": "ipython3",
   "version": "3.10.12"
  }
 },
 "nbformat": 4,
 "nbformat_minor": 5
}
