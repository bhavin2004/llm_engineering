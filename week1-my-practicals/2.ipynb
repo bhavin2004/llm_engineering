{
 "cells": [
  {
   "cell_type": "code",
   "execution_count": 2,
   "id": "4e2a9393-7767-488e-a8bf-27c12dca35bd",
   "metadata": {
    "ExecuteTime": {
     "end_time": "2025-08-24T12:07:16.142102Z",
     "start_time": "2025-08-24T12:07:16.136488Z"
    }
   },
   "outputs": [],
   "source": [
    "import requests\n",
    "from bs4 import BeautifulSoup\n",
    "from IPython.display import Markdown, display"
   ]
  },
  {
   "cell_type": "code",
   "execution_count": 3,
   "id": "29ddd15d-a3c5-4f4e-a678-873f56162724",
   "metadata": {
    "ExecuteTime": {
     "end_time": "2025-08-24T12:07:16.621045Z",
     "start_time": "2025-08-24T12:07:16.616389Z"
    }
   },
   "outputs": [],
   "source": [
    "OLLAMA_API = \"http://localhost:11434/api/chat\"\n",
    "HEADERS = {\"Content-Type\": \"application/json\"}\n",
    "MODEL = \"gemma3:1b\""
   ]
  },
  {
   "cell_type": "code",
   "execution_count": 4,
   "id": "dac0a679-599c-441f-9bf2-ddc73d35b940",
   "metadata": {
    "ExecuteTime": {
     "end_time": "2025-08-24T12:07:17.144999Z",
     "start_time": "2025-08-24T12:07:17.140238Z"
    }
   },
   "outputs": [],
   "source": [
    "messages = [\n",
    "    {\"role\": \"user\", \"content\": \"Describe some of the business applications of Generative AI in 2025\"}\n",
    "]"
   ]
  },
  {
   "cell_type": "code",
   "execution_count": 5,
   "id": "7bb9c624-14f0-4945-a719-8ddb64f66f47",
   "metadata": {
    "ExecuteTime": {
     "end_time": "2025-08-24T12:07:17.740082Z",
     "start_time": "2025-08-24T12:07:17.736224Z"
    }
   },
   "outputs": [],
   "source": [
    "payload = {\n",
    "        \"model\": MODEL,\n",
    "        \"messages\": messages,\n",
    "        \"stream\": False\n",
    "    }"
   ]
  },
  {
   "cell_type": "code",
   "execution_count": 6,
   "id": "479ff514-e8bd-4985-a572-2ea28bb4fa40",
   "metadata": {
    "ExecuteTime": {
     "end_time": "2025-08-24T12:07:18.448188Z",
     "start_time": "2025-08-24T12:07:18.288440Z"
    }
   },
   "outputs": [
    {
     "name": "stdout",
     "output_type": "stream",
     "text": [
      "\u001b[?2026h\u001b[?25l\u001b[1Gpulling manifest ⠋ \u001b[K\u001b[?25h\u001b[?2026l\u001b[?2026h\u001b[?25l\u001b[1Gpulling manifest ⠙ \u001b[K\u001b[?25h\u001b[?2026l\u001b[?2026h\u001b[?25l\u001b[1Gpulling manifest ⠹ \u001b[K\u001b[?25h\u001b[?2026l\u001b[?2026h\u001b[?25l\u001b[1Gpulling manifest ⠸ \u001b[K\u001b[?25h\u001b[?2026l\u001b[?2026h\u001b[?25l\u001b[1Gpulling manifest ⠼ \u001b[K\u001b[?25h\u001b[?2026l\u001b[?2026h\u001b[?25l\u001b[1Gpulling manifest ⠴ \u001b[K\u001b[?25h\u001b[?2026l\u001b[?2026h\u001b[?25l\u001b[1Gpulling manifest ⠦ \u001b[K\u001b[?25h\u001b[?2026l\u001b[?2026h\u001b[?25l\u001b[1Gpulling manifest ⠧ \u001b[K\u001b[?25h\u001b[?2026l\u001b[?2026h\u001b[?25l\u001b[1Gpulling manifest ⠇ \u001b[K\u001b[?25h\u001b[?2026l\u001b[?2026h\u001b[?25l\u001b[1Gpulling manifest ⠏ \u001b[K\u001b[?25h\u001b[?2026l\u001b[?2026h\u001b[?25l\u001b[1Gpulling manifest ⠋ \u001b[K\u001b[?25h\u001b[?2026l\u001b[?2026h\u001b[?25l\u001b[1Gpulling manifest ⠙ \u001b[K\u001b[?25h\u001b[?2026l\u001b[?2026h\u001b[?25l\u001b[1Gpulling manifest ⠹ \u001b[K\u001b[?25h\u001b[?2026l\u001b[?2026h\u001b[?25l\u001b[1Gpulling manifest ⠸ \u001b[K\u001b[?25h\u001b[?2026l\u001b[?2026h\u001b[?25l\u001b[1Gpulling manifest ⠼ \u001b[K\u001b[?25h\u001b[?2026l\u001b[?2026h\u001b[?25l\u001b[1Gpulling manifest ⠴ \u001b[K\u001b[?25h\u001b[?2026l\u001b[?2026h\u001b[?25l\u001b[1Gpulling manifest ⠦ \u001b[K\u001b[?25h\u001b[?2026l\u001b[?2026h\u001b[?25l\u001b[1Gpulling manifest ⠧ \u001b[K\u001b[?25h\u001b[?2026l\u001b[?2026h\u001b[?25l\u001b[1Gpulling manifest ⠇ \u001b[K\u001b[?25h\u001b[?2026l\u001b[?2026h\u001b[?25l\u001b[1Gpulling manifest ⠏ \u001b[K\u001b[?25h\u001b[?2026l\u001b[?2026h\u001b[?25l\u001b[1Gpulling manifest \u001b[K\n",
      "pulling 7cd4618c1faf: 100% ▕██████████████████▏ 815 MB                         \u001b[K\n",
      "pulling e0a42594d802: 100% ▕██████████████████▏  358 B                         \u001b[K\n",
      "pulling dd084c7d92a3: 100% ▕██████████████████▏ 8.4 KB                         \u001b[K\n",
      "pulling 3116c5225075: 100% ▕██████████████████▏   77 B                         \u001b[K\n",
      "pulling 120007c81bf8: 100% ▕██████████████████▏  492 B                         \u001b[K\n",
      "verifying sha256 digest \u001b[K\n",
      "writing manifest \u001b[K\n",
      "success \u001b[K\u001b[?25h\u001b[?2026l\n"
     ]
    }
   ],
   "source": [
    "!ollama pull gemma3:1b"
   ]
  },
  {
   "cell_type": "code",
   "execution_count": 7,
   "id": "42b9f644-522d-4e05-a691-56e7658c0ea9",
   "metadata": {
    "ExecuteTime": {
     "end_time": "2025-08-24T12:11:23.076127Z",
     "start_time": "2025-08-24T12:10:28.967362Z"
    }
   },
   "outputs": [
    {
     "name": "stdout",
     "output_type": "stream",
     "text": [
      "{'model': 'gemma3:1b', 'created_at': '2025-09-03T12:02:07.600163939Z', 'message': {'role': 'assistant', 'content': \"Okay, let's dive into some business applications of Generative AI in 2025. It's not just about generating pretty images anymore – it's becoming deeply integrated into workflows across almost every industry. Here’s a breakdown, broken down by area and projected impact:\\n\\n**1. Marketing & Sales - Hyper-Personalization & Content Creation**\\n\\n* **Dynamic Content Generation:** Generative AI will move beyond basic copywriting to create entirely unique marketing materials – website content, social media posts, email sequences, product descriptions, and even video scripts – tailored to individual users or segments *in real-time*. Think personalized product recommendations that are genuinely insightful and anticipate needs.\\n* **Avatar & Virtual Influencer Creation:** Businesses will use AI to rapidly generate realistic and engaging avatars for marketing campaigns and even virtual influencers. This reduces cost and increases engagement.\\n* **Market Research & Trend Prediction:** AI will analyze vast datasets (social media, news, consumer reviews, etc.) to identify emerging trends, predict consumer behavior, and generate hypotheses for product development and marketing.\\n* **Competitive Analysis:** AI will create deep-dive analyses of competitor strategies, messaging, and content, revealing vulnerabilities and opportunities.\\n* **Lead Scoring & Qualification:** Beyond simple scoring, AI will generate personalized narratives and scenarios for sales teams, optimizing lead engagement and increasing conversion rates.\\n\\n\\n**2. Product Development & Engineering**\\n\\n* **Rapid Prototyping & Design:** Generative AI will dramatically speed up the design process. Engineers will be able to quickly generate variations of designs, optimize for manufacturability, and even simulate performance.\\n* **Code Generation & Bug Detection:**  AI will become much more proficient at writing, testing, and debugging code – potentially automating a significant portion of the coding process.\\n* **Automated Test Case Creation:**  AI will generate comprehensive test cases based on product requirements, leading to faster and more reliable releases.\\n* **Personalized Product Customization:** Consumers will have much more tailored experiences, with AI generating specific product configurations based on their needs and preferences (think furniture, clothing, or even software interfaces).\\n\\n\\n**3. Operations & Supply Chain**\\n\\n* **Automated Documentation & Training:** AI will generate comprehensive manuals, training materials, and documentation for complex processes, reducing errors and speeding up onboarding.\\n* **Supply Chain Optimization:** Generative AI will create dynamic optimization models for logistics, demand forecasting, inventory management, and route planning.\\n* **Predictive Maintenance:** Analyzing sensor data and maintenance logs to predict equipment failures, allowing for proactive maintenance and minimizing downtime.\\n* **Process Automation (RPA Enhanced):**  AI will enhance Robotic Process Automation (RPA) by making it more adaptive and capable of handling complex, unstructured tasks.\\n\\n\\n**4. Customer Service & Support**\\n\\n* **AI-Powered Chatbots & Virtual Assistants:** Chatbots will move beyond basic questions to genuinely understand user intent and provide highly personalized assistance - anticipating needs and proactively offering solutions.\\n* **Automated Ticket Summarization & Routing:** AI will analyze customer support tickets and automatically summarize the issue, directing it to the appropriate agent or team.\\n* **Personalized Knowledge Base Generation:** AI will automatically create personalized knowledge base articles based on customer inquiries, reducing the need for human intervention.\\n* **Sentiment Analysis & Escalation:** AI will accurately gauge customer sentiment in real-time and intelligently escalate complex issues to human agents.\\n\\n\\n**5. HR & Recruitment**\\n\\n* **Resume Screening & Candidate Matching:**  AI will go beyond keyword matching to understand skills, experience, and cultural fit more accurately.\\n* **Personalized Skill Gap Identification:** Analyzing employee profiles to pinpoint areas where training and development are needed.\\n* **Automated Interview Script Generation:** AI can create diverse interview questions and analyze candidate responses for specific competencies.\\n* **Onboarding Automation:** Personalized onboarding experiences, including AI-generated training materials and customized guidance.\\n\\n\\n**Key Trends Driving This Growth:**\\n\\n* **Increased Compute Power:**  More powerful hardware (GPUs, TPUs) will enable more complex and sophisticated models.\\n* **Larger & More Diverse Datasets:**  Access to more data (text, images, video, code, etc.) is crucial.\\n* **Better Model Architectures:** Advances in Transformer models and other architectures will enhance the ability of AI to understand context and generate coherent outputs.\\n* **Focus on Ethical AI:** Increased scrutiny and regulation regarding bias, fairness, and transparency will influence model design and deployment.\\n\\n\\n**Important Note:**  While these applications are promising, ethical considerations – particularly regarding misinformation, deepfakes, and job displacement – will continue to be critical as Generative AI matures.\\n\\n\\n\\nTo help me refine this further and provide even more targeted insights, could you tell me:\\n\\n*   **What industry are you most interested in?** (e.g., marketing, healthcare, finance, etc.)\\n*   **Are you more focused on practical implementation or theoretical advancements?**\"}, 'done_reason': 'stop', 'done': True, 'total_duration': 54861596397, 'load_duration': 198197495, 'prompt_eval_count': 25, 'prompt_eval_duration': 419265433, 'eval_count': 1018, 'eval_duration': 54243454540}\n",
      "54.86792516708374\n"
     ]
    }
   ],
   "source": [
    "import time\n",
    "now = time.time()\n",
    "response = requests.post(OLLAMA_API, json=payload, headers=HEADERS)\n",
    "print(response.json())\n",
    "print(time.time()-now)"
   ]
  },
  {
   "cell_type": "code",
   "execution_count": 11,
   "id": "7745b9c4-57dc-4867-9180-61fa5db55eb8",
   "metadata": {
    "ExecuteTime": {
     "end_time": "2025-08-24T12:12:16.793085Z",
     "start_time": "2025-08-24T12:11:23.093693Z"
    }
   },
   "outputs": [
    {
     "name": "stdout",
     "output_type": "stream",
     "text": [
      "<IPython.core.display.Markdown object>\n",
      "54.1345419883728\n"
     ]
    }
   ],
   "source": [
    "import ollama\n",
    "now = time.time()\n",
    "response = ollama.chat(model=MODEL, messages=messages)\n",
    "print(Markdown(response['message']['content']))\n",
    "print(time.time()-now)"
   ]
  },
  {
   "cell_type": "markdown",
   "id": "915aeaa8",
   "metadata": {},
   "source": [
    "## 2"
   ]
  },
  {
   "cell_type": "code",
   "execution_count": 9,
   "id": "23057e00-b6fc-4678-93a9-6b31cb704bff",
   "metadata": {
    "ExecuteTime": {
     "end_time": "2025-08-24T12:13:33.094558Z",
     "start_time": "2025-08-24T12:12:44.195747Z"
    }
   },
   "outputs": [
    {
     "name": "stdout",
     "output_type": "stream",
     "text": [
      "Okay, let's dive into some exciting business applications of Generative AI in 2025. It’s not just about generating pretty images anymore – it’s about fundamentally changing how businesses operate and create value. Here’s a breakdown, broken down into categories and with a focus on what’s likely to be most impactful:\n",
      "\n",
      "**1. Creative & Content Production – Significantly Elevated:**\n",
      "\n",
      "* **Hyper-Personalized Content Creation:** Generative AI will become *extremely* sophisticated at creating content tailored to individual users. Think:\n",
      "    * **Dynamic Marketing Campaigns:** AI will generate variations of ad copy, imagery, and even entire landing pages *that are dynamically adjusted* based on individual user data, browsing history, and even predicted preferences.\n",
      "    * **Personalized Storytelling:** Businesses creating narratives for products, services, or even training materials will use AI to rapidly draft compelling stories that resonate with specific demographics.\n",
      "    * **Visual Content Studios:** Expect AI to vastly accelerate the design process – generating textures, styles, entire scenes, and even short video clips based on text prompts.\n",
      "* **Software & Code Generation Expansion:**\n",
      "    * **Rapid Prototype Demos:** Developers will use AI to generate UI/UX prototypes, test different design choices, and quickly identify usability issues, saving enormous time and cost.\n",
      "    * **Automated Code Completion & Refactoring:** Goes far beyond basic auto-completion. AI will understand complex codebases and suggest entire blocks of code, automatically refactor code to improve efficiency and readability.\n",
      "* **Creative Product Design:**  Fashion, product design, architecture -  AI will handle initial design concepts, explore variations, and even create preliminary designs based on user input.\n",
      "\n",
      "**2. Operational Efficiency & Automation – Core Transformation:**\n",
      "\n",
      "* **Customer Service Revolution:**\n",
      "    * **AI-Powered Agent Assistants:** Generative AI will handle more complex customer inquiries than ever before – providing tailored solutions, escalating issues effectively, and proactively offering support.\n",
      "    * **Automated Chatbot Narrative Generation:** AI can craft more natural and engaging chatbot conversations, improving user experience and reducing the workload on human agents.\n",
      "* **Data Analysis & Insights Generation:**\n",
      "    * **Synthetic Data Generation:** Businesses will increasingly use AI to create realistic, labeled synthetic data (patient records, market data, financial transactions) to train AI models without compromising privacy.\n",
      "    * **Automated Report Summarization & Insight Discovery:** AI will automatically summarize complex data sets, identify key trends, and generate actionable insights for stakeholders – drastically reducing manual effort.\n",
      "* **Supply Chain Optimization:** AI-powered generative models will simulate different supply chain scenarios and generate optimal routes, inventory levels, and risk mitigation strategies.\n",
      "\n",
      "**3.  Strategic & Business Intelligence – Advanced Capabilities:**\n",
      "\n",
      "* **Market Research & Trend Forecasting:**  AI will analyze vast datasets – social media conversations, news articles, competitor analysis, and more – to *synthesize* emerging market trends and predict future shifts with far greater accuracy.\n",
      "* **Competitive Intelligence:**  Instead of just scraping data, AI will generate sophisticated simulations of competitive strategies – predicting their responses to new product releases, marketing campaigns, or pricing changes.\n",
      "* **Strategic Content Planning:** AI will analyze market data, competitor analysis, customer feedback, and emerging trends to generate detailed content plans – identifying optimal channels, topics, and formats for reaching target audiences.\n",
      "* **Risk Management & Compliance:** Create detailed simulations of potential risks and vulnerabilities based on a business's risk profile and external data, helping to outline compliance strategies.\n",
      "\n",
      "\n",
      "**4.  Specialized Applications – Differentiated Growth:**\n",
      "\n",
      "* **Healthcare (specifically, personalized medicine):**  Generative AI will create highly customized drug trials, tailored treatment plans, and even predict patient outcomes based on individual genetic profiles.\n",
      "* **Financial Services (fraud detection and algorithmic trading):** More sophisticated fraud detection that can handle novel attacks and dynamic patterns, improved market-making algorithms.\n",
      "* **Legal (contract review, legal document generation):** Rapidly generate legal documents and potentially perform preliminary analysis of legal situations.\n",
      "\n",
      "\n",
      "**Key Trends Driving This Growth:**\n",
      "\n",
      "* **Multimodal AI:** AI that can understand and generate across text, images, audio, and video – combining these modalities for more powerful AI.\n",
      "* **Agent AI:**  Systems that intelligently manage and coordinate multiple AI agents to achieve complex goals – moving beyond simple automation.\n",
      "* **Personalization at Scale:**  The ability to create hyper-personalized experiences for massive audiences – driven by generative AI.\n",
      "* **Reinforcement Learning:**  AI models will learn from feedback and optimize their outputs over time, making them more reliable and effective.\n",
      "\n",
      "**Challenges to Consider (Important for 2025):**\n",
      "\n",
      "* **Bias Mitigation:** Addressing inherent biases in training data is crucial.\n",
      "* **Hallucination Prevention:** Ensuring AI models don't fabricate information.\n",
      "* **Ethical Governance:** Establishing frameworks for responsible AI development and deployment.  Copyright and intellectual property issues will become more complex.\n",
      "* **Explainability & Trust:** Users need to understand *why* an AI has made a particular recommendation or decision.\n",
      "\n",
      "\n",
      "To summarize, Generative AI in 2025 will be less about *replacing* humans and more about *augmenting* human capabilities dramatically. It will be a powerful tool for creativity, automation, and strategic decision-making, driving significant changes across nearly every business sector.\n",
      "\n",
      "To help me refine this even further, could you tell me:\n",
      "\n",
      "*   What industry are you most interested in? (e.g., marketing, finance, healthcare?)\n",
      "*   What specific types of business applications are you most concerned with?\n"
     ]
    }
   ],
   "source": [
    "from openai import OpenAI\n",
    "ollama_via_openai = OpenAI(base_url='http://localhost:11434/v1', api_key='ollama')\n",
    "\n",
    "response = ollama_via_openai.chat.completions.create(\n",
    "    model=MODEL,\n",
    "    messages=messages\n",
    ")\n",
    "\n",
    "print(response.choices[0].message.content)"
   ]
  },
  {
   "cell_type": "code",
   "execution_count": 10,
   "id": "1d3d554b-e00d-4c08-9300-45e073950a76",
   "metadata": {},
   "outputs": [
    {
     "name": "stdout",
     "output_type": "stream",
     "text": [
      "<think>\n",
      "Okay, so I need to understand what cores of language models are based on. The user specifically asked about neural networks, attention, and transformers. Hmm, starting with the first part about backpropagation and layers. Wait, in this context, it's more like defining how AI learns rather than traditional neural networks.\n",
      "\n",
      "I remember deep learning involves neural networks, so maybe that's part of what's being referred to here. The user might be confused between traditional machine learning (ML) which just uses layers and activation functions, versus deep learning which includes techniques like backpropagation in training models. So, LLMs use deep learning frameworks and methods for learning from data, which makes sense.\n",
      "\n",
      "Next, attention mechanisms. I think in sequence models, like RNNs or transformers, without attention, the model would look at every position in time step by time step. But that's not efficient because with the right attention mechanism, it can focus on important parts of a sequence at once. Oh, and the user mentionedattention mechanisms, which makes me think about how each word attends to meaning within a sentence or phrase without looking at everything.\n",
      "\n",
      "Then the transformer model. I know transformers have something to do with attention. Wait, no, actually, each model might use different attention mechanisms but it's the Transformer itself that has this attention mechanism. So in models like the self-attention layer in transformers, the model attends to all positions simultaneously, which is more efficient than previous RNNs.\n",
      "\n",
      "Putting it together: neural networks provide the structure and learning mechanisms for LLMs. Attention allows machines to focus on key parts of input during processing. Transformers offer a model architecture with attention that processes sequences efficiently.\n",
      "</think>\n",
      "\n",
      "Certainly! Here's a detailed explanation based on your query:\n",
      "\n",
      "1. **Neural Networks in LLMs**: \n",
      "   - While traditional machine learning (ML) uses algorithms like logistic regression or decision trees, LLMs leverage deep learning frameworks such as neural networks. These models consist of layers that process sequential data through operations inspired by biological neurons, allowing them to model complex patterns in input.\n",
      "\n",
      "2. **Attention Mechanisms**:\n",
      "   - In the context of these models, attention refers to mechanisms where each word in a sequence attends locally to meaning within a sentence/phrase rather than globally, enabling more effective learning and understanding of contexts.\n",
      "\n",
      "3. **Transformers**:\n",
      "   - The Transformer model introduces self-attention, a mechanism where each position in the input attend simultaneously and collectively to all positions across sequences when processing new ones. This is notably efficient compared to older recurrent neural network approaches that relied on sequential time steps.\n",
      "\n",
      "So, in summary, LLMs are deeply integrated with deep learning, using neural networks for structure, attention mechanisms for focusing on critical parts of input data, and the Transformer architecture's self-attention mechanism for efficient sequence processing.\n"
     ]
    }
   ],
   "source": [
    "response = ollama_via_openai.chat.completions.create(\n",
    "    model=\"deepseek-r1:1.5b\",\n",
    "    messages=[{\"role\": \"user\", \"content\": \"Please give definitions of some core concepts behind LLMs: a neural network, attention and the transformer\"}]\n",
    ")\n",
    "\n",
    "print(response.choices[0].message.content)"
   ]
  },
  {
   "cell_type": "code",
   "execution_count": null,
   "id": "6de38216-6d1c-48c4-877b-86d403f4e0f8",
   "metadata": {},
   "outputs": [],
   "source": []
  }
 ],
 "metadata": {
  "kernelspec": {
   "display_name": "llms",
   "language": "python",
   "name": "python3"
  },
  "language_info": {
   "codemirror_mode": {
    "name": "ipython",
    "version": 3
   },
   "file_extension": ".py",
   "mimetype": "text/x-python",
   "name": "python",
   "nbconvert_exporter": "python",
   "pygments_lexer": "ipython3",
   "version": "3.10.12"
  }
 },
 "nbformat": 4,
 "nbformat_minor": 5
}
